{
 "cells": [
  {
   "cell_type": "markdown",
   "metadata": {},
   "source": [
    "# Sentiment Analysis Web App\n",
    "\n",
    "_Deep Learning Nanodegree Program | Deployment_\n",
    "\n",
    "---\n",
    "\n",
    "In this notebook we will use Amazon's SageMaker service to construct a random tree model to predict the sentiment of a movie review. In addition, we will deploy this model to an endpoint and construct a very simple web app which will interact with our model's deployed endpoint.\n",
    "\n",
    "## General Outline\n",
    "\n",
    "Typically, when using a notebook instance with SageMaker, you will proceed through the following steps. Of course, not every step will need to be done with each project. Also, there is quite a lot of room for variation in many of the steps, as you will see throughout these lessons.\n",
    "\n",
    "1. Download or otherwise retrieve the data.\n",
    "2. Process / Prepare the data.\n",
    "3. Upload the processed data to S3.\n",
    "4. Train a chosen model.\n",
    "5. Test the trained model (typically using a batch transform job).\n",
    "6. Deploy the trained model.\n",
    "7. Use the deployed model.\n",
    "\n",
    "In this notebook we will progress through each of the steps above. We will also see that the final step, using the deployed model, can be quite challenging."
   ]
  },
  {
   "cell_type": "markdown",
   "metadata": {},
   "source": [
    "## Step 1: Downloading the data\n",
    "\n",
    "The dataset we are going to use is very popular among researchers in Natural Language Processing, usually referred to as the [IMDb dataset](http://ai.stanford.edu/~amaas/data/sentiment/). It consists of movie reviews from the website [imdb.com](http://www.imdb.com/), each labeled as either '**pos**itive', if the reviewer enjoyed the film, or '**neg**ative' otherwise.\n",
    "\n",
    "> Maas, Andrew L., et al. [Learning Word Vectors for Sentiment Analysis](http://ai.stanford.edu/~amaas/data/sentiment/). In _Proceedings of the 49th Annual Meeting of the Association for Computational Linguistics: Human Language Technologies_. Association for Computational Linguistics, 2011.\n",
    "\n",
    "We begin by using some Jupyter Notebook magic to download and extract the dataset."
   ]
  },
  {
   "cell_type": "code",
   "execution_count": 1,
   "metadata": {},
   "outputs": [
    {
     "name": "stdout",
     "output_type": "stream",
     "text": [
      "mkdir: cannot create directory ‘../data’: File exists\n",
      "--2018-10-15 04:18:09--  http://ai.stanford.edu/~amaas/data/sentiment/aclImdb_v1.tar.gz\n",
      "Resolving ai.stanford.edu (ai.stanford.edu)... 171.64.68.10\n",
      "Connecting to ai.stanford.edu (ai.stanford.edu)|171.64.68.10|:80... connected.\n",
      "HTTP request sent, awaiting response... 200 OK\n",
      "Length: 84125825 (80M) [application/x-gzip]\n",
      "Saving to: ‘../data/aclImdb_v1.tar.gz’\n",
      "\n",
      "../data/aclImdb_v1. 100%[===================>]  80.23M  10.8MB/s    in 9.2s    \n",
      "\n",
      "2018-10-15 04:18:20 (8.72 MB/s) - ‘../data/aclImdb_v1.tar.gz’ saved [84125825/84125825]\n",
      "\n"
     ]
    }
   ],
   "source": [
    "%mkdir ../data\n",
    "!wget -O ../data/aclImdb_v1.tar.gz http://ai.stanford.edu/~amaas/data/sentiment/aclImdb_v1.tar.gz\n",
    "!tar -zxf ../data/aclImdb_v1.tar.gz -C ../data"
   ]
  },
  {
   "cell_type": "markdown",
   "metadata": {},
   "source": [
    "## Step 2: Preparing and Processing the data\n",
    "\n",
    "The data we have downloaded is split into various files, each of which contains a single review. It will be much easier going forward if we combine these individual files into two large files, one for training and one for testing."
   ]
  },
  {
   "cell_type": "code",
   "execution_count": 2,
   "metadata": {},
   "outputs": [],
   "source": [
    "import os\n",
    "import glob\n",
    "\n",
    "def read_imdb_data(data_dir='../data/aclImdb'):\n",
    "    data = {}\n",
    "    labels = {}\n",
    "    \n",
    "    for data_type in ['train', 'test']:\n",
    "        data[data_type] = {}\n",
    "        labels[data_type] = {}\n",
    "        \n",
    "        for sentiment in ['pos', 'neg']:\n",
    "            data[data_type][sentiment] = []\n",
    "            labels[data_type][sentiment] = []\n",
    "            \n",
    "            path = os.path.join(data_dir, data_type, sentiment, '*.txt')\n",
    "            files = glob.glob(path)\n",
    "            \n",
    "            for f in files:\n",
    "                with open(f) as review:\n",
    "                    data[data_type][sentiment].append(review.read())\n",
    "                    # Here we represent a positive review by '1' and a negative review by '0'\n",
    "                    labels[data_type][sentiment].append(1 if sentiment == 'pos' else 0)\n",
    "                    \n",
    "            assert len(data[data_type][sentiment]) == len(labels[data_type][sentiment]), \\\n",
    "                    \"{}/{} data size does not match labels size\".format(data_type, sentiment)\n",
    "                \n",
    "    return data, labels"
   ]
  },
  {
   "cell_type": "code",
   "execution_count": 3,
   "metadata": {},
   "outputs": [
    {
     "name": "stdout",
     "output_type": "stream",
     "text": [
      "IMDB reviews: train = 12500 pos / 12500 neg, test = 12500 pos / 12500 neg\n"
     ]
    }
   ],
   "source": [
    "data, labels = read_imdb_data()\n",
    "print(\"IMDB reviews: train = {} pos / {} neg, test = {} pos / {} neg\".format(\n",
    "            len(data['train']['pos']), len(data['train']['neg']),\n",
    "            len(data['test']['pos']), len(data['test']['neg'])))"
   ]
  },
  {
   "cell_type": "code",
   "execution_count": 4,
   "metadata": {},
   "outputs": [],
   "source": [
    "from sklearn.utils import shuffle\n",
    "\n",
    "def prepare_imdb_data(data, labels):\n",
    "    \"\"\"Prepare training and test sets from IMDb movie reviews.\"\"\"\n",
    "    \n",
    "    #Combine positive and negative reviews and labels\n",
    "    data_train = data['train']['pos'] + data['train']['neg']\n",
    "    data_test = data['test']['pos'] + data['test']['neg']\n",
    "    labels_train = labels['train']['pos'] + labels['train']['neg']\n",
    "    labels_test = labels['test']['pos'] + labels['test']['neg']\n",
    "    \n",
    "    #Shuffle reviews and corresponding labels within training and test sets\n",
    "    data_train, labels_train = shuffle(data_train, labels_train)\n",
    "    data_test, labels_test = shuffle(data_test, labels_test)\n",
    "    \n",
    "    # Return a unified training data, test data, training labels, test labets\n",
    "    return data_train, data_test, labels_train, labels_test"
   ]
  },
  {
   "cell_type": "code",
   "execution_count": 5,
   "metadata": {},
   "outputs": [
    {
     "name": "stdout",
     "output_type": "stream",
     "text": [
      "IMDb reviews (combined): train = 25000, test = 25000\n"
     ]
    }
   ],
   "source": [
    "train_X, test_X, train_y, test_y = prepare_imdb_data(data, labels)\n",
    "print(\"IMDb reviews (combined): train = {}, test = {}\".format(len(train_X), len(test_X)))"
   ]
  },
  {
   "cell_type": "code",
   "execution_count": 6,
   "metadata": {},
   "outputs": [
    {
     "data": {
      "text/plain": [
       "\"This film tells the story of a romance between Albert Einstien niece and a gas station attendant. In order to get the two together, Einstien agrees to help Ed(Hudsucker Proxy's Tim Robbins) learn to act more intelligent. This impresses Catherine (Meg Ryan). Unfortunately Einstien goes too far and Ed is considered to be a genius. Hilarity ensues. Not to be missed. Filmed in Mercer county New Jersey at Princeton University, Lawrenceville Prep School (doubling for Princeton University) as well as a beautiful vintage gas station in Hopewell.\""
      ]
     },
     "execution_count": 6,
     "metadata": {},
     "output_type": "execute_result"
    }
   ],
   "source": [
    "train_X[100]"
   ]
  },
  {
   "cell_type": "markdown",
   "metadata": {},
   "source": [
    "## Processing the data\n",
    "\n",
    "Now that we have our training and testing datasets merged and ready to use, we need to start processing the raw data into something that will be useable by our machine learning algorithm. To begin with, we remove any html formatting and any non-alpha numeric characters that may appear in the reviews. We will do this in a very simplistic way using Python's regular expression module. We will discuss the reason for this rather simplistic pre-processing later on."
   ]
  },
  {
   "cell_type": "code",
   "execution_count": 7,
   "metadata": {},
   "outputs": [],
   "source": [
    "import re\n",
    "\n",
    "REPLACE_NO_SPACE = re.compile(\"(\\.)|(\\;)|(\\:)|(\\!)|(\\')|(\\?)|(\\,)|(\\\")|(\\()|(\\))|(\\[)|(\\])\")\n",
    "REPLACE_WITH_SPACE = re.compile(\"(<br\\s*/><br\\s*/>)|(\\-)|(\\/)\")\n",
    "\n",
    "def review_to_words(review):\n",
    "    words = REPLACE_NO_SPACE.sub(\"\", review.lower())\n",
    "    words = REPLACE_WITH_SPACE.sub(\" \", words)\n",
    "    return words"
   ]
  },
  {
   "cell_type": "code",
   "execution_count": 8,
   "metadata": {},
   "outputs": [
    {
     "data": {
      "text/plain": [
       "'this film tells the story of a romance between albert einstien niece and a gas station attendant in order to get the two together einstien agrees to help edhudsucker proxys tim robbins learn to act more intelligent this impresses catherine meg ryan unfortunately einstien goes too far and ed is considered to be a genius hilarity ensues not to be missed filmed in mercer county new jersey at princeton university lawrenceville prep school doubling for princeton university as well as a beautiful vintage gas station in hopewell'"
      ]
     },
     "execution_count": 8,
     "metadata": {},
     "output_type": "execute_result"
    }
   ],
   "source": [
    "review_to_words(train_X[100])"
   ]
  },
  {
   "cell_type": "code",
   "execution_count": 9,
   "metadata": {},
   "outputs": [],
   "source": [
    "import pickle\n",
    "\n",
    "cache_dir = os.path.join(\"../cache\", \"sentiment_web_app\")  # where to store cache files\n",
    "os.makedirs(cache_dir, exist_ok=True)  # ensure cache directory exists\n",
    "\n",
    "def preprocess_data(data_train, data_test, labels_train, labels_test,\n",
    "                    cache_dir=cache_dir, cache_file=\"preprocessed_data.pkl\"):\n",
    "    \"\"\"Convert each review to words; read from cache if available.\"\"\"\n",
    "\n",
    "    # If cache_file is not None, try to read from it first\n",
    "    cache_data = None\n",
    "    if cache_file is not None:\n",
    "        try:\n",
    "            with open(os.path.join(cache_dir, cache_file), \"rb\") as f:\n",
    "                cache_data = pickle.load(f)\n",
    "            print(\"Read preprocessed data from cache file:\", cache_file)\n",
    "        except:\n",
    "            pass  # unable to read from cache, but that's okay\n",
    "    \n",
    "    # If cache is missing, then do the heavy lifting\n",
    "    if cache_data is None:\n",
    "        # Preprocess training and test data to obtain words for each review\n",
    "        #words_train = list(map(review_to_words, data_train))\n",
    "        #words_test = list(map(review_to_words, data_test))\n",
    "        words_train = [review_to_words(review) for review in data_train]\n",
    "        words_test = [review_to_words(review) for review in data_test]\n",
    "        \n",
    "        # Write to cache file for future runs\n",
    "        if cache_file is not None:\n",
    "            cache_data = dict(words_train=words_train, words_test=words_test,\n",
    "                              labels_train=labels_train, labels_test=labels_test)\n",
    "            with open(os.path.join(cache_dir, cache_file), \"wb\") as f:\n",
    "                pickle.dump(cache_data, f)\n",
    "            print(\"Wrote preprocessed data to cache file:\", cache_file)\n",
    "    else:\n",
    "        # Unpack data loaded from cache file\n",
    "        words_train, words_test, labels_train, labels_test = (cache_data['words_train'],\n",
    "                cache_data['words_test'], cache_data['labels_train'], cache_data['labels_test'])\n",
    "    \n",
    "    return words_train, words_test, labels_train, labels_test"
   ]
  },
  {
   "cell_type": "code",
   "execution_count": 10,
   "metadata": {},
   "outputs": [
    {
     "name": "stdout",
     "output_type": "stream",
     "text": [
      "Wrote preprocessed data to cache file: preprocessed_data.pkl\n"
     ]
    }
   ],
   "source": [
    "# Preprocess data\n",
    "train_X, test_X, train_y, test_y = preprocess_data(train_X, test_X, train_y, test_y)"
   ]
  },
  {
   "cell_type": "markdown",
   "metadata": {},
   "source": [
    "### Extract Bag-of-Words features\n",
    "\n",
    "For the model we will be implementing, rather than using the reviews directly, we are going to transform each review into a Bag-of-Words feature representation. Keep in mind that 'in the wild' we will only have access to the training set so our transformer can only use the training set to construct a representation."
   ]
  },
  {
   "cell_type": "code",
   "execution_count": 11,
   "metadata": {},
   "outputs": [],
   "source": [
    "import numpy as np\n",
    "from sklearn.feature_extraction.text import CountVectorizer\n",
    "from sklearn.externals import joblib\n",
    "# joblib is an enhanced version of pickle that is more efficient for storing NumPy arrays\n",
    "\n",
    "def extract_BoW_features(words_train, words_test, vocabulary_size=5000,\n",
    "                         cache_dir=cache_dir, cache_file=\"bow_features.pkl\"):\n",
    "    \"\"\"Extract Bag-of-Words for a given set of documents, already preprocessed into words.\"\"\"\n",
    "    \n",
    "    # If cache_file is not None, try to read from it first\n",
    "    cache_data = None\n",
    "    if cache_file is not None:\n",
    "        try:\n",
    "            with open(os.path.join(cache_dir, cache_file), \"rb\") as f:\n",
    "                cache_data = joblib.load(f)\n",
    "            print(\"Read features from cache file:\", cache_file)\n",
    "        except:\n",
    "            pass  # unable to read from cache, but that's okay\n",
    "    \n",
    "    # If cache is missing, then do the heavy lifting\n",
    "    if cache_data is None:\n",
    "        # Fit a vectorizer to training documents and use it to transform them\n",
    "        # NOTE: Training documents have already been preprocessed and tokenized into words;\n",
    "        #       pass in dummy functions to skip those steps, e.g. preprocessor=lambda x: x\n",
    "        vectorizer = CountVectorizer(max_features=vocabulary_size)\n",
    "        features_train = vectorizer.fit_transform(words_train).toarray()\n",
    "\n",
    "        # Apply the same vectorizer to transform the test documents (ignore unknown words)\n",
    "        features_test = vectorizer.transform(words_test).toarray()\n",
    "        \n",
    "        # NOTE: Remember to convert the features using .toarray() for a compact representation\n",
    "        \n",
    "        # Write to cache file for future runs (store vocabulary as well)\n",
    "        if cache_file is not None:\n",
    "            vocabulary = vectorizer.vocabulary_\n",
    "            cache_data = dict(features_train=features_train, features_test=features_test,\n",
    "                             vocabulary=vocabulary)\n",
    "            with open(os.path.join(cache_dir, cache_file), \"wb\") as f:\n",
    "                joblib.dump(cache_data, f)\n",
    "            print(\"Wrote features to cache file:\", cache_file)\n",
    "    else:\n",
    "        # Unpack data loaded from cache file\n",
    "        features_train, features_test, vocabulary = (cache_data['features_train'],\n",
    "                cache_data['features_test'], cache_data['vocabulary'])\n",
    "    \n",
    "    # Return both the extracted features as well as the vocabulary\n",
    "    return features_train, features_test, vocabulary"
   ]
  },
  {
   "cell_type": "code",
   "execution_count": 12,
   "metadata": {},
   "outputs": [
    {
     "name": "stdout",
     "output_type": "stream",
     "text": [
      "Wrote features to cache file: bow_features.pkl\n"
     ]
    }
   ],
   "source": [
    "# Extract Bag of Words features for both training and test datasets\n",
    "train_X, test_X, vocabulary = extract_BoW_features(train_X, test_X)"
   ]
  },
  {
   "cell_type": "code",
   "execution_count": 13,
   "metadata": {},
   "outputs": [
    {
     "data": {
      "text/plain": [
       "5000"
      ]
     },
     "execution_count": 13,
     "metadata": {},
     "output_type": "execute_result"
    }
   ],
   "source": [
    "len(train_X[100])"
   ]
  },
  {
   "cell_type": "markdown",
   "metadata": {},
   "source": [
    "## Step 3: Upload data to S3\n",
    "\n",
    "Now that we have created the feature representation of our training (and testing) data, it is time to start setting up and using the XGBoost classifier provided by SageMaker.\n",
    "\n",
    "### Writing the datasets\n",
    "\n",
    "The XGBoost classifier that we will be using requires the dataset to be written to a file and stored using Amazon S3. To do this, we will start by splitting the training dataset into two parts, the data we will train the model with and a validation set. Then, we will write those datasets to a file and upload the files to S3. In addition, we will write the test set input to a file and upload the file to S3. This is so that we can use SageMakers Batch Transform functionality to test our model once we've fit it."
   ]
  },
  {
   "cell_type": "code",
   "execution_count": 14,
   "metadata": {},
   "outputs": [],
   "source": [
    "import pandas as pd\n",
    "\n",
    "# Earlier we shuffled the training dataset so to make things simple we can just assign\n",
    "# the first 10 000 reviews to the validation set and use the remaining reviews for training.\n",
    "val_X = pd.DataFrame(train_X[:10000])\n",
    "train_X = pd.DataFrame(train_X[10000:])\n",
    "\n",
    "val_y = pd.DataFrame(train_y[:10000])\n",
    "train_y = pd.DataFrame(train_y[10000:])"
   ]
  },
  {
   "cell_type": "markdown",
   "metadata": {},
   "source": [
    "The documentation for the XGBoost algorithm in SageMaker requires that the training and validation datasets should contain no headers or index and that the label should occur first for each sample.\n",
    "\n",
    "For more information about this and other algorithms, the SageMaker developer documentation can be found on __[Amazon's website.](https://docs.aws.amazon.com/sagemaker/latest/dg/)__"
   ]
  },
  {
   "cell_type": "code",
   "execution_count": 15,
   "metadata": {},
   "outputs": [],
   "source": [
    "# First we make sure that the local directory in which we'd like to store the training and validation csv files exists.\n",
    "data_dir = '../data/sentiment_web_app'\n",
    "if not os.path.exists(data_dir):\n",
    "    os.makedirs(data_dir)"
   ]
  },
  {
   "cell_type": "code",
   "execution_count": 16,
   "metadata": {},
   "outputs": [],
   "source": [
    "pd.DataFrame(test_X).to_csv(os.path.join(data_dir, 'test.csv'), header=False, index=False)\n",
    "\n",
    "pd.concat([val_y, val_X], axis=1).to_csv(os.path.join(data_dir, 'validation.csv'), header=False, index=False)\n",
    "pd.concat([train_y, train_X], axis=1).to_csv(os.path.join(data_dir, 'train.csv'), header=False, index=False)"
   ]
  },
  {
   "cell_type": "code",
   "execution_count": 17,
   "metadata": {},
   "outputs": [],
   "source": [
    "# To save a bit of memory we can set text_X, train_X, val_X, train_y and val_y to None.\n",
    "\n",
    "test_X = train_X = val_X = train_y = val_y = None"
   ]
  },
  {
   "cell_type": "markdown",
   "metadata": {},
   "source": [
    "### Uploading Training / Validation files to S3\n",
    "\n",
    "Amazon's S3 service allows us to store files that can be access by both the built-in training models such as the XGBoost model we will be using as well as custom models such as the one we will see a little later.\n",
    "\n",
    "For this, and most other tasks we will be doing using SageMaker, there are two methods we could use. The first is to use the low level functionality of SageMaker which requires knowing each of the objects involved in the SageMaker environment. The second is to use the high level functionality in which certain choices have been made on the user's behalf. The low level approach benefits from allowing the user a great deal of flexibility while the high level approach makes development much quicker. For our purposes we will opt to use the high level approach although using the low-level approach is certainly an option.\n",
    "\n",
    "Recall the method `upload_data()` which is a member of object representing our current SageMaker session. What this method does is upload the data to the default bucket (which is created if it does not exist) into the path described by the key_prefix variable. To see this for yourself, once you have uploaded the data files, go to the S3 console and look to see where the files have been uploaded.\n",
    "\n",
    "For additional resources, see the __[SageMaker API documentation](http://sagemaker.readthedocs.io/en/latest/)__ and in addition the __[SageMaker Developer Guide.](https://docs.aws.amazon.com/sagemaker/latest/dg/)__"
   ]
  },
  {
   "cell_type": "code",
   "execution_count": 18,
   "metadata": {},
   "outputs": [
    {
     "name": "stderr",
     "output_type": "stream",
     "text": [
      "INFO:sagemaker:Created S3 bucket: sagemaker-us-east-1-440180731255\n"
     ]
    }
   ],
   "source": [
    "import sagemaker\n",
    "\n",
    "session = sagemaker.Session() # Store the current SageMaker session\n",
    "\n",
    "# S3 prefix (which folder will we use)\n",
    "prefix = 'sentiment-web-app'\n",
    "\n",
    "test_location = session.upload_data(os.path.join(data_dir, 'test.csv'), key_prefix=prefix)\n",
    "val_location = session.upload_data(os.path.join(data_dir, 'validation.csv'), key_prefix=prefix)\n",
    "train_location = session.upload_data(os.path.join(data_dir, 'train.csv'), key_prefix=prefix)"
   ]
  },
  {
   "cell_type": "markdown",
   "metadata": {},
   "source": [
    "## Step 4: Creating the XGBoost model\n",
    "\n",
    "Now that the data has been uploaded it is time to create the XGBoost model. To begin with, we need to do some setup. At this point it is worth discussing what a model is in SageMaker. It is easiest to think of a model of comprising three different objects in the SageMaker ecosystem, which interact with one another.\n",
    "\n",
    "- Model Artifacts\n",
    "- Training Code (Container)\n",
    "- Inference Code (Container)\n",
    "\n",
    "The Model Artifacts are what you might think of as the actual model itself. For example, if you were building a neural network, the model artifacts would be the weights of the various layers. In our case, for an XGBoost model, the artifacts are the actual trees that are created during training.\n",
    "\n",
    "The other two objects, the training code and the inference code are then used the manipulate the training artifacts. More precisely, the training code uses the training data that is provided and creates the model artifacts, while the inference code uses the model artifacts to make predictions on new data.\n",
    "\n",
    "The way that SageMaker runs the training and inference code is by making use of Docker containers. For now, think of a container as being a way of packaging code up so that dependencies aren't an issue."
   ]
  },
  {
   "cell_type": "code",
   "execution_count": 19,
   "metadata": {},
   "outputs": [],
   "source": [
    "from sagemaker import get_execution_role\n",
    "\n",
    "# Our current execution role is require when creating the model as the training\n",
    "# and inference code will need to access the model artifacts.\n",
    "role = get_execution_role()"
   ]
  },
  {
   "cell_type": "code",
   "execution_count": 20,
   "metadata": {},
   "outputs": [],
   "source": [
    "# We need to retrieve the location of the container which is provided by Amazon for using XGBoost.\n",
    "# As a matter of convenience, the training and inference code both use the same container.\n",
    "from sagemaker.amazon.amazon_estimator import get_image_uri\n",
    "\n",
    "container = get_image_uri(session.boto_region_name, 'xgboost')"
   ]
  },
  {
   "cell_type": "code",
   "execution_count": 21,
   "metadata": {},
   "outputs": [],
   "source": [
    "# First we create a SageMaker estimator object for our model.\n",
    "xgb = sagemaker.estimator.Estimator(container, # The location of the container we wish to use\n",
    "                                    role,                                    # What is our current IAM Role\n",
    "                                    train_instance_count=1,                  # How many compute instances\n",
    "                                    train_instance_type='ml.m4.xlarge',      # What kind of compute instances\n",
    "                                    output_path='s3://{}/{}/output'.format(session.default_bucket(), prefix),\n",
    "                                    sagemaker_session=session)\n",
    "\n",
    "# And then set the algorithm specific parameters.\n",
    "xgb.set_hyperparameters(max_depth=5,\n",
    "                        eta=0.2,\n",
    "                        gamma=4,\n",
    "                        min_child_weight=6,\n",
    "                        subsample=0.8,\n",
    "                        silent=0,\n",
    "                        objective='binary:logistic',\n",
    "                        early_stopping_rounds=10,\n",
    "                        num_round=500)"
   ]
  },
  {
   "cell_type": "markdown",
   "metadata": {},
   "source": [
    "### Fit the XGBoost model\n",
    "\n",
    "Now that our model has been set up we simply need to attach the training and validation datasets and then ask SageMaker to set up the computation."
   ]
  },
  {
   "cell_type": "code",
   "execution_count": 22,
   "metadata": {},
   "outputs": [],
   "source": [
    "s3_input_train = sagemaker.s3_input(s3_data=train_location, content_type='csv')\n",
    "s3_input_validation = sagemaker.s3_input(s3_data=val_location, content_type='csv')"
   ]
  },
  {
   "cell_type": "code",
   "execution_count": 23,
   "metadata": {},
   "outputs": [
    {
     "name": "stderr",
     "output_type": "stream",
     "text": [
      "INFO:sagemaker:Creating training-job with name: xgboost-2018-10-15-04-42-41-025\n"
     ]
    },
    {
     "name": "stdout",
     "output_type": "stream",
     "text": [
      "2018-10-15 04:42:41 Starting - Starting the training job...\n",
      "Launching requested ML instances......\n",
      "Preparing the instances for training......\n",
      "2018-10-15 04:45:07 Downloading - Downloading input data...\n",
      "2018-10-15 04:45:29 Training - Training image download completed. Training in progress.\n",
      "\u001b[31mArguments: train\u001b[0m\n",
      "\u001b[31m[2018-10-15:04:45:32:INFO] Running standalone xgboost training.\u001b[0m\n",
      "\u001b[31m[2018-10-15:04:45:32:INFO] File size need to be processed in the node: 238.5mb. Available memory size in the node: 8572.58mb\u001b[0m\n",
      "\u001b[31m[2018-10-15:04:45:32:INFO] Determined delimiter of CSV input is ','\u001b[0m\n",
      "\u001b[31m[04:45:32] S3DistributionType set as FullyReplicated\u001b[0m\n",
      "\u001b[31m[04:45:34] 15000x5000 matrix with 75000000 entries loaded from /opt/ml/input/data/train?format=csv&label_column=0&delimiter=,\u001b[0m\n",
      "\u001b[31m[2018-10-15:04:45:34:INFO] Determined delimiter of CSV input is ','\u001b[0m\n",
      "\u001b[31m[04:45:34] S3DistributionType set as FullyReplicated\u001b[0m\n",
      "\u001b[31m[04:45:35] 10000x5000 matrix with 50000000 entries loaded from /opt/ml/input/data/validation?format=csv&label_column=0&delimiter=,\u001b[0m\n",
      "\u001b[31m[04:45:38] src/tree/updater_prune.cc:74: tree pruning end, 1 roots, 36 extra nodes, 16 pruned nodes, max_depth=5\u001b[0m\n",
      "\u001b[31m[0]#011train-error:0.306667#011validation-error:0.3078\u001b[0m\n",
      "\u001b[31mMultiple eval metrics have been passed: 'validation-error' will be used for early stopping.\n",
      "\u001b[0m\n",
      "\u001b[31mWill train until validation-error hasn't improved in 10 rounds.\u001b[0m\n",
      "\u001b[31m[04:45:40] src/tree/updater_prune.cc:74: tree pruning end, 1 roots, 40 extra nodes, 4 pruned nodes, max_depth=5\u001b[0m\n",
      "\u001b[31m[1]#011train-error:0.291667#011validation-error:0.2946\u001b[0m\n",
      "\u001b[31m[04:45:41] src/tree/updater_prune.cc:74: tree pruning end, 1 roots, 32 extra nodes, 8 pruned nodes, max_depth=5\u001b[0m\n",
      "\u001b[31m[2]#011train-error:0.291133#011validation-error:0.2904\u001b[0m\n",
      "\u001b[31m[04:45:42] src/tree/updater_prune.cc:74: tree pruning end, 1 roots, 44 extra nodes, 4 pruned nodes, max_depth=5\u001b[0m\n",
      "\u001b[31m[3]#011train-error:0.274867#011validation-error:0.2807\u001b[0m\n",
      "\u001b[31m[04:45:44] src/tree/updater_prune.cc:74: tree pruning end, 1 roots, 36 extra nodes, 2 pruned nodes, max_depth=5\u001b[0m\n",
      "\u001b[31m[4]#011train-error:0.266933#011validation-error:0.2716\u001b[0m\n",
      "\u001b[31m[04:45:45] src/tree/updater_prune.cc:74: tree pruning end, 1 roots, 28 extra nodes, 8 pruned nodes, max_depth=5\u001b[0m\n",
      "\u001b[31m[5]#011train-error:0.256067#011validation-error:0.263\u001b[0m\n",
      "\u001b[31m[04:45:46] src/tree/updater_prune.cc:74: tree pruning end, 1 roots, 30 extra nodes, 8 pruned nodes, max_depth=5\u001b[0m\n",
      "\u001b[31m[6]#011train-error:0.2468#011validation-error:0.2586\u001b[0m\n",
      "\u001b[31m[04:45:48] src/tree/updater_prune.cc:74: tree pruning end, 1 roots, 34 extra nodes, 2 pruned nodes, max_depth=5\u001b[0m\n",
      "\u001b[31m[7]#011train-error:0.2434#011validation-error:0.2527\u001b[0m\n",
      "\u001b[31m[04:45:49] src/tree/updater_prune.cc:74: tree pruning end, 1 roots, 24 extra nodes, 10 pruned nodes, max_depth=5\u001b[0m\n",
      "\u001b[31m[8]#011train-error:0.2334#011validation-error:0.2424\u001b[0m\n",
      "\u001b[31m[04:45:50] src/tree/updater_prune.cc:74: tree pruning end, 1 roots, 34 extra nodes, 4 pruned nodes, max_depth=5\u001b[0m\n",
      "\u001b[31m[9]#011train-error:0.222867#011validation-error:0.2355\u001b[0m\n",
      "\u001b[31m[04:45:51] src/tree/updater_prune.cc:74: tree pruning end, 1 roots, 40 extra nodes, 6 pruned nodes, max_depth=5\u001b[0m\n",
      "\u001b[31m[10]#011train-error:0.2176#011validation-error:0.2342\u001b[0m\n",
      "\u001b[31m[04:45:53] src/tree/updater_prune.cc:74: tree pruning end, 1 roots, 28 extra nodes, 4 pruned nodes, max_depth=5\u001b[0m\n",
      "\u001b[31m[11]#011train-error:0.2142#011validation-error:0.231\u001b[0m\n",
      "\u001b[31m[04:45:54] src/tree/updater_prune.cc:74: tree pruning end, 1 roots, 28 extra nodes, 6 pruned nodes, max_depth=5\u001b[0m\n",
      "\u001b[31m[12]#011train-error:0.210067#011validation-error:0.2268\u001b[0m\n",
      "\u001b[31m[04:45:55] src/tree/updater_prune.cc:74: tree pruning end, 1 roots, 38 extra nodes, 6 pruned nodes, max_depth=5\u001b[0m\n",
      "\u001b[31m[13]#011train-error:0.2072#011validation-error:0.2228\u001b[0m\n",
      "\u001b[31m[04:45:57] src/tree/updater_prune.cc:74: tree pruning end, 1 roots, 26 extra nodes, 6 pruned nodes, max_depth=5\u001b[0m\n",
      "\u001b[31m[14]#011train-error:0.205533#011validation-error:0.2205\u001b[0m\n",
      "\u001b[31m[04:45:58] src/tree/updater_prune.cc:74: tree pruning end, 1 roots, 34 extra nodes, 6 pruned nodes, max_depth=5\u001b[0m\n",
      "\u001b[31m[15]#011train-error:0.203267#011validation-error:0.219\u001b[0m\n",
      "\u001b[31m[04:45:59] src/tree/updater_prune.cc:74: tree pruning end, 1 roots, 48 extra nodes, 4 pruned nodes, max_depth=5\u001b[0m\n",
      "\u001b[31m[16]#011train-error:0.197267#011validation-error:0.2154\u001b[0m\n",
      "\u001b[31m[04:46:01] src/tree/updater_prune.cc:74: tree pruning end, 1 roots, 32 extra nodes, 8 pruned nodes, max_depth=5\u001b[0m\n",
      "\u001b[31m[17]#011train-error:0.196333#011validation-error:0.2109\u001b[0m\n",
      "\u001b[31m[04:46:02] src/tree/updater_prune.cc:74: tree pruning end, 1 roots, 32 extra nodes, 4 pruned nodes, max_depth=5\u001b[0m\n",
      "\u001b[31m[18]#011train-error:0.1922#011validation-error:0.209\u001b[0m\n",
      "\u001b[31m[04:46:03] src/tree/updater_prune.cc:74: tree pruning end, 1 roots, 26 extra nodes, 6 pruned nodes, max_depth=5\u001b[0m\n",
      "\u001b[31m[19]#011train-error:0.190333#011validation-error:0.2064\u001b[0m\n",
      "\u001b[31m[04:46:05] src/tree/updater_prune.cc:74: tree pruning end, 1 roots, 30 extra nodes, 6 pruned nodes, max_depth=5\u001b[0m\n",
      "\u001b[31m[20]#011train-error:0.1894#011validation-error:0.2031\u001b[0m\n",
      "\u001b[31m[04:46:06] src/tree/updater_prune.cc:74: tree pruning end, 1 roots, 24 extra nodes, 12 pruned nodes, max_depth=5\u001b[0m\n",
      "\u001b[31m[21]#011train-error:0.186667#011validation-error:0.2009\u001b[0m\n",
      "\u001b[31m[04:46:07] src/tree/updater_prune.cc:74: tree pruning end, 1 roots, 20 extra nodes, 10 pruned nodes, max_depth=5\u001b[0m\n",
      "\u001b[31m[22]#011train-error:0.183533#011validation-error:0.1989\u001b[0m\n",
      "\u001b[31m[04:46:08] src/tree/updater_prune.cc:74: tree pruning end, 1 roots, 24 extra nodes, 10 pruned nodes, max_depth=5\u001b[0m\n",
      "\u001b[31m[23]#011train-error:0.181067#011validation-error:0.1966\u001b[0m\n",
      "\u001b[31m[04:46:10] src/tree/updater_prune.cc:74: tree pruning end, 1 roots, 36 extra nodes, 2 pruned nodes, max_depth=5\u001b[0m\n",
      "\u001b[31m[24]#011train-error:0.1788#011validation-error:0.1972\u001b[0m\n",
      "\u001b[31m[04:46:11] src/tree/updater_prune.cc:74: tree pruning end, 1 roots, 20 extra nodes, 6 pruned nodes, max_depth=5\u001b[0m\n",
      "\u001b[31m[25]#011train-error:0.1764#011validation-error:0.1974\u001b[0m\n",
      "\u001b[31m[04:46:12] src/tree/updater_prune.cc:74: tree pruning end, 1 roots, 26 extra nodes, 4 pruned nodes, max_depth=5\u001b[0m\n",
      "\u001b[31m[26]#011train-error:0.174467#011validation-error:0.195\u001b[0m\n",
      "\u001b[31m[04:46:14] src/tree/updater_prune.cc:74: tree pruning end, 1 roots, 18 extra nodes, 6 pruned nodes, max_depth=5\u001b[0m\n",
      "\u001b[31m[27]#011train-error:0.171667#011validation-error:0.1934\u001b[0m\n",
      "\u001b[31m[04:46:15] src/tree/updater_prune.cc:74: tree pruning end, 1 roots, 22 extra nodes, 8 pruned nodes, max_depth=5\u001b[0m\n",
      "\u001b[31m[28]#011train-error:0.169933#011validation-error:0.1923\u001b[0m\n",
      "\u001b[31m[04:46:16] src/tree/updater_prune.cc:74: tree pruning end, 1 roots, 36 extra nodes, 10 pruned nodes, max_depth=5\u001b[0m\n",
      "\u001b[31m[29]#011train-error:0.1678#011validation-error:0.1899\u001b[0m\n",
      "\u001b[31m[04:46:18] src/tree/updater_prune.cc:74: tree pruning end, 1 roots, 24 extra nodes, 8 pruned nodes, max_depth=5\u001b[0m\n",
      "\u001b[31m[30]#011train-error:0.167333#011validation-error:0.1902\u001b[0m\n",
      "\u001b[31m[04:46:19] src/tree/updater_prune.cc:74: tree pruning end, 1 roots, 16 extra nodes, 8 pruned nodes, max_depth=5\u001b[0m\n",
      "\u001b[31m[31]#011train-error:0.166867#011validation-error:0.1872\u001b[0m\n",
      "\u001b[31m[04:46:20] src/tree/updater_prune.cc:74: tree pruning end, 1 roots, 26 extra nodes, 4 pruned nodes, max_depth=5\u001b[0m\n",
      "\u001b[31m[32]#011train-error:0.165467#011validation-error:0.1884\u001b[0m\n",
      "\u001b[31m[04:46:22] src/tree/updater_prune.cc:74: tree pruning end, 1 roots, 28 extra nodes, 8 pruned nodes, max_depth=5\u001b[0m\n",
      "\u001b[31m[33]#011train-error:0.163467#011validation-error:0.1871\u001b[0m\n",
      "\u001b[31m[04:46:23] src/tree/updater_prune.cc:74: tree pruning end, 1 roots, 24 extra nodes, 14 pruned nodes, max_depth=5\u001b[0m\n",
      "\u001b[31m[34]#011train-error:0.162667#011validation-error:0.1856\u001b[0m\n",
      "\u001b[31m[04:46:24] src/tree/updater_prune.cc:74: tree pruning end, 1 roots, 26 extra nodes, 6 pruned nodes, max_depth=5\u001b[0m\n",
      "\u001b[31m[35]#011train-error:0.160867#011validation-error:0.1838\u001b[0m\n",
      "\u001b[31m[04:46:26] src/tree/updater_prune.cc:74: tree pruning end, 1 roots, 26 extra nodes, 2 pruned nodes, max_depth=5\u001b[0m\n",
      "\u001b[31m[36]#011train-error:0.159267#011validation-error:0.1847\u001b[0m\n",
      "\u001b[31m[04:46:27] src/tree/updater_prune.cc:74: tree pruning end, 1 roots, 26 extra nodes, 8 pruned nodes, max_depth=5\u001b[0m\n",
      "\u001b[31m[37]#011train-error:0.158867#011validation-error:0.183\u001b[0m\n",
      "\u001b[31m[04:46:28] src/tree/updater_prune.cc:74: tree pruning end, 1 roots, 34 extra nodes, 8 pruned nodes, max_depth=5\u001b[0m\n",
      "\u001b[31m[38]#011train-error:0.156533#011validation-error:0.181\u001b[0m\n",
      "\u001b[31m[04:46:29] src/tree/updater_prune.cc:74: tree pruning end, 1 roots, 14 extra nodes, 16 pruned nodes, max_depth=5\u001b[0m\n",
      "\u001b[31m[39]#011train-error:0.1544#011validation-error:0.1804\u001b[0m\n"
     ]
    },
    {
     "name": "stdout",
     "output_type": "stream",
     "text": [
      "\u001b[31m[04:46:31] src/tree/updater_prune.cc:74: tree pruning end, 1 roots, 18 extra nodes, 4 pruned nodes, max_depth=5\u001b[0m\n",
      "\u001b[31m[40]#011train-error:0.153533#011validation-error:0.1801\u001b[0m\n",
      "\u001b[31m[04:46:32] src/tree/updater_prune.cc:74: tree pruning end, 1 roots, 26 extra nodes, 8 pruned nodes, max_depth=5\u001b[0m\n",
      "\u001b[31m[41]#011train-error:0.1542#011validation-error:0.1788\u001b[0m\n",
      "\u001b[31m[04:46:33] src/tree/updater_prune.cc:74: tree pruning end, 1 roots, 16 extra nodes, 8 pruned nodes, max_depth=5\u001b[0m\n",
      "\u001b[31m[42]#011train-error:0.1528#011validation-error:0.1776\u001b[0m\n",
      "\u001b[31m[04:46:35] src/tree/updater_prune.cc:74: tree pruning end, 1 roots, 24 extra nodes, 8 pruned nodes, max_depth=5\u001b[0m\n",
      "\u001b[31m[43]#011train-error:0.151533#011validation-error:0.176\u001b[0m\n",
      "\u001b[31m[04:46:36] src/tree/updater_prune.cc:74: tree pruning end, 1 roots, 16 extra nodes, 12 pruned nodes, max_depth=5\u001b[0m\n",
      "\u001b[31m[44]#011train-error:0.150733#011validation-error:0.1756\u001b[0m\n",
      "\u001b[31m[04:46:37] src/tree/updater_prune.cc:74: tree pruning end, 1 roots, 14 extra nodes, 10 pruned nodes, max_depth=5\u001b[0m\n",
      "\u001b[31m[45]#011train-error:0.149133#011validation-error:0.175\u001b[0m\n",
      "\u001b[31m[04:46:39] src/tree/updater_prune.cc:74: tree pruning end, 1 roots, 24 extra nodes, 6 pruned nodes, max_depth=5\u001b[0m\n",
      "\u001b[31m[46]#011train-error:0.147267#011validation-error:0.1746\u001b[0m\n",
      "\u001b[31m[04:46:40] src/tree/updater_prune.cc:74: tree pruning end, 1 roots, 26 extra nodes, 14 pruned nodes, max_depth=5\u001b[0m\n",
      "\u001b[31m[47]#011train-error:0.146867#011validation-error:0.1739\u001b[0m\n",
      "\u001b[31m[04:46:41] src/tree/updater_prune.cc:74: tree pruning end, 1 roots, 26 extra nodes, 8 pruned nodes, max_depth=5\u001b[0m\n",
      "\u001b[31m[48]#011train-error:0.1446#011validation-error:0.1731\u001b[0m\n",
      "\u001b[31m[04:46:43] src/tree/updater_prune.cc:74: tree pruning end, 1 roots, 34 extra nodes, 6 pruned nodes, max_depth=5\u001b[0m\n",
      "\u001b[31m[49]#011train-error:0.143733#011validation-error:0.1722\u001b[0m\n",
      "\u001b[31m[04:46:44] src/tree/updater_prune.cc:74: tree pruning end, 1 roots, 12 extra nodes, 8 pruned nodes, max_depth=5\u001b[0m\n",
      "\u001b[31m[50]#011train-error:0.1432#011validation-error:0.1713\u001b[0m\n",
      "\u001b[31m[04:46:45] src/tree/updater_prune.cc:74: tree pruning end, 1 roots, 20 extra nodes, 8 pruned nodes, max_depth=5\u001b[0m\n",
      "\u001b[31m[51]#011train-error:0.140933#011validation-error:0.1694\u001b[0m\n",
      "\u001b[31m[04:46:46] src/tree/updater_prune.cc:74: tree pruning end, 1 roots, 22 extra nodes, 12 pruned nodes, max_depth=5\u001b[0m\n",
      "\u001b[31m[52]#011train-error:0.139667#011validation-error:0.1687\u001b[0m\n",
      "\u001b[31m[04:46:48] src/tree/updater_prune.cc:74: tree pruning end, 1 roots, 12 extra nodes, 8 pruned nodes, max_depth=5\u001b[0m\n",
      "\u001b[31m[53]#011train-error:0.139#011validation-error:0.1685\u001b[0m\n",
      "\u001b[31m[04:46:49] src/tree/updater_prune.cc:74: tree pruning end, 1 roots, 18 extra nodes, 10 pruned nodes, max_depth=5\u001b[0m\n",
      "\u001b[31m[54]#011train-error:0.137533#011validation-error:0.1689\u001b[0m\n",
      "\u001b[31m[04:46:50] src/tree/updater_prune.cc:74: tree pruning end, 1 roots, 20 extra nodes, 10 pruned nodes, max_depth=5\u001b[0m\n",
      "\u001b[31m[55]#011train-error:0.135533#011validation-error:0.1687\u001b[0m\n",
      "\u001b[31m[04:46:52] src/tree/updater_prune.cc:74: tree pruning end, 1 roots, 20 extra nodes, 6 pruned nodes, max_depth=5\u001b[0m\n",
      "\u001b[31m[56]#011train-error:0.134667#011validation-error:0.1683\u001b[0m\n",
      "\u001b[31m[04:46:53] src/tree/updater_prune.cc:74: tree pruning end, 1 roots, 28 extra nodes, 14 pruned nodes, max_depth=5\u001b[0m\n",
      "\u001b[31m[57]#011train-error:0.134#011validation-error:0.1671\u001b[0m\n",
      "\u001b[31m[04:46:54] src/tree/updater_prune.cc:74: tree pruning end, 1 roots, 18 extra nodes, 14 pruned nodes, max_depth=5\u001b[0m\n",
      "\u001b[31m[58]#011train-error:0.1336#011validation-error:0.167\u001b[0m\n",
      "\u001b[31m[04:46:56] src/tree/updater_prune.cc:74: tree pruning end, 1 roots, 18 extra nodes, 12 pruned nodes, max_depth=5\u001b[0m\n",
      "\u001b[31m[59]#011train-error:0.133333#011validation-error:0.1668\u001b[0m\n",
      "\u001b[31m[04:46:57] src/tree/updater_prune.cc:74: tree pruning end, 1 roots, 34 extra nodes, 2 pruned nodes, max_depth=5\u001b[0m\n",
      "\u001b[31m[60]#011train-error:0.1322#011validation-error:0.165\u001b[0m\n",
      "\u001b[31m[04:46:58] src/tree/updater_prune.cc:74: tree pruning end, 1 roots, 22 extra nodes, 4 pruned nodes, max_depth=5\u001b[0m\n",
      "\u001b[31m[61]#011train-error:0.131467#011validation-error:0.1646\u001b[0m\n",
      "\u001b[31m[04:46:59] src/tree/updater_prune.cc:74: tree pruning end, 1 roots, 14 extra nodes, 8 pruned nodes, max_depth=5\u001b[0m\n",
      "\u001b[31m[62]#011train-error:0.130333#011validation-error:0.1638\u001b[0m\n",
      "\u001b[31m[04:47:01] src/tree/updater_prune.cc:74: tree pruning end, 1 roots, 20 extra nodes, 12 pruned nodes, max_depth=5\u001b[0m\n",
      "\u001b[31m[63]#011train-error:0.128933#011validation-error:0.1622\u001b[0m\n",
      "\u001b[31m[04:47:02] src/tree/updater_prune.cc:74: tree pruning end, 1 roots, 18 extra nodes, 10 pruned nodes, max_depth=5\u001b[0m\n",
      "\u001b[31m[64]#011train-error:0.1284#011validation-error:0.1625\u001b[0m\n",
      "\u001b[31m[04:47:03] src/tree/updater_prune.cc:74: tree pruning end, 1 roots, 18 extra nodes, 4 pruned nodes, max_depth=5\u001b[0m\n",
      "\u001b[31m[65]#011train-error:0.128067#011validation-error:0.1618\u001b[0m\n",
      "\u001b[31m[04:47:05] src/tree/updater_prune.cc:74: tree pruning end, 1 roots, 22 extra nodes, 4 pruned nodes, max_depth=5\u001b[0m\n",
      "\u001b[31m[66]#011train-error:0.127067#011validation-error:0.1628\u001b[0m\n",
      "\u001b[31m[04:47:06] src/tree/updater_prune.cc:74: tree pruning end, 1 roots, 30 extra nodes, 2 pruned nodes, max_depth=5\u001b[0m\n",
      "\u001b[31m[67]#011train-error:0.1268#011validation-error:0.1622\u001b[0m\n",
      "\u001b[31m[04:47:07] src/tree/updater_prune.cc:74: tree pruning end, 1 roots, 40 extra nodes, 6 pruned nodes, max_depth=5\u001b[0m\n",
      "\u001b[31m[68]#011train-error:0.124867#011validation-error:0.1616\u001b[0m\n",
      "\u001b[31m[04:47:09] src/tree/updater_prune.cc:74: tree pruning end, 1 roots, 20 extra nodes, 12 pruned nodes, max_depth=5\u001b[0m\n",
      "\u001b[31m[69]#011train-error:0.124467#011validation-error:0.1598\u001b[0m\n",
      "\u001b[31m[04:47:10] src/tree/updater_prune.cc:74: tree pruning end, 1 roots, 14 extra nodes, 6 pruned nodes, max_depth=5\u001b[0m\n",
      "\u001b[31m[70]#011train-error:0.1238#011validation-error:0.1588\u001b[0m\n",
      "\u001b[31m[04:47:11] src/tree/updater_prune.cc:74: tree pruning end, 1 roots, 10 extra nodes, 12 pruned nodes, max_depth=5\u001b[0m\n",
      "\u001b[31m[71]#011train-error:0.1226#011validation-error:0.1603\u001b[0m\n",
      "\u001b[31m[04:47:12] src/tree/updater_prune.cc:74: tree pruning end, 1 roots, 14 extra nodes, 8 pruned nodes, max_depth=5\u001b[0m\n",
      "\u001b[31m[72]#011train-error:0.123#011validation-error:0.1592\u001b[0m\n",
      "\u001b[31m[04:47:14] src/tree/updater_prune.cc:74: tree pruning end, 1 roots, 20 extra nodes, 4 pruned nodes, max_depth=5\u001b[0m\n",
      "\u001b[31m[73]#011train-error:0.122533#011validation-error:0.1588\u001b[0m\n",
      "\u001b[31m[04:47:15] src/tree/updater_prune.cc:74: tree pruning end, 1 roots, 28 extra nodes, 16 pruned nodes, max_depth=5\u001b[0m\n",
      "\u001b[31m[74]#011train-error:0.120933#011validation-error:0.1585\u001b[0m\n",
      "\u001b[31m[04:47:16] src/tree/updater_prune.cc:74: tree pruning end, 1 roots, 30 extra nodes, 8 pruned nodes, max_depth=5\u001b[0m\n",
      "\u001b[31m[75]#011train-error:0.120067#011validation-error:0.1566\u001b[0m\n",
      "\u001b[31m[04:47:18] src/tree/updater_prune.cc:74: tree pruning end, 1 roots, 22 extra nodes, 8 pruned nodes, max_depth=5\u001b[0m\n",
      "\u001b[31m[76]#011train-error:0.1198#011validation-error:0.1565\u001b[0m\n",
      "\u001b[31m[04:47:19] src/tree/updater_prune.cc:74: tree pruning end, 1 roots, 16 extra nodes, 10 pruned nodes, max_depth=5\u001b[0m\n",
      "\u001b[31m[77]#011train-error:0.119333#011validation-error:0.1562\u001b[0m\n",
      "\u001b[31m[04:47:20] src/tree/updater_prune.cc:74: tree pruning end, 1 roots, 12 extra nodes, 8 pruned nodes, max_depth=5\u001b[0m\n",
      "\u001b[31m[78]#011train-error:0.1194#011validation-error:0.1562\u001b[0m\n",
      "\u001b[31m[04:47:22] src/tree/updater_prune.cc:74: tree pruning end, 1 roots, 12 extra nodes, 10 pruned nodes, max_depth=5\u001b[0m\n",
      "\u001b[31m[79]#011train-error:0.1182#011validation-error:0.1552\u001b[0m\n",
      "\u001b[31m[04:47:23] src/tree/updater_prune.cc:74: tree pruning end, 1 roots, 26 extra nodes, 4 pruned nodes, max_depth=5\u001b[0m\n",
      "\u001b[31m[80]#011train-error:0.1178#011validation-error:0.1546\u001b[0m\n",
      "\u001b[31m[04:47:24] src/tree/updater_prune.cc:74: tree pruning end, 1 roots, 28 extra nodes, 2 pruned nodes, max_depth=5\u001b[0m\n",
      "\u001b[31m[81]#011train-error:0.114667#011validation-error:0.1554\u001b[0m\n",
      "\u001b[31m[04:47:25] src/tree/updater_prune.cc:74: tree pruning end, 1 roots, 12 extra nodes, 8 pruned nodes, max_depth=5\u001b[0m\n",
      "\u001b[31m[82]#011train-error:0.114333#011validation-error:0.1557\u001b[0m\n",
      "\u001b[31m[04:47:27] src/tree/updater_prune.cc:74: tree pruning end, 1 roots, 16 extra nodes, 10 pruned nodes, max_depth=5\u001b[0m\n",
      "\u001b[31m[83]#011train-error:0.113667#011validation-error:0.1553\u001b[0m\n",
      "\u001b[31m[04:47:28] src/tree/updater_prune.cc:74: tree pruning end, 1 roots, 12 extra nodes, 2 pruned nodes, max_depth=5\u001b[0m\n",
      "\u001b[31m[84]#011train-error:0.113533#011validation-error:0.154\u001b[0m\n",
      "\u001b[31m[04:47:29] src/tree/updater_prune.cc:74: tree pruning end, 1 roots, 14 extra nodes, 8 pruned nodes, max_depth=5\u001b[0m\n",
      "\u001b[31m[85]#011train-error:0.112733#011validation-error:0.1529\u001b[0m\n",
      "\u001b[31m[04:47:31] src/tree/updater_prune.cc:74: tree pruning end, 1 roots, 16 extra nodes, 8 pruned nodes, max_depth=5\u001b[0m\n",
      "\u001b[31m[86]#011train-error:0.111933#011validation-error:0.1537\u001b[0m\n"
     ]
    },
    {
     "name": "stdout",
     "output_type": "stream",
     "text": [
      "\u001b[31m[04:47:32] src/tree/updater_prune.cc:74: tree pruning end, 1 roots, 24 extra nodes, 6 pruned nodes, max_depth=5\u001b[0m\n",
      "\u001b[31m[87]#011train-error:0.110467#011validation-error:0.1544\u001b[0m\n",
      "\u001b[31m[04:47:33] src/tree/updater_prune.cc:74: tree pruning end, 1 roots, 14 extra nodes, 12 pruned nodes, max_depth=5\u001b[0m\n",
      "\u001b[31m[88]#011train-error:0.110133#011validation-error:0.1544\u001b[0m\n",
      "\u001b[31m[04:47:35] src/tree/updater_prune.cc:74: tree pruning end, 1 roots, 18 extra nodes, 12 pruned nodes, max_depth=5\u001b[0m\n",
      "\u001b[31m[89]#011train-error:0.109933#011validation-error:0.1533\u001b[0m\n",
      "\u001b[31m[04:47:36] src/tree/updater_prune.cc:74: tree pruning end, 1 roots, 16 extra nodes, 6 pruned nodes, max_depth=5\u001b[0m\n",
      "\u001b[31m[90]#011train-error:0.1096#011validation-error:0.1529\u001b[0m\n",
      "\u001b[31m[04:47:37] src/tree/updater_prune.cc:74: tree pruning end, 1 roots, 28 extra nodes, 8 pruned nodes, max_depth=5\u001b[0m\n",
      "\u001b[31m[91]#011train-error:0.1102#011validation-error:0.1526\u001b[0m\n",
      "\u001b[31m[04:47:39] src/tree/updater_prune.cc:74: tree pruning end, 1 roots, 14 extra nodes, 6 pruned nodes, max_depth=5\u001b[0m\n",
      "\u001b[31m[92]#011train-error:0.1096#011validation-error:0.1519\u001b[0m\n",
      "\u001b[31m[04:47:40] src/tree/updater_prune.cc:74: tree pruning end, 1 roots, 20 extra nodes, 6 pruned nodes, max_depth=5\u001b[0m\n",
      "\u001b[31m[93]#011train-error:0.109467#011validation-error:0.151\u001b[0m\n",
      "\u001b[31m[04:47:41] src/tree/updater_prune.cc:74: tree pruning end, 1 roots, 18 extra nodes, 12 pruned nodes, max_depth=5\u001b[0m\n",
      "\u001b[31m[94]#011train-error:0.1094#011validation-error:0.1513\u001b[0m\n",
      "\u001b[31m[04:47:42] src/tree/updater_prune.cc:74: tree pruning end, 1 roots, 18 extra nodes, 8 pruned nodes, max_depth=5\u001b[0m\n",
      "\u001b[31m[95]#011train-error:0.108533#011validation-error:0.1515\u001b[0m\n",
      "\u001b[31m[04:47:44] src/tree/updater_prune.cc:74: tree pruning end, 1 roots, 18 extra nodes, 10 pruned nodes, max_depth=5\u001b[0m\n",
      "\u001b[31m[96]#011train-error:0.108467#011validation-error:0.1516\u001b[0m\n",
      "\u001b[31m[04:47:45] src/tree/updater_prune.cc:74: tree pruning end, 1 roots, 14 extra nodes, 8 pruned nodes, max_depth=5\u001b[0m\n",
      "\u001b[31m[97]#011train-error:0.1076#011validation-error:0.1512\u001b[0m\n",
      "\u001b[31m[04:47:46] src/tree/updater_prune.cc:74: tree pruning end, 1 roots, 28 extra nodes, 8 pruned nodes, max_depth=5\u001b[0m\n",
      "\u001b[31m[98]#011train-error:0.107067#011validation-error:0.1502\u001b[0m\n",
      "\u001b[31m[04:47:48] src/tree/updater_prune.cc:74: tree pruning end, 1 roots, 14 extra nodes, 6 pruned nodes, max_depth=5\u001b[0m\n",
      "\u001b[31m[99]#011train-error:0.106733#011validation-error:0.1499\u001b[0m\n",
      "\u001b[31m[04:47:49] src/tree/updater_prune.cc:74: tree pruning end, 1 roots, 12 extra nodes, 6 pruned nodes, max_depth=5\u001b[0m\n",
      "\u001b[31m[100]#011train-error:0.1064#011validation-error:0.1494\u001b[0m\n",
      "\u001b[31m[04:47:50] src/tree/updater_prune.cc:74: tree pruning end, 1 roots, 14 extra nodes, 12 pruned nodes, max_depth=5\u001b[0m\n",
      "\u001b[31m[101]#011train-error:0.1058#011validation-error:0.1488\u001b[0m\n",
      "\u001b[31m[04:47:52] src/tree/updater_prune.cc:74: tree pruning end, 1 roots, 10 extra nodes, 14 pruned nodes, max_depth=5\u001b[0m\n",
      "\u001b[31m[102]#011train-error:0.1054#011validation-error:0.149\u001b[0m\n",
      "\u001b[31m[04:47:53] src/tree/updater_prune.cc:74: tree pruning end, 1 roots, 32 extra nodes, 2 pruned nodes, max_depth=5\u001b[0m\n",
      "\u001b[31m[103]#011train-error:0.104533#011validation-error:0.1484\u001b[0m\n",
      "\u001b[31m[04:47:54] src/tree/updater_prune.cc:74: tree pruning end, 1 roots, 16 extra nodes, 14 pruned nodes, max_depth=5\u001b[0m\n",
      "\u001b[31m[104]#011train-error:0.103867#011validation-error:0.1471\u001b[0m\n",
      "\u001b[31m[04:47:56] src/tree/updater_prune.cc:74: tree pruning end, 1 roots, 18 extra nodes, 8 pruned nodes, max_depth=5\u001b[0m\n",
      "\u001b[31m[105]#011train-error:0.102667#011validation-error:0.1464\u001b[0m\n",
      "\u001b[31m[04:47:57] src/tree/updater_prune.cc:74: tree pruning end, 1 roots, 24 extra nodes, 18 pruned nodes, max_depth=5\u001b[0m\n",
      "\u001b[31m[106]#011train-error:0.101933#011validation-error:0.1475\u001b[0m\n",
      "\u001b[31m[04:47:58] src/tree/updater_prune.cc:74: tree pruning end, 1 roots, 12 extra nodes, 6 pruned nodes, max_depth=5\u001b[0m\n",
      "\u001b[31m[107]#011train-error:0.101467#011validation-error:0.1475\u001b[0m\n",
      "\u001b[31m[04:47:59] src/tree/updater_prune.cc:74: tree pruning end, 1 roots, 20 extra nodes, 14 pruned nodes, max_depth=5\u001b[0m\n",
      "\u001b[31m[108]#011train-error:0.101333#011validation-error:0.1468\u001b[0m\n",
      "\u001b[31m[04:48:01] src/tree/updater_prune.cc:74: tree pruning end, 1 roots, 10 extra nodes, 8 pruned nodes, max_depth=5\u001b[0m\n",
      "\u001b[31m[109]#011train-error:0.100667#011validation-error:0.1459\u001b[0m\n",
      "\u001b[31m[04:48:02] src/tree/updater_prune.cc:74: tree pruning end, 1 roots, 28 extra nodes, 2 pruned nodes, max_depth=5\u001b[0m\n",
      "\u001b[31m[110]#011train-error:0.099867#011validation-error:0.1464\u001b[0m\n",
      "\u001b[31m[04:48:03] src/tree/updater_prune.cc:74: tree pruning end, 1 roots, 18 extra nodes, 12 pruned nodes, max_depth=5\u001b[0m\n",
      "\u001b[31m[111]#011train-error:0.099933#011validation-error:0.1455\u001b[0m\n",
      "\u001b[31m[04:48:05] src/tree/updater_prune.cc:74: tree pruning end, 1 roots, 20 extra nodes, 10 pruned nodes, max_depth=5\u001b[0m\n",
      "\u001b[31m[112]#011train-error:0.099267#011validation-error:0.1453\u001b[0m\n",
      "\u001b[31m[04:48:06] src/tree/updater_prune.cc:74: tree pruning end, 1 roots, 10 extra nodes, 6 pruned nodes, max_depth=5\u001b[0m\n",
      "\u001b[31m[113]#011train-error:0.099#011validation-error:0.1448\u001b[0m\n",
      "\u001b[31m[04:48:07] src/tree/updater_prune.cc:74: tree pruning end, 1 roots, 22 extra nodes, 4 pruned nodes, max_depth=5\u001b[0m\n",
      "\u001b[31m[114]#011train-error:0.098133#011validation-error:0.1448\u001b[0m\n",
      "\u001b[31m[04:48:09] src/tree/updater_prune.cc:74: tree pruning end, 1 roots, 24 extra nodes, 6 pruned nodes, max_depth=5\u001b[0m\n",
      "\u001b[31m[115]#011train-error:0.097533#011validation-error:0.1437\u001b[0m\n",
      "\u001b[31m[04:48:10] src/tree/updater_prune.cc:74: tree pruning end, 1 roots, 12 extra nodes, 4 pruned nodes, max_depth=5\u001b[0m\n",
      "\u001b[31m[116]#011train-error:0.096933#011validation-error:0.144\u001b[0m\n",
      "\u001b[31m[04:48:11] src/tree/updater_prune.cc:74: tree pruning end, 1 roots, 12 extra nodes, 8 pruned nodes, max_depth=5\u001b[0m\n",
      "\u001b[31m[117]#011train-error:0.096933#011validation-error:0.1436\u001b[0m\n",
      "\u001b[31m[04:48:13] src/tree/updater_prune.cc:74: tree pruning end, 1 roots, 24 extra nodes, 6 pruned nodes, max_depth=5\u001b[0m\n",
      "\u001b[31m[118]#011train-error:0.096667#011validation-error:0.144\u001b[0m\n",
      "\u001b[31m[04:48:14] src/tree/updater_prune.cc:74: tree pruning end, 1 roots, 26 extra nodes, 6 pruned nodes, max_depth=5\u001b[0m\n",
      "\u001b[31m[119]#011train-error:0.095733#011validation-error:0.1436\u001b[0m\n",
      "\u001b[31m[04:48:15] src/tree/updater_prune.cc:74: tree pruning end, 1 roots, 20 extra nodes, 10 pruned nodes, max_depth=5\u001b[0m\n",
      "\u001b[31m[120]#011train-error:0.094933#011validation-error:0.1435\u001b[0m\n",
      "\u001b[31m[04:48:17] src/tree/updater_prune.cc:74: tree pruning end, 1 roots, 12 extra nodes, 8 pruned nodes, max_depth=5\u001b[0m\n",
      "\u001b[31m[121]#011train-error:0.095#011validation-error:0.1434\u001b[0m\n",
      "\u001b[31m[04:48:18] src/tree/updater_prune.cc:74: tree pruning end, 1 roots, 18 extra nodes, 14 pruned nodes, max_depth=5\u001b[0m\n",
      "\u001b[31m[122]#011train-error:0.094933#011validation-error:0.143\u001b[0m\n",
      "\u001b[31m[04:48:19] src/tree/updater_prune.cc:74: tree pruning end, 1 roots, 26 extra nodes, 14 pruned nodes, max_depth=5\u001b[0m\n",
      "\u001b[31m[123]#011train-error:0.093867#011validation-error:0.1421\u001b[0m\n",
      "\u001b[31m[04:48:20] src/tree/updater_prune.cc:74: tree pruning end, 1 roots, 12 extra nodes, 10 pruned nodes, max_depth=5\u001b[0m\n",
      "\u001b[31m[124]#011train-error:0.0934#011validation-error:0.1421\u001b[0m\n",
      "\u001b[31m[04:48:22] src/tree/updater_prune.cc:74: tree pruning end, 1 roots, 26 extra nodes, 8 pruned nodes, max_depth=5\u001b[0m\n",
      "\u001b[31m[125]#011train-error:0.0926#011validation-error:0.1423\u001b[0m\n",
      "\u001b[31m[04:48:23] src/tree/updater_prune.cc:74: tree pruning end, 1 roots, 18 extra nodes, 8 pruned nodes, max_depth=5\u001b[0m\n",
      "\u001b[31m[126]#011train-error:0.092067#011validation-error:0.1421\u001b[0m\n",
      "\u001b[31m[04:48:24] src/tree/updater_prune.cc:74: tree pruning end, 1 roots, 16 extra nodes, 10 pruned nodes, max_depth=5\u001b[0m\n",
      "\u001b[31m[127]#011train-error:0.092#011validation-error:0.1419\u001b[0m\n",
      "\u001b[31m[04:48:26] src/tree/updater_prune.cc:74: tree pruning end, 1 roots, 16 extra nodes, 4 pruned nodes, max_depth=5\u001b[0m\n",
      "\u001b[31m[128]#011train-error:0.091733#011validation-error:0.1416\u001b[0m\n",
      "\u001b[31m[04:48:27] src/tree/updater_prune.cc:74: tree pruning end, 1 roots, 12 extra nodes, 4 pruned nodes, max_depth=5\u001b[0m\n",
      "\u001b[31m[129]#011train-error:0.091333#011validation-error:0.141\u001b[0m\n",
      "\u001b[31m[04:48:28] src/tree/updater_prune.cc:74: tree pruning end, 1 roots, 14 extra nodes, 12 pruned nodes, max_depth=5\u001b[0m\n",
      "\u001b[31m[130]#011train-error:0.091067#011validation-error:0.1409\u001b[0m\n",
      "\u001b[31m[04:48:30] src/tree/updater_prune.cc:74: tree pruning end, 1 roots, 18 extra nodes, 4 pruned nodes, max_depth=5\u001b[0m\n",
      "\u001b[31m[131]#011train-error:0.0906#011validation-error:0.1407\u001b[0m\n",
      "\u001b[31m[04:48:31] src/tree/updater_prune.cc:74: tree pruning end, 1 roots, 14 extra nodes, 6 pruned nodes, max_depth=5\u001b[0m\n",
      "\u001b[31m[132]#011train-error:0.090533#011validation-error:0.1407\u001b[0m\n",
      "\u001b[31m[04:48:32] src/tree/updater_prune.cc:74: tree pruning end, 1 roots, 18 extra nodes, 6 pruned nodes, max_depth=5\u001b[0m\n"
     ]
    },
    {
     "name": "stdout",
     "output_type": "stream",
     "text": [
      "\u001b[31m[133]#011train-error:0.090267#011validation-error:0.14\u001b[0m\n",
      "\u001b[31m[04:48:33] src/tree/updater_prune.cc:74: tree pruning end, 1 roots, 22 extra nodes, 16 pruned nodes, max_depth=5\u001b[0m\n",
      "\u001b[31m[134]#011train-error:0.0904#011validation-error:0.1409\u001b[0m\n",
      "\u001b[31m[04:48:35] src/tree/updater_prune.cc:74: tree pruning end, 1 roots, 18 extra nodes, 18 pruned nodes, max_depth=5\u001b[0m\n",
      "\u001b[31m[135]#011train-error:0.0896#011validation-error:0.1396\u001b[0m\n",
      "\u001b[31m[04:48:36] src/tree/updater_prune.cc:74: tree pruning end, 1 roots, 14 extra nodes, 6 pruned nodes, max_depth=5\u001b[0m\n",
      "\u001b[31m[136]#011train-error:0.089267#011validation-error:0.1408\u001b[0m\n",
      "\u001b[31m[04:48:37] src/tree/updater_prune.cc:74: tree pruning end, 1 roots, 12 extra nodes, 4 pruned nodes, max_depth=5\u001b[0m\n",
      "\u001b[31m[137]#011train-error:0.0892#011validation-error:0.1407\u001b[0m\n",
      "\u001b[31m[04:48:39] src/tree/updater_prune.cc:74: tree pruning end, 1 roots, 14 extra nodes, 10 pruned nodes, max_depth=5\u001b[0m\n",
      "\u001b[31m[138]#011train-error:0.088867#011validation-error:0.1409\u001b[0m\n",
      "\u001b[31m[04:48:40] src/tree/updater_prune.cc:74: tree pruning end, 1 roots, 22 extra nodes, 14 pruned nodes, max_depth=5\u001b[0m\n",
      "\u001b[31m[139]#011train-error:0.087733#011validation-error:0.1407\u001b[0m\n",
      "\u001b[31m[04:48:41] src/tree/updater_prune.cc:74: tree pruning end, 1 roots, 10 extra nodes, 6 pruned nodes, max_depth=5\u001b[0m\n",
      "\u001b[31m[140]#011train-error:0.087933#011validation-error:0.1404\u001b[0m\n",
      "\u001b[31m[04:48:43] src/tree/updater_prune.cc:74: tree pruning end, 1 roots, 18 extra nodes, 6 pruned nodes, max_depth=5\u001b[0m\n",
      "\u001b[31m[141]#011train-error:0.087067#011validation-error:0.1406\u001b[0m\n",
      "\u001b[31m[04:48:44] src/tree/updater_prune.cc:74: tree pruning end, 1 roots, 14 extra nodes, 8 pruned nodes, max_depth=5\u001b[0m\n",
      "\u001b[31m[142]#011train-error:0.0866#011validation-error:0.1398\u001b[0m\n",
      "\u001b[31m[04:48:45] src/tree/updater_prune.cc:74: tree pruning end, 1 roots, 10 extra nodes, 2 pruned nodes, max_depth=5\u001b[0m\n",
      "\u001b[31m[143]#011train-error:0.086733#011validation-error:0.1398\u001b[0m\n",
      "\u001b[31m[04:48:47] src/tree/updater_prune.cc:74: tree pruning end, 1 roots, 16 extra nodes, 10 pruned nodes, max_depth=5\u001b[0m\n",
      "\u001b[31m[144]#011train-error:0.0862#011validation-error:0.1406\u001b[0m\n",
      "\u001b[31m[04:48:48] src/tree/updater_prune.cc:74: tree pruning end, 1 roots, 36 extra nodes, 8 pruned nodes, max_depth=5\u001b[0m\n",
      "\u001b[31m[145]#011train-error:0.0856#011validation-error:0.1407\u001b[0m\n",
      "\u001b[31mStopping. Best iteration:\u001b[0m\n",
      "\u001b[31m[135]#011train-error:0.0896#011validation-error:0.1396\n",
      "\u001b[0m\n",
      "\n",
      "2018-10-15 04:48:51 Uploading - Uploading generated training model\n",
      "2018-10-15 04:48:57 Completed - Training job completed\n",
      "Billable seconds: 231\n"
     ]
    }
   ],
   "source": [
    "xgb.fit({'train': s3_input_train, 'validation': s3_input_validation})"
   ]
  },
  {
   "cell_type": "markdown",
   "metadata": {},
   "source": [
    "## Step 5: Testing the model\n",
    "\n",
    "Now that we've fit our XGBoost model, it's time to see how well it performs. To do this we will use SageMakers Batch Transform functionality. Batch Transform is a convenient way to perform inference on a large dataset in a way that is not realtime. That is, we don't necessarily need to use our model's results immediately and instead we can peform inference on a large number of samples. An example of this in industry might be peforming an end of month report. This method of inference can also be useful to us as it means to can perform inference on our entire test set. \n",
    "\n",
    "To perform a Batch Transformation we need to first create a transformer objects from our trained estimator object."
   ]
  },
  {
   "cell_type": "code",
   "execution_count": 24,
   "metadata": {},
   "outputs": [
    {
     "name": "stderr",
     "output_type": "stream",
     "text": [
      "INFO:sagemaker:Creating model with name: xgboost-2018-10-15-04-42-41-025\n"
     ]
    }
   ],
   "source": [
    "xgb_transformer = xgb.transformer(instance_count = 1, instance_type = 'ml.m4.xlarge')"
   ]
  },
  {
   "cell_type": "markdown",
   "metadata": {},
   "source": [
    "Next we actually perform the transform job. When doing so we need to make sure to specify the type of data we are sending so that it is serialized correctly in the background. In our case we are providing our model with csv data so we specify `text/csv`. Also, if the test data that we have provided is too large to process all at once then we need to specify how the data file should be split up. Since each line is a single entry in our data set we tell SageMaker that it can split the input on each line."
   ]
  },
  {
   "cell_type": "code",
   "execution_count": 25,
   "metadata": {},
   "outputs": [
    {
     "name": "stderr",
     "output_type": "stream",
     "text": [
      "INFO:sagemaker:Creating transform job with name: xgboost-2018-10-15-04-49-26-249\n"
     ]
    }
   ],
   "source": [
    "xgb_transformer.transform(test_location, content_type='text/csv', split_type='Line')"
   ]
  },
  {
   "cell_type": "markdown",
   "metadata": {},
   "source": [
    "Currently the transform job is running but it is doing so in the background. Since we wish to wait until the transform job is done and we would like a bit of feedback we can run the `wait()` method."
   ]
  },
  {
   "cell_type": "code",
   "execution_count": 26,
   "metadata": {},
   "outputs": [
    {
     "name": "stdout",
     "output_type": "stream",
     "text": [
      "...........................................!\n"
     ]
    }
   ],
   "source": [
    "xgb_transformer.wait()"
   ]
  },
  {
   "cell_type": "markdown",
   "metadata": {},
   "source": [
    "Now the transform job has executed and the result, the estimated sentiment of each review, has been saved on S3. Since we would rather work on this file locally we can perform a bit of notebook magic to copy the file to the `data_dir`."
   ]
  },
  {
   "cell_type": "code",
   "execution_count": 27,
   "metadata": {},
   "outputs": [
    {
     "name": "stdout",
     "output_type": "stream",
     "text": [
      "Completed 256.0 KiB/369.4 KiB (1.8 MiB/s) with 1 file(s) remaining\r",
      "Completed 369.4 KiB/369.4 KiB (2.4 MiB/s) with 1 file(s) remaining\r",
      "download: s3://sagemaker-us-east-1-440180731255/xgboost-2018-10-15-04-49-26-249/test.csv.out to ../data/sentiment_web_app/test.csv.out\r\n"
     ]
    }
   ],
   "source": [
    "!aws s3 cp --recursive $xgb_transformer.output_path $data_dir"
   ]
  },
  {
   "cell_type": "markdown",
   "metadata": {},
   "source": [
    "The last step is now to read in the output from our model, convert the output to something a little more usable, in this case we want the sentiment to be either `1` (positive) or `0` (negative), and then compare to the ground truth labels."
   ]
  },
  {
   "cell_type": "code",
   "execution_count": 28,
   "metadata": {},
   "outputs": [],
   "source": [
    "predictions = pd.read_csv(os.path.join(data_dir, 'test.csv.out'), header=None)\n",
    "predictions = [round(num) for num in predictions.squeeze().values]"
   ]
  },
  {
   "cell_type": "code",
   "execution_count": 29,
   "metadata": {},
   "outputs": [
    {
     "data": {
      "text/plain": [
       "0.8538"
      ]
     },
     "execution_count": 29,
     "metadata": {},
     "output_type": "execute_result"
    }
   ],
   "source": [
    "from sklearn.metrics import accuracy_score\n",
    "accuracy_score(test_y, predictions)"
   ]
  },
  {
   "cell_type": "markdown",
   "metadata": {},
   "source": [
    "## Step 6: Deploying the model\n",
    "\n",
    "Once we construct and fit our model, SageMaker stores the resulting model artifacts and we can use those to deploy an endpoint (inference code). To see this, look in the SageMaker console and you should see that a model has been created along with a link to the S3 location where the model artifacts have been stored.\n",
    "\n",
    "Deploying an endpoint is a lot like training the model with a few important differences. The first is that a deployed model doesn't change the model artifacts, so as you send it various testing instances the model won't change. Another difference is that since we aren't performing a fixed computation, as we were in the training step or while performing a batch transform, the compute instance that gets started stays running until we tell it to stop. This is important to note as if we forget and leave it running we will be charged the entire time."
   ]
  },
  {
   "cell_type": "code",
   "execution_count": 30,
   "metadata": {},
   "outputs": [
    {
     "name": "stderr",
     "output_type": "stream",
     "text": [
      "INFO:sagemaker:Creating model with name: xgboost-2018-10-15-04-53-51-173\n",
      "INFO:sagemaker:Creating endpoint with name xgboost-2018-10-15-04-42-41-025\n"
     ]
    },
    {
     "name": "stdout",
     "output_type": "stream",
     "text": [
      "---------------------------------------------------------------!"
     ]
    }
   ],
   "source": [
    "xgb_predictor = xgb.deploy(initial_instance_count = 1, instance_type = 'ml.m4.xlarge')"
   ]
  },
  {
   "cell_type": "markdown",
   "metadata": {},
   "source": [
    "### Testing the model (again)\n",
    "\n",
    "Now that we have deployed our endpoint, we can send the testing data to it and get back the inference results. We already did this earlier using the batch transform functionality of SageMaker, however, we will test our model again using the newly deployed endpoint so that we can make sure that it works properly and to get a bit of a feel for how the endpoint works.\n",
    "\n",
    "When using the created endpoint it is important to know that we are limited in the amount of information we can send in each call so we need to break the testing data up into chunks and then send each chunk. Also, we need to serialize our data before we send it to the endpoint to ensure that our data is transmitted properly. Fortunately, SageMaker can do the serialization part for us provided we tell it the format of our data."
   ]
  },
  {
   "cell_type": "code",
   "execution_count": 31,
   "metadata": {},
   "outputs": [],
   "source": [
    "from sagemaker.predictor import csv_serializer\n",
    "\n",
    "# We need to tell the endpoint what format the data we are sending is in so that SageMaker can perform the serialization.\n",
    "xgb_predictor.content_type = 'text/csv'\n",
    "xgb_predictor.serializer = csv_serializer"
   ]
  },
  {
   "cell_type": "code",
   "execution_count": 32,
   "metadata": {},
   "outputs": [],
   "source": [
    "# We split the data into chunks and send each chunk seperately, accumulating the results.\n",
    "\n",
    "def predict(data, rows=512):\n",
    "    split_array = np.array_split(data, int(data.shape[0] / float(rows) + 1))\n",
    "    predictions = ''\n",
    "    for array in split_array:\n",
    "        predictions = ','.join([predictions, xgb_predictor.predict(array).decode('utf-8')])\n",
    "    \n",
    "    return np.fromstring(predictions[1:], sep=',')"
   ]
  },
  {
   "cell_type": "code",
   "execution_count": 33,
   "metadata": {},
   "outputs": [],
   "source": [
    "test_X = pd.read_csv(os.path.join(data_dir, 'test.csv'), header=None).values\n",
    "\n",
    "predictions = predict(test_X)\n",
    "predictions = [round(num) for num in predictions]"
   ]
  },
  {
   "cell_type": "markdown",
   "metadata": {},
   "source": [
    "Lastly, we check to see what the accuracy of our model is."
   ]
  },
  {
   "cell_type": "code",
   "execution_count": 34,
   "metadata": {},
   "outputs": [
    {
     "data": {
      "text/plain": [
       "0.8538"
      ]
     },
     "execution_count": 34,
     "metadata": {},
     "output_type": "execute_result"
    }
   ],
   "source": [
    "from sklearn.metrics import accuracy_score\n",
    "accuracy_score(test_y, predictions)"
   ]
  },
  {
   "cell_type": "markdown",
   "metadata": {},
   "source": [
    "And the results here should agree with the model testing that we did earlier using the batch transform job.\n",
    "\n",
    "### Cleaning up\n",
    "\n",
    "Now that we've determined that deploying our model works as expected, we are going to shut it down. Remember that the longer the endpoint is left running, the greater the cost and since we have a bit more work to do before we are able to use our endpoint with our simple web app, we should shut everything down."
   ]
  },
  {
   "cell_type": "code",
   "execution_count": 35,
   "metadata": {},
   "outputs": [
    {
     "name": "stderr",
     "output_type": "stream",
     "text": [
      "INFO:sagemaker:Deleting endpoint with name: xgboost-2018-10-15-04-42-41-025\n"
     ]
    }
   ],
   "source": [
    "xgb_predictor.delete_endpoint()"
   ]
  },
  {
   "cell_type": "markdown",
   "metadata": {},
   "source": [
    "## Step 7: Putting our model to work\n",
    "\n",
    "As we've mentioned a few times now, our goal is to have our model deployed and then access it using a very simple web app. The intent is for this web app to take some user submitted data (a review), send it off to our endpoint (the model) and then display the result.\n",
    "\n",
    "However, there is a small catch. Currently the only way we can access the endpoint to send it data is using the SageMaker API. We can, if we wish, expose the actual URL that our model's endpoint is receiving data from, however, if we just send it data ourselves we will not get anything in return. This is because the endpoint created by SageMaker requires the entity accessing it have the correct permissions. So, we would need to somehow authenticate our web app with AWS.\n",
    "\n",
    "Having a website that authenticates to AWS seems a bit beyond the scope of this lesson so we will opt for an alternative approach. Namely, we will create a new endpoint which does not require authentication and which acts as a proxy for the SageMaker endpoint.\n",
    "\n",
    "As an additional constraint, we will try to avoid doing any data processing in the web app itself. Remember that when we constructed and tested our model we started with a movie review, then we simplified it by removing any html formatting and punctuation, then we constructed a bag of words embedding and the resulting vector is what we sent to our model. All of this needs to be done to our user input as well.\n",
    "\n",
    "Fortunately we can do all of this data processing in the backend, using Amazon's Lambda service.\n",
    "\n",
    "<img src=\"Web App Diagram.svg\">\n",
    "\n",
    "The diagram above gives an overview of how the various services will work together. On the far right is the model which we trained above and which will be deployed using SageMaker. On the far left is our web app that collects a user's movie review, sends it off and expects a positive or negative sentiment in return.\n",
    "\n",
    "In the middle is where some of the magic happens. We will construct a Lambda function, which you can think of as a straightforward Python function that can be executed whenever a specified event occurs. This Python function will do the data processing we need to perform on a user submitted review. In addition, we will give this function permission to send and recieve data from a SageMaker endpoint.\n",
    "\n",
    "Lastly, the method we will use to execute the Lambda function is a new endpoint that we will create using API Gateway. This endpoint will be a url that listens for data to be sent to it. Once it gets some data it will pass that data on to the Lambda function and then return whatever the Lambda function returns. Essentially it will act as an interface that lets our web app communicate with the Lambda function.\n",
    "\n",
    "### Processing a single review\n",
    "\n",
    "For now, suppose we are given a movie review by our user in the form of a string, like so:"
   ]
  },
  {
   "cell_type": "code",
   "execution_count": 36,
   "metadata": {},
   "outputs": [],
   "source": [
    "test_review = \"Nothing but a disgusting materialistic pageant of glistening abed remote control greed zombies, totally devoid of any heart or heat. A romantic comedy that has zero romantic chemestry and zero laughs!\""
   ]
  },
  {
   "cell_type": "markdown",
   "metadata": {},
   "source": [
    "How do we go from this string to the bag of words feature vector that is expected by our model?\n",
    "\n",
    "If we recall at the beginning of this notebook, the first step is to remove any unnecessary characters using the `review_to_words` method. Remember that we intentionally did this in a very simplistic way. This is because we are going to have to copy this method to our (eventual) Lambda function (we will go into more detail later) and this means it needs to be rather simplistic."
   ]
  },
  {
   "cell_type": "code",
   "execution_count": 37,
   "metadata": {},
   "outputs": [
    {
     "name": "stdout",
     "output_type": "stream",
     "text": [
      "nothing but a disgusting materialistic pageant of glistening abed remote control greed zombies totally devoid of any heart or heat a romantic comedy that has zero romantic chemestry and zero laughs\n"
     ]
    }
   ],
   "source": [
    "test_words = review_to_words(test_review)\n",
    "print(test_words)"
   ]
  },
  {
   "cell_type": "markdown",
   "metadata": {},
   "source": [
    "Next, we need to construct a bag of words embedding of the `test_words` string. To do this, remember that a bag of words embedding uses a `vocabulary` consisting of the most frequently appearing words in a set of documents. Then, for each word in the vocabulary we record the number of times that word appears in `test_words`. We constructed the `vocabulary` earlier using the training set for our problem so encoding `test_words` is relatively straightforward."
   ]
  },
  {
   "cell_type": "code",
   "execution_count": 38,
   "metadata": {},
   "outputs": [],
   "source": [
    "def bow_encoding(words, vocabulary):\n",
    "    bow = [0] * len(vocabulary) # Start by setting the count for each word in the vocabulary to zero.\n",
    "    for word in words.split():  # For each word in the string\n",
    "        if word in vocabulary:  # If the word is one that occurs in the vocabulary, increase its count.\n",
    "            bow[vocabulary[word]] += 1\n",
    "    return bow"
   ]
  },
  {
   "cell_type": "code",
   "execution_count": 39,
   "metadata": {},
   "outputs": [
    {
     "name": "stdout",
     "output_type": "stream",
     "text": [
      "[0, 0, 0, 0, 0, 0, 0, 0, 0, 0, 0, 0, 0, 0, 0, 0, 0, 0, 0, 0, 0, 0, 0, 0, 0, 0, 0, 0, 0, 0, 0, 0, 0, 0, 0, 0, 0, 0, 0, 0, 0, 0, 0, 0, 0, 0, 0, 0, 0, 0, 0, 0, 0, 0, 0, 0, 0, 0, 0, 0, 0, 0, 0, 0, 0, 0, 0, 0, 0, 0, 0, 0, 0, 0, 0, 0, 0, 0, 0, 0, 0, 0, 0, 0, 0, 0, 0, 0, 0, 0, 0, 0, 0, 0, 0, 0, 0, 0, 0, 0, 0, 0, 0, 0, 0, 0, 0, 0, 0, 0, 0, 0, 0, 0, 0, 0, 0, 0, 0, 0, 0, 0, 0, 0, 0, 0, 0, 0, 0, 0, 0, 0, 0, 0, 0, 0, 0, 0, 0, 0, 0, 0, 0, 0, 0, 0, 0, 0, 0, 0, 0, 0, 0, 0, 0, 0, 0, 0, 0, 0, 0, 0, 0, 0, 0, 0, 0, 0, 0, 0, 0, 0, 0, 0, 0, 0, 0, 0, 0, 0, 0, 0, 0, 0, 0, 0, 0, 0, 0, 0, 0, 0, 0, 0, 0, 0, 0, 0, 0, 0, 0, 0, 0, 0, 0, 0, 0, 0, 0, 0, 0, 0, 0, 0, 0, 0, 0, 0, 0, 0, 0, 0, 0, 0, 0, 0, 1, 0, 0, 0, 0, 0, 0, 0, 0, 0, 0, 0, 0, 0, 0, 0, 0, 0, 0, 0, 0, 0, 0, 0, 0, 0, 0, 0, 0, 0, 1, 0, 0, 0, 0, 0, 0, 0, 0, 0, 0, 0, 0, 0, 0, 0, 0, 0, 0, 0, 0, 0, 0, 0, 0, 0, 0, 0, 0, 0, 0, 0, 0, 0, 0, 0, 0, 0, 0, 0, 0, 0, 0, 0, 0, 0, 0, 0, 0, 0, 0, 0, 0, 0, 0, 0, 0, 0, 0, 0, 0, 0, 0, 0, 0, 0, 0, 0, 0, 0, 0, 0, 0, 0, 0, 0, 0, 0, 0, 0, 0, 0, 0, 0, 0, 0, 0, 0, 0, 0, 0, 0, 0, 0, 0, 0, 0, 0, 0, 0, 0, 0, 0, 0, 0, 0, 0, 0, 0, 0, 0, 0, 0, 0, 0, 0, 0, 0, 0, 0, 0, 0, 0, 0, 0, 0, 0, 0, 0, 0, 0, 0, 0, 0, 0, 0, 0, 0, 0, 0, 0, 0, 0, 0, 0, 0, 0, 0, 0, 0, 0, 0, 0, 0, 0, 0, 0, 0, 0, 0, 0, 0, 0, 0, 0, 0, 0, 0, 0, 0, 0, 0, 0, 0, 0, 0, 0, 0, 0, 0, 0, 0, 0, 0, 0, 0, 0, 0, 0, 0, 0, 0, 0, 0, 0, 0, 0, 0, 0, 0, 0, 0, 0, 0, 0, 0, 0, 0, 0, 0, 0, 0, 0, 0, 0, 0, 0, 0, 0, 0, 0, 0, 0, 0, 0, 0, 0, 0, 0, 0, 0, 0, 0, 0, 0, 0, 0, 0, 0, 0, 0, 0, 0, 0, 0, 0, 0, 0, 0, 0, 0, 0, 0, 0, 0, 0, 0, 0, 0, 0, 0, 0, 0, 0, 0, 0, 0, 0, 0, 0, 0, 0, 0, 0, 0, 0, 0, 0, 0, 0, 0, 0, 0, 0, 0, 0, 0, 0, 0, 0, 0, 0, 0, 0, 0, 0, 0, 0, 0, 0, 0, 0, 0, 0, 0, 0, 0, 0, 0, 0, 0, 0, 0, 0, 0, 0, 0, 0, 0, 0, 0, 0, 0, 0, 0, 0, 0, 0, 0, 0, 0, 0, 0, 0, 0, 0, 0, 0, 0, 0, 0, 0, 0, 0, 0, 0, 0, 0, 0, 0, 0, 0, 0, 0, 0, 0, 0, 0, 0, 0, 0, 0, 0, 0, 0, 0, 0, 0, 0, 0, 0, 0, 0, 0, 0, 0, 0, 0, 0, 0, 1, 0, 0, 0, 0, 0, 0, 0, 0, 0, 0, 0, 0, 0, 0, 0, 0, 0, 0, 0, 0, 0, 0, 0, 0, 0, 0, 0, 0, 0, 0, 0, 0, 0, 0, 0, 0, 0, 0, 0, 0, 0, 0, 0, 0, 0, 0, 0, 0, 0, 0, 0, 0, 0, 0, 0, 0, 0, 0, 0, 0, 0, 0, 0, 0, 0, 0, 0, 0, 0, 0, 0, 0, 0, 0, 0, 0, 0, 0, 0, 0, 0, 0, 0, 0, 0, 0, 0, 0, 0, 0, 0, 0, 0, 0, 0, 0, 0, 0, 0, 0, 0, 0, 0, 0, 0, 0, 0, 0, 0, 0, 0, 0, 0, 0, 0, 0, 0, 0, 0, 0, 0, 0, 0, 0, 0, 0, 0, 0, 0, 0, 0, 0, 0, 0, 0, 0, 0, 0, 0, 0, 0, 0, 0, 0, 0, 0, 0, 0, 0, 0, 0, 0, 0, 0, 0, 0, 0, 0, 0, 0, 0, 0, 0, 0, 0, 0, 0, 0, 0, 0, 0, 0, 0, 0, 0, 0, 0, 0, 0, 0, 0, 0, 0, 0, 0, 0, 0, 0, 0, 0, 0, 0, 0, 0, 0, 0, 0, 0, 0, 0, 0, 0, 0, 0, 0, 0, 0, 0, 0, 0, 0, 0, 0, 0, 0, 0, 0, 0, 0, 0, 0, 0, 0, 0, 0, 0, 0, 0, 0, 0, 0, 0, 0, 0, 0, 0, 0, 0, 0, 0, 0, 0, 0, 0, 0, 0, 0, 0, 0, 0, 0, 0, 0, 1, 0, 0, 0, 0, 0, 0, 0, 0, 0, 0, 0, 0, 0, 0, 0, 0, 0, 0, 0, 0, 0, 0, 0, 0, 0, 0, 0, 0, 0, 0, 0, 0, 0, 0, 0, 0, 0, 0, 0, 0, 0, 0, 0, 0, 0, 0, 0, 0, 0, 0, 0, 0, 0, 0, 0, 0, 0, 0, 0, 0, 0, 0, 0, 0, 0, 0, 0, 0, 0, 0, 0, 0, 0, 0, 0, 0, 0, 0, 0, 0, 0, 0, 0, 0, 0, 0, 1, 0, 0, 0, 0, 0, 0, 0, 0, 0, 0, 0, 0, 0, 0, 0, 0, 0, 0, 0, 0, 0, 0, 0, 0, 0, 0, 0, 0, 0, 0, 0, 0, 0, 0, 0, 0, 0, 0, 0, 0, 0, 0, 0, 0, 0, 0, 0, 0, 0, 0, 0, 0, 0, 0, 0, 0, 0, 0, 0, 0, 0, 0, 0, 0, 0, 0, 0, 0, 0, 0, 0, 0, 0, 0, 0, 0, 0, 0, 0, 0, 0, 0, 0, 0, 0, 0, 0, 0, 0, 0, 0, 0, 0, 0, 0, 0, 0, 0, 0, 0, 0, 0, 0, 0, 0, 0, 0, 0, 0, 0, 0, 0, 0, 0, 0, 0, 0, 0, 0, 0, 0, 0, 0, 0, 0, 0, 0, 0, 0, 0, 0, 0, 0, 0, 0, 0, 0, 0, 0, 0, 0, 0, 0, 0, 0, 0, 0, 0, 0, 0, 0, 0, 0, 0, 0, 0, 0, 0, 0, 0, 0, 0, 0, 0, 0, 0, 0, 0, 0, 0, 0, 0, 0, 0, 0, 0, 0, 0, 0, 0, 0, 0, 0, 0, 0, 0, 0, 0, 0, 0, 0, 0, 0, 0, 0, 0, 0, 0, 0, 0, 0, 0, 0, 0, 0, 0, 0, 0, 0, 0, 0, 0, 0, 0, 0, 0, 0, 0, 0, 0, 0, 0, 0, 0, 0, 0, 0, 0, 0, 0, 0, 0, 0, 0, 0, 0, 0, 0, 0, 0, 0, 0, 0, 0, 0, 0, 0, 0, 0, 0, 0, 0, 1, 0, 0, 0, 0, 0, 0, 0, 0, 0, 0, 0, 0, 0, 0, 0, 0, 0, 0, 0, 0, 0, 0, 0, 0, 0, 0, 0, 0, 0, 0, 0, 0, 0, 0, 0, 0, 0, 0, 0, 0, 0, 0, 0, 0, 0, 0, 0, 0, 0, 0, 0, 0, 0, 0, 0, 1, 0, 0, 0, 0, 0, 0, 0, 0, 0, 0, 0, 0, 0, 0, 0, 0, 0, 0, 0, 0, 0, 0, 0, 0, 0, 0, 0, 0, 0, 0, 0, 0, 0, 0, 0, 0, 0, 0, 0, 0, 0, 0, 0, 0, 0, 0, 0, 0, 0, 0, 0, 0, 0, 0, 0, 0, 0, 0, 0, 0, 0, 0, 0, 0, 0, 0, 0, 0, 0, 0, 0, 0, 0, 0, 0, 0, 0, 0, 0, 0, 0, 0, 0, 0, 0, 0, 0, 0, 0, 0, 0, 0, 0, 0, 0, 0, 0, 0, 0, 0, 0, 0, 0, 0, 0, 0, 0, 0, 0, 0, 0, 0, 0, 0, 0, 0, 0, 0, 0, 0, 0, 0, 0, 0, 0, 0, 0, 0, 0, 0, 0, 0, 0, 0, 0, 0, 0, 0, 0, 0, 0, 0, 0, 0, 0, 0, 0, 0, 0, 0, 0, 0, 0, 0, 0, 0, 0, 0, 0, 0, 0, 0, 0, 0, 0, 0, 0, 0, 0, 0, 0, 0, 0, 0, 0, 0, 0, 0, 0, 0, 0, 0, 0, 0, 0, 0, 0, 0, 0, 0, 0, 0, 0, 0, 0, 0, 0, 0, 0, 0, 0, 0, 0, 0, 0, 0, 0, 0, 0, 0, 0, 0, 0, 0, 0, 0, 0, 0, 0, 0, 0, 0, 0, 0, 0, 0, 0, 0, 0, 0, 0, 0, 0, 0, 0, 0, 0, 0, 0, 0, 0, 0, 0, 0, 0, 0, 0, 0, 0, 0, 0, 0, 0, 0, 0, 0, 0, 0, 0, 0, 0, 0, 0, 0, 0, 0, 0, 0, 0, 0, 0, 0, 0, 0, 0, 0, 0, 0, 0, 0, 0, 0, 0, 0, 0, 0, 0, 0, 0, 0, 0, 0, 0, 0, 0, 0, 0, 0, 0, 0, 0, 0, 0, 0, 0, 0, 0, 0, 0, 0, 0, 0, 0, 0, 0, 0, 0, 0, 0, 0, 0, 0, 0, 0, 0, 0, 0, 0, 0, 0, 0, 0, 0, 0, 0, 0, 0, 0, 0, 0, 0, 0, 0, 0, 0, 0, 0, 0, 0, 0, 0, 0, 0, 0, 0, 0, 0, 0, 0, 0, 0, 0, 0, 0, 0, 0, 0, 0, 0, 0, 0, 0, 0, 0, 0, 0, 0, 0, 0, 0, 0, 0, 0, 0, 0, 0, 0, 0, 0, 0, 0, 0, 0, 0, 0, 0, 0, 0, 0, 0, 0, 0, 0, 0, 0, 0, 0, 0, 0, 0, 0, 0, 0, 0, 0, 0, 0, 0, 0, 0, 0, 0, 0, 0, 0, 0, 0, 0, 0, 0, 0, 0, 0, 0, 0, 0, 0, 0, 0, 0, 0, 0, 0, 0, 0, 0, 0, 0, 0, 0, 0, 0, 0, 0, 0, 0, 0, 0, 0, 0, 0, 0, 0, 0, 0, 0, 0, 0, 0, 0, 0, 0, 0, 0, 0, 0, 0, 0, 0, 0, 0, 0, 0, 0, 0, 0, 0, 0, 0, 0, 0, 0, 0, 0, 0, 0, 0, 0, 0, 0, 0, 0, 0, 0, 0, 0, 0, 0, 0, 0, 0, 0, 0, 0, 0, 0, 0, 0, 0, 0, 0, 0, 0, 0, 0, 0, 0, 0, 0, 0, 0, 0, 0, 0, 0, 0, 0, 0, 0, 0, 0, 0, 0, 0, 0, 0, 0, 0, 0, 0, 0, 0, 0, 0, 0, 0, 0, 0, 0, 0, 0, 0, 0, 0, 0, 0, 0, 0, 0, 0, 0, 0, 0, 0, 0, 0, 0, 0, 0, 0, 0, 0, 0, 0, 0, 0, 0, 0, 0, 0, 0, 0, 0, 0, 0, 0, 0, 0, 0, 0, 0, 0, 0, 0, 0, 0, 0, 0, 0, 0, 0, 0, 0, 0, 0, 0, 0, 0, 0, 0, 0, 0, 0, 0, 0, 0, 0, 0, 0, 0, 0, 0, 0, 0, 0, 0, 0, 0, 0, 0, 0, 0, 0, 0, 0, 0, 0, 0, 0, 0, 0, 0, 0, 0, 0, 0, 0, 0, 0, 0, 0, 0, 0, 0, 0, 0, 0, 0, 0, 0, 0, 0, 0, 0, 0, 0, 0, 0, 0, 0, 0, 1, 0, 0, 0, 0, 0, 0, 0, 0, 0, 0, 0, 0, 0, 0, 0, 0, 0, 0, 0, 0, 0, 0, 0, 0, 0, 0, 0, 0, 0, 0, 0, 0, 0, 0, 0, 0, 0, 0, 0, 0, 0, 0, 0, 0, 0, 0, 0, 0, 0, 0, 0, 0, 0, 0, 0, 0, 0, 0, 0, 0, 0, 0, 0, 0, 0, 0, 0, 0, 0, 0, 0, 0, 0, 0, 1, 0, 0, 0, 0, 0, 0, 0, 0, 0, 0, 0, 0, 0, 0, 0, 0, 0, 0, 0, 0, 1, 0, 0, 1, 0, 0, 0, 0, 0, 0, 0, 0, 0, 0, 0, 0, 0, 0, 0, 0, 0, 0, 0, 0, 0, 0, 0, 0, 0, 0, 0, 0, 0, 0, 0, 0, 0, 0, 0, 0, 0, 0, 0, 0, 0, 0, 0, 0, 0, 0, 0, 0, 0, 0, 0, 0, 0, 0, 0, 0, 0, 0, 0, 0, 0, 0, 0, 0, 0, 0, 0, 0, 0, 0, 0, 0, 0, 0, 0, 0, 0, 0, 0, 0, 0, 0, 0, 0, 0, 0, 0, 0, 0, 0, 0, 0, 0, 0, 0, 0, 0, 0, 0, 0, 0, 0, 0, 0, 0, 0, 0, 0, 0, 0, 0, 0, 0, 0, 0, 0, 0, 0, 0, 0, 0, 0, 0, 0, 0, 0, 0, 0, 0, 0, 0, 0, 0, 0, 0, 0, 0, 0, 0, 0, 0, 0, 0, 0, 0, 0, 0, 0, 0, 0, 0, 0, 0, 0, 0, 0, 0, 0, 0, 0, 0, 0, 0, 0, 0, 0, 0, 0, 0, 0, 0, 0, 0, 0, 0, 0, 0, 0, 0, 0, 0, 0, 0, 0, 0, 0, 0, 0, 0, 0, 0, 0, 0, 0, 0, 0, 0, 0, 0, 0, 0, 0, 0, 0, 0, 0, 0, 0, 0, 0, 0, 0, 0, 0, 0, 0, 0, 0, 0, 0, 0, 0, 0, 0, 0, 0, 0, 0, 0, 0, 0, 0, 0, 0, 0, 0, 0, 0, 0, 0, 0, 0, 0, 0, 0, 0, 0, 0, 0, 0, 0, 0, 0, 0, 0, 0, 0, 0, 0, 0, 0, 0, 0, 0, 0, 0, 0, 0, 0, 0, 0, 0, 0, 0, 0, 0, 0, 0, 0, 0, 0, 0, 0, 0, 0, 0, 0, 0, 0, 0, 0, 0, 0, 0, 0, 0, 0, 0, 0, 0, 0, 0, 0, 0, 0, 0, 0, 0, 0, 0, 0, 0, 0, 0, 0, 0, 0, 0, 0, 0, 0, 0, 0, 0, 0, 0, 0, 0, 0, 0, 0, 0, 0, 0, 0, 0, 0, 0, 0, 0, 0, 0, 0, 0, 0, 0, 0, 0, 0, 0, 0, 0, 0, 0, 0, 0, 0, 0, 0, 0, 0, 0, 0, 0, 0, 0, 0, 0, 0, 0, 0, 0, 0, 0, 0, 0, 0, 0, 0, 0, 0, 0, 0, 0, 0, 0, 0, 0, 0, 0, 0, 0, 0, 0, 0, 0, 0, 0, 0, 0, 0, 0, 0, 0, 0, 0, 0, 0, 0, 0, 0, 0, 0, 0, 0, 0, 0, 0, 0, 0, 0, 0, 0, 0, 0, 0, 0, 0, 0, 0, 0, 0, 0, 0, 0, 0, 0, 0, 0, 0, 0, 0, 0, 0, 0, 0, 0, 0, 0, 0, 0, 0, 0, 0, 0, 0, 0, 0, 0, 0, 0, 0, 0, 0, 0, 0, 1, 0, 0, 0, 0, 0, 0, 0, 0, 0, 0, 0, 0, 0, 0, 0, 0, 0, 0, 0, 0, 0, 0, 0, 0, 0, 0, 0, 0, 0, 0, 0, 0, 0, 0, 0, 0, 0, 0, 0, 0, 0, 0, 0, 0, 0, 0, 0, 0, 0, 0, 0, 0, 0, 0, 0, 0, 0, 0, 0, 0, 0, 0, 0, 0, 0, 0, 0, 0, 0, 0, 0, 0, 0, 0, 0, 0, 0, 0, 0, 0, 0, 0, 0, 0, 0, 0, 0, 0, 0, 0, 0, 0, 0, 0, 0, 0, 0, 0, 0, 0, 0, 0, 0, 0, 0, 0, 0, 0, 0, 0, 0, 0, 0, 0, 0, 0, 0, 0, 0, 0, 0, 0, 0, 0, 0, 0, 0, 0, 0, 0, 0, 0, 0, 0, 0, 0, 0, 0, 0, 0, 0, 0, 0, 0, 0, 0, 0, 0, 0, 0, 0, 0, 0, 0, 0, 0, 0, 0, 0, 0, 0, 0, 0, 0, 0, 0, 0, 0, 0, 0, 0, 0, 0, 0, 0, 0, 0, 0, 0, 0, 0, 0, 0, 0, 0, 0, 0, 0, 0, 0, 0, 0, 0, 0, 0, 0, 0, 0, 0, 0, 0, 0, 0, 0, 0, 0, 0, 0, 0, 0, 0, 0, 0, 0, 0, 0, 0, 0, 0, 0, 0, 0, 0, 0, 0, 0, 0, 0, 0, 0, 0, 0, 0, 0, 0, 0, 0, 0, 0, 0, 0, 0, 0, 0, 0, 0, 0, 0, 0, 0, 0, 0, 0, 0, 0, 0, 0, 0, 0, 0, 0, 0, 0, 0, 0, 0, 0, 0, 0, 0, 0, 0, 0, 0, 0, 0, 0, 0, 0, 0, 0, 0, 0, 0, 0, 0, 0, 0, 0, 0, 0, 0, 0, 0, 0, 0, 0, 0, 0, 0, 0, 0, 0, 0, 0, 0, 0, 0, 0, 0, 0, 0, 0, 0, 0, 0, 0, 0, 0, 0, 0, 0, 0, 0, 0, 0, 0, 0, 0, 0, 0, 0, 0, 0, 0, 0, 0, 0, 0, 0, 0, 0, 0, 0, 0, 0, 0, 0, 0, 0, 0, 0, 0, 0, 0, 0, 0, 0, 0, 0, 0, 0, 0, 0, 0, 0, 0, 0, 0, 0, 0, 0, 0, 0, 0, 0, 0, 0, 0, 0, 0, 0, 0, 0, 0, 0, 0, 0, 0, 0, 0, 0, 0, 0, 0, 0, 0, 0, 0, 0, 0, 0, 0, 0, 0, 0, 0, 0, 0, 0, 0, 0, 0, 0, 0, 0, 0, 0, 0, 0, 0, 0, 0, 0, 0, 0, 0, 0, 0, 0, 0, 0, 0, 0, 0, 0, 0, 0, 0, 0, 0, 0, 0, 0, 0, 0, 0, 0, 0, 0, 0, 0, 0, 0, 0, 0, 0, 0, 0, 0, 0, 0, 0, 0, 0, 0, 0, 0, 0, 0, 0, 0, 0, 0, 0, 0, 0, 0, 0, 0, 0, 0, 0, 0, 0, 0, 0, 0, 0, 0, 0, 0, 0, 0, 0, 0, 0, 0, 0, 0, 0, 0, 0, 0, 0, 0, 0, 0, 0, 0, 0, 0, 1, 0, 0, 0, 0, 0, 0, 0, 0, 0, 0, 0, 0, 0, 0, 0, 0, 0, 0, 0, 0, 0, 0, 0, 0, 0, 0, 0, 0, 0, 0, 0, 0, 0, 0, 0, 2, 0, 0, 0, 0, 0, 0, 0, 0, 0, 0, 0, 0, 0, 0, 0, 0, 0, 0, 0, 0, 0, 0, 0, 0, 0, 0, 0, 0, 0, 0, 0, 0, 0, 0, 0, 0, 0, 0, 0, 0, 1, 0, 0, 0, 0, 0, 0, 0, 0, 0, 0, 0, 0, 0, 0, 0, 0, 0, 0, 0, 0, 0, 0, 0, 0, 0, 0, 0, 0, 0, 0, 0, 0, 0, 0, 0, 0, 0, 0, 0, 0, 0, 0, 0, 0, 0, 0, 0, 0, 0, 0, 0, 0, 0, 0, 0, 0, 0, 0, 0, 0, 0, 0, 0, 0, 0, 0, 0, 0, 0, 0, 0, 0, 0, 0, 0, 0, 0, 0, 0, 0, 0, 0, 0, 0, 0, 0, 0, 0, 0, 0, 0, 0, 0, 0, 0, 0, 0, 0, 0, 0, 0, 0, 0, 0, 0, 0, 0, 0, 0, 0, 0, 0, 0, 0, 0, 0, 0, 0, 0, 0, 0, 0, 0, 0, 0, 0, 0, 0, 0, 0, 0, 0, 0, 0, 0, 0, 0, 0, 0, 0, 0, 0, 0, 0, 0, 0, 0, 0, 0, 0, 0, 0, 0, 0, 0, 0, 0, 0, 0, 0, 0, 0, 0, 0, 0, 0, 0, 0, 0, 0, 0, 0, 0, 0, 0, 0, 0, 0, 0, 0, 0, 0, 0, 0, 0, 0, 0, 0, 0, 0, 0, 0, 0, 0, 0, 0, 0, 0, 0, 0, 0, 0, 0, 0, 0, 0, 0, 0, 0, 0, 0, 0, 0, 0, 0, 0, 0, 0, 0, 0, 0, 0, 0, 0, 0, 0, 0, 0, 0, 0, 0, 0, 0, 0, 0, 0, 0, 0, 0, 0, 0, 0, 0, 0, 0, 0, 0, 0, 0, 0, 0, 0, 0, 0, 0, 0, 0, 0, 0, 0, 0, 0, 0, 0, 0, 0, 0, 0, 0, 0, 0, 0, 0, 0, 0, 0, 0, 0, 0, 0, 0, 0, 0, 0, 0, 0, 0, 0, 0, 0, 0, 0, 0, 0, 0, 0, 0, 0, 0, 0, 0, 0, 0, 0, 0, 0, 0, 0, 0, 0, 0, 0, 0, 0, 0, 0, 0, 0, 0, 0, 0, 0, 0, 0, 0, 0, 0, 0, 0, 0, 0, 0, 0, 0, 0, 0, 0, 0, 0, 0, 0, 0, 0, 0, 0, 0, 0, 0, 0, 0, 0, 0, 0, 0, 0, 0, 0, 0, 0, 0, 0, 0, 0, 0, 0, 0, 0, 0, 0, 0, 0, 0, 0, 0, 0, 0, 0, 0, 0, 0, 0, 0, 0, 0, 0, 0, 0, 0, 0, 0, 0, 0, 0, 0, 0, 0, 0, 0, 0, 0, 0, 0, 0, 0, 0, 0, 0, 0, 0, 0, 0, 0, 0, 0, 0, 0, 0, 0, 0, 0, 0, 0, 0, 0, 0, 0, 0, 0, 0, 0, 0, 0, 0, 0, 0, 0, 0, 0, 0, 0, 0, 0, 0, 0, 0, 0, 0, 0, 0, 0, 0, 0, 0, 0, 0, 0, 0, 0, 0, 0, 0, 0, 0, 0, 0, 0, 0, 0, 0, 0, 0, 0, 0, 0, 0, 0, 0, 0, 0, 0, 0, 0, 0, 0, 0, 0, 0, 0, 0, 0, 0, 0, 0, 0, 0, 0, 0, 1, 0, 0, 0, 0, 0, 0, 0, 0, 0, 0, 0, 0, 0, 0, 0, 0, 0, 0, 0, 0, 0, 0, 0, 0, 0, 0, 0, 0, 0, 0, 0, 0, 0, 0, 0, 0, 0, 0, 0, 0, 0, 0, 0, 0, 0, 0, 0, 0, 0, 0, 0, 0, 0, 0, 0, 0, 0, 0, 0, 0, 0, 0, 0, 0, 0, 0, 0, 0, 0, 0, 0, 0, 0, 0, 0, 0, 0, 0, 0, 0, 0, 0, 0, 0, 0, 0, 0, 0, 0, 0, 0, 0, 0, 0, 0, 0, 0, 0, 0, 0, 0, 0, 0, 0, 0, 0, 0, 0, 0, 0, 2, 0, 0, 0, 0, 0, 0, 0, 0, 0, 0, 0, 0, 0, 0, 0, 0, 0, 0, 0, 0, 0, 0, 0, 0, 0, 0, 0, 0, 0, 0, 0, 0, 0, 0, 0, 0, 0, 0, 0, 0, 0, 0, 0, 0, 0, 0, 0, 0, 0, 0, 0, 0, 0, 0, 0, 0, 0, 0, 0, 0, 0, 0, 0, 0, 0, 0, 0, 0, 0, 0, 0, 0, 0, 0, 0, 0, 0, 0, 0, 0, 0, 0, 0, 0, 0, 0, 0, 0, 0, 0, 0, 0, 0, 0, 0, 0, 0, 0, 0, 0, 0, 0, 0, 0, 0, 0, 0, 0, 0, 0, 0, 0, 0, 0, 0, 0, 0, 0, 0, 0, 0, 0, 0, 0, 0, 0, 0, 0, 0, 0, 0, 0, 0, 0, 0, 0, 0, 0, 0, 0, 0, 0, 0, 0, 0, 0, 0, 0, 0, 0, 0, 0, 0, 0, 0, 0, 0, 0, 0, 0, 0, 0, 0, 0, 0, 0, 0, 0, 0, 0, 0, 0, 0, 0, 0, 0, 0, 0, 0, 0, 0, 0, 0, 0, 0, 0, 0, 0, 0, 0, 0, 0, 0, 0, 0, 0, 0, 0, 0, 0, 0, 0, 0, 0, 0, 0, 0, 0, 0, 0, 0, 0, 0, 0, 0, 0, 0, 0, 0, 0, 0, 0, 0, 0, 0, 0, 0, 0, 0, 0, 0, 0, 0, 0, 0, 0, 0, 0, 0, 0, 0, 0, 0, 0, 0, 0, 0, 0, 0, 0, 0, 0, 0, 0, 0, 0, 0, 0, 0, 0, 0, 0, 0, 0, 0, 0, 0, 0, 0, 0, 0, 0, 0, 0, 0, 0, 0, 0, 0, 0, 0, 0, 0, 0, 0, 0, 0, 0, 0, 0, 0, 0, 0, 0, 0, 0, 0, 0, 0, 0, 0, 0, 0, 0, 0, 0, 0, 0, 0, 0, 0, 0, 0, 0, 0, 0, 0, 0, 0, 0, 0, 0, 0, 0, 0, 0, 0, 0, 0, 0, 0, 0, 0, 0, 0, 0, 0, 0, 0, 0, 0, 0, 0, 0, 0, 0, 0, 0, 0, 0, 0, 0, 0, 0, 0, 0, 0, 0, 0, 0, 0, 0, 0, 0, 0, 0, 0, 0, 0, 0, 0, 0, 0, 0, 0, 0, 0, 0, 0, 0, 0, 0, 0, 0, 0, 0, 0, 0, 0, 0, 0, 0, 0, 0, 0, 0, 0, 0, 0, 0, 0, 0, 0, 0, 0, 0, 0, 0, 0, 0, 0, 0, 0, 0, 0, 0, 0, 0, 0, 0, 0, 0, 0, 0, 0, 0, 0, 0, 0, 0, 0, 0, 0, 0, 0, 0, 0, 0, 0, 0, 0, 0, 0, 0, 0, 0, 0, 0, 0, 0, 0, 0, 0, 0, 0, 0, 0, 0, 0, 0, 0, 0, 0, 0, 0, 0, 0, 0, 0, 0, 0, 0, 0, 0, 0, 0, 0, 0, 0, 0, 0, 0, 0, 0, 0, 0, 0, 0, 0, 0, 0, 0, 0, 0, 0, 0, 0, 0, 0, 0, 0, 0, 0, 0, 0, 0, 0, 0, 0, 0, 0, 0, 0, 0, 0, 0, 0, 0, 0, 0, 0, 0, 0, 0, 0, 0, 0, 0, 0, 0, 0, 0, 0, 0, 0, 0, 0, 0, 0, 0, 0, 0, 0, 0, 0, 0, 0, 0, 0, 0, 0, 0, 0, 0, 0, 0, 0, 0, 0, 0, 0, 0, 0, 0, 0, 0, 0, 0, 0, 0, 0, 0, 0, 0, 0, 0, 0, 0, 0, 0, 0, 0, 0, 0, 0, 0, 0, 0, 0, 0, 0, 0, 0, 0, 0, 0, 0, 0, 0, 0, 0, 0, 0, 0, 0, 0, 0, 0, 0, 0, 0, 0, 0, 0, 0, 0, 0, 0, 0, 0, 0, 0, 0, 0, 0, 0, 0, 0, 0, 0, 0, 0, 0, 0, 0, 0, 0, 0, 0, 0, 0, 0, 0, 0, 0, 0, 0, 0, 0, 0, 0, 0, 0, 0, 0, 0, 0, 0, 0, 0, 0, 0, 0, 0, 0, 0, 0, 0, 0, 0, 0, 0, 0, 0, 0, 0, 0, 0, 0, 0, 0, 0, 0, 0, 0, 0, 0, 0, 0, 0, 1, 0, 0, 0, 0, 0, 0, 0, 0, 0, 0, 0, 0, 0, 0, 0, 0, 0, 0, 0, 0, 0, 0, 0, 0, 0, 0, 0, 0, 0, 0, 0, 0, 0, 0, 0, 0, 0, 0, 0, 0, 0, 0, 0, 0, 0, 0, 0, 0, 0, 0, 0, 0, 0, 0, 0, 0, 0, 0, 0, 0, 0, 0, 0, 0, 0, 0, 0, 0, 0, 0, 0, 0, 0, 0, 0, 0, 0, 0, 0, 0, 0, 0, 0, 0, 0, 0, 0, 0, 0, 0, 0, 0, 0, 0, 0, 0, 0, 0, 0, 0, 0, 0, 0, 0, 0, 0, 0, 1, 0, 0, 0, 0, 0, 0, 0, 0, 0, 0, 0, 0, 0, 0, 0, 0, 0, 0, 0, 0, 0, 0, 0, 0, 0, 0, 0, 0, 0, 0, 0, 0, 0, 0, 0, 0, 0, 0, 0, 0, 0, 0, 0, 0, 0, 0, 0, 0, 0, 0, 0, 0, 0, 0, 0, 0, 0, 0, 0, 0, 0, 0, 0, 0, 0, 0, 0, 0, 0, 0, 0, 0, 0, 0, 0, 0, 0, 0, 0, 0, 0, 0, 0, 0, 0, 0, 0, 0, 0, 0, 0, 0, 0, 0, 0, 0, 0, 0, 0, 0, 0, 0, 0, 0, 0, 0, 0, 0, 0, 0, 0, 0, 0, 0, 0, 0, 0, 0, 0, 0, 0, 0, 0, 0, 0, 0, 0, 0, 0, 0, 0, 0, 0, 0, 0, 0, 0, 0, 0, 0, 0, 0, 0, 0, 0, 0, 0, 0, 0, 0, 0, 0, 0, 0, 0, 0, 0, 0, 0, 0, 0, 0, 0, 0, 0, 0, 0, 0, 0, 0, 0, 0, 0, 0, 0, 0, 0, 0, 0, 0, 0, 0, 0, 0, 0, 0, 0, 0, 0, 0, 0, 0, 0, 0, 0, 0, 0, 0, 0, 0, 0, 0, 0, 0, 0, 0, 0, 0, 0, 0, 0, 0, 0, 0, 0, 0, 0, 0, 0, 0, 0, 0, 0, 0, 0, 0, 0, 0, 0, 0, 0, 0, 0, 0, 0, 0, 0, 0, 0, 0, 0, 0, 0, 0, 0, 0, 0, 0, 0, 0, 0, 0, 0, 0, 0, 0, 0, 0, 0, 0, 0, 0, 0, 0, 0, 0, 0, 0, 0, 0, 0, 0, 0, 0, 0, 0, 0, 0, 0, 0, 0, 0, 0, 0, 0, 0, 0, 0, 0, 0, 0, 0, 0, 0, 0, 0, 0, 0, 0, 0, 0, 0, 0, 0, 0, 0, 0, 0, 0, 0, 0, 0, 0, 0, 0, 0, 0, 0, 0, 0, 0, 0, 0, 0, 0, 0, 0, 0, 0, 0, 0, 0, 0, 0, 0, 0, 0, 0, 0, 0, 0, 0, 0, 0, 0, 0, 0, 0, 0, 0, 0, 0, 0, 0, 0, 0, 0, 0, 0, 0, 0, 0, 0, 0, 0, 0, 0, 0, 0, 0, 0, 0, 0, 0, 0, 0, 0, 0, 0, 0, 0, 0, 0, 0, 0, 0, 0, 0, 0, 0, 0, 0, 0, 0, 0, 0, 0, 0, 0, 0, 0, 0, 0, 0, 0, 0, 0, 0, 0, 0, 0, 0, 0, 0, 0, 0, 0, 0, 0, 0, 0, 0, 0, 0, 0, 0, 0, 0, 0, 0, 0, 0, 0, 0, 0, 0, 0, 0, 0, 0, 0, 0, 0, 0, 0, 0, 0, 0, 0, 0, 0, 0, 0, 0, 0, 0, 0, 0, 0, 0, 0, 0, 0, 2, 0, 1, 0]\n"
     ]
    }
   ],
   "source": [
    "test_bow = bow_encoding(test_words, vocabulary)\n",
    "print(test_bow)"
   ]
  },
  {
   "cell_type": "code",
   "execution_count": 40,
   "metadata": {},
   "outputs": [
    {
     "data": {
      "text/plain": [
       "5000"
      ]
     },
     "execution_count": 40,
     "metadata": {},
     "output_type": "execute_result"
    }
   ],
   "source": [
    "len(test_bow)"
   ]
  },
  {
   "cell_type": "markdown",
   "metadata": {},
   "source": [
    "So now we know how to construct a bag of words encoding of a user provided review, how to we send it to our endpoint? First, we need to start the endpoint back up."
   ]
  },
  {
   "cell_type": "code",
   "execution_count": 41,
   "metadata": {},
   "outputs": [
    {
     "name": "stderr",
     "output_type": "stream",
     "text": [
      "INFO:sagemaker:Creating model with name: xgboost-2018-10-15-05-06-46-943\n",
      "INFO:sagemaker:Creating endpoint with name xgboost-2018-10-15-04-42-41-025\n"
     ]
    },
    {
     "name": "stdout",
     "output_type": "stream",
     "text": [
      "---------------------------------------------------------------!"
     ]
    }
   ],
   "source": [
    "xgb_predictor = xgb.deploy(initial_instance_count = 1, instance_type = 'ml.m4.xlarge')"
   ]
  },
  {
   "cell_type": "markdown",
   "metadata": {},
   "source": [
    "At this point we could just do the same thing that we did earlier when we tested our deployed model and send `test_bow` to our endpoint using the `xgb_predictor` object. However, when we eventually construct our Lambda function we won't have access to this object, so how do we call a SageMaker endpoint?\n",
    "\n",
    "It turns out that Python functions that are used in Lambda have access to another Amazon library called `boto3`. This library provides an API for working with Amazon services, including SageMaker. To start with, we need to get a handle to the SageMaker runtime."
   ]
  },
  {
   "cell_type": "code",
   "execution_count": 42,
   "metadata": {},
   "outputs": [],
   "source": [
    "import boto3\n",
    "\n",
    "runtime = boto3.Session().client('sagemaker-runtime')"
   ]
  },
  {
   "cell_type": "markdown",
   "metadata": {},
   "source": [
    "And now that we have access to the SageMaker runtime, we can ask it to make use of (invoke) an endpoint that has already been created. However, we need to provide SageMaker with the name of the deployed endpoint. To find this out we can print it out using the `xgb_predictor` object."
   ]
  },
  {
   "cell_type": "code",
   "execution_count": 43,
   "metadata": {},
   "outputs": [
    {
     "data": {
      "text/plain": [
       "'xgboost-2018-10-15-04-42-41-025'"
      ]
     },
     "execution_count": 43,
     "metadata": {},
     "output_type": "execute_result"
    }
   ],
   "source": [
    "xgb_predictor.endpoint"
   ]
  },
  {
   "cell_type": "markdown",
   "metadata": {},
   "source": [
    "Using the SageMaker runtime and the name of our endpoint, we can invoke the endpoint and send it the `test_bow` data."
   ]
  },
  {
   "cell_type": "code",
   "execution_count": 44,
   "metadata": {},
   "outputs": [
    {
     "ename": "ParamValidationError",
     "evalue": "Parameter validation failed:\nInvalid type for parameter Body, value: [0, 0, 0, 0, 0, 0, 0, 0, 0, 0, 0, 0, 0, 0, 0, 0, 0, 0, 0, 0, 0, 0, 0, 0, 0, 0, 0, 0, 0, 0, 0, 0, 0, 0, 0, 0, 0, 0, 0, 0, 0, 0, 0, 0, 0, 0, 0, 0, 0, 0, 0, 0, 0, 0, 0, 0, 0, 0, 0, 0, 0, 0, 0, 0, 0, 0, 0, 0, 0, 0, 0, 0, 0, 0, 0, 0, 0, 0, 0, 0, 0, 0, 0, 0, 0, 0, 0, 0, 0, 0, 0, 0, 0, 0, 0, 0, 0, 0, 0, 0, 0, 0, 0, 0, 0, 0, 0, 0, 0, 0, 0, 0, 0, 0, 0, 0, 0, 0, 0, 0, 0, 0, 0, 0, 0, 0, 0, 0, 0, 0, 0, 0, 0, 0, 0, 0, 0, 0, 0, 0, 0, 0, 0, 0, 0, 0, 0, 0, 0, 0, 0, 0, 0, 0, 0, 0, 0, 0, 0, 0, 0, 0, 0, 0, 0, 0, 0, 0, 0, 0, 0, 0, 0, 0, 0, 0, 0, 0, 0, 0, 0, 0, 0, 0, 0, 0, 0, 0, 0, 0, 0, 0, 0, 0, 0, 0, 0, 0, 0, 0, 0, 0, 0, 0, 0, 0, 0, 0, 0, 0, 0, 0, 0, 0, 0, 0, 0, 0, 0, 0, 0, 0, 0, 0, 0, 0, 1, 0, 0, 0, 0, 0, 0, 0, 0, 0, 0, 0, 0, 0, 0, 0, 0, 0, 0, 0, 0, 0, 0, 0, 0, 0, 0, 0, 0, 0, 1, 0, 0, 0, 0, 0, 0, 0, 0, 0, 0, 0, 0, 0, 0, 0, 0, 0, 0, 0, 0, 0, 0, 0, 0, 0, 0, 0, 0, 0, 0, 0, 0, 0, 0, 0, 0, 0, 0, 0, 0, 0, 0, 0, 0, 0, 0, 0, 0, 0, 0, 0, 0, 0, 0, 0, 0, 0, 0, 0, 0, 0, 0, 0, 0, 0, 0, 0, 0, 0, 0, 0, 0, 0, 0, 0, 0, 0, 0, 0, 0, 0, 0, 0, 0, 0, 0, 0, 0, 0, 0, 0, 0, 0, 0, 0, 0, 0, 0, 0, 0, 0, 0, 0, 0, 0, 0, 0, 0, 0, 0, 0, 0, 0, 0, 0, 0, 0, 0, 0, 0, 0, 0, 0, 0, 0, 0, 0, 0, 0, 0, 0, 0, 0, 0, 0, 0, 0, 0, 0, 0, 0, 0, 0, 0, 0, 0, 0, 0, 0, 0, 0, 0, 0, 0, 0, 0, 0, 0, 0, 0, 0, 0, 0, 0, 0, 0, 0, 0, 0, 0, 0, 0, 0, 0, 0, 0, 0, 0, 0, 0, 0, 0, 0, 0, 0, 0, 0, 0, 0, 0, 0, 0, 0, 0, 0, 0, 0, 0, 0, 0, 0, 0, 0, 0, 0, 0, 0, 0, 0, 0, 0, 0, 0, 0, 0, 0, 0, 0, 0, 0, 0, 0, 0, 0, 0, 0, 0, 0, 0, 0, 0, 0, 0, 0, 0, 0, 0, 0, 0, 0, 0, 0, 0, 0, 0, 0, 0, 0, 0, 0, 0, 0, 0, 0, 0, 0, 0, 0, 0, 0, 0, 0, 0, 0, 0, 0, 0, 0, 0, 0, 0, 0, 0, 0, 0, 0, 0, 0, 0, 0, 0, 0, 0, 0, 0, 0, 0, 0, 0, 0, 0, 0, 0, 0, 0, 0, 0, 0, 0, 0, 0, 0, 0, 0, 0, 0, 0, 0, 0, 0, 0, 0, 0, 0, 0, 0, 0, 0, 0, 0, 0, 0, 0, 0, 0, 0, 0, 0, 0, 0, 0, 0, 0, 0, 0, 0, 0, 0, 0, 0, 0, 0, 0, 0, 0, 0, 0, 0, 0, 0, 0, 0, 0, 0, 0, 0, 0, 0, 0, 0, 0, 0, 0, 0, 0, 0, 0, 0, 0, 0, 0, 0, 0, 0, 0, 0, 0, 0, 0, 1, 0, 0, 0, 0, 0, 0, 0, 0, 0, 0, 0, 0, 0, 0, 0, 0, 0, 0, 0, 0, 0, 0, 0, 0, 0, 0, 0, 0, 0, 0, 0, 0, 0, 0, 0, 0, 0, 0, 0, 0, 0, 0, 0, 0, 0, 0, 0, 0, 0, 0, 0, 0, 0, 0, 0, 0, 0, 0, 0, 0, 0, 0, 0, 0, 0, 0, 0, 0, 0, 0, 0, 0, 0, 0, 0, 0, 0, 0, 0, 0, 0, 0, 0, 0, 0, 0, 0, 0, 0, 0, 0, 0, 0, 0, 0, 0, 0, 0, 0, 0, 0, 0, 0, 0, 0, 0, 0, 0, 0, 0, 0, 0, 0, 0, 0, 0, 0, 0, 0, 0, 0, 0, 0, 0, 0, 0, 0, 0, 0, 0, 0, 0, 0, 0, 0, 0, 0, 0, 0, 0, 0, 0, 0, 0, 0, 0, 0, 0, 0, 0, 0, 0, 0, 0, 0, 0, 0, 0, 0, 0, 0, 0, 0, 0, 0, 0, 0, 0, 0, 0, 0, 0, 0, 0, 0, 0, 0, 0, 0, 0, 0, 0, 0, 0, 0, 0, 0, 0, 0, 0, 0, 0, 0, 0, 0, 0, 0, 0, 0, 0, 0, 0, 0, 0, 0, 0, 0, 0, 0, 0, 0, 0, 0, 0, 0, 0, 0, 0, 0, 0, 0, 0, 0, 0, 0, 0, 0, 0, 0, 0, 0, 0, 0, 0, 0, 0, 0, 0, 0, 0, 0, 0, 0, 0, 0, 0, 0, 0, 0, 0, 0, 0, 0, 1, 0, 0, 0, 0, 0, 0, 0, 0, 0, 0, 0, 0, 0, 0, 0, 0, 0, 0, 0, 0, 0, 0, 0, 0, 0, 0, 0, 0, 0, 0, 0, 0, 0, 0, 0, 0, 0, 0, 0, 0, 0, 0, 0, 0, 0, 0, 0, 0, 0, 0, 0, 0, 0, 0, 0, 0, 0, 0, 0, 0, 0, 0, 0, 0, 0, 0, 0, 0, 0, 0, 0, 0, 0, 0, 0, 0, 0, 0, 0, 0, 0, 0, 0, 0, 0, 0, 1, 0, 0, 0, 0, 0, 0, 0, 0, 0, 0, 0, 0, 0, 0, 0, 0, 0, 0, 0, 0, 0, 0, 0, 0, 0, 0, 0, 0, 0, 0, 0, 0, 0, 0, 0, 0, 0, 0, 0, 0, 0, 0, 0, 0, 0, 0, 0, 0, 0, 0, 0, 0, 0, 0, 0, 0, 0, 0, 0, 0, 0, 0, 0, 0, 0, 0, 0, 0, 0, 0, 0, 0, 0, 0, 0, 0, 0, 0, 0, 0, 0, 0, 0, 0, 0, 0, 0, 0, 0, 0, 0, 0, 0, 0, 0, 0, 0, 0, 0, 0, 0, 0, 0, 0, 0, 0, 0, 0, 0, 0, 0, 0, 0, 0, 0, 0, 0, 0, 0, 0, 0, 0, 0, 0, 0, 0, 0, 0, 0, 0, 0, 0, 0, 0, 0, 0, 0, 0, 0, 0, 0, 0, 0, 0, 0, 0, 0, 0, 0, 0, 0, 0, 0, 0, 0, 0, 0, 0, 0, 0, 0, 0, 0, 0, 0, 0, 0, 0, 0, 0, 0, 0, 0, 0, 0, 0, 0, 0, 0, 0, 0, 0, 0, 0, 0, 0, 0, 0, 0, 0, 0, 0, 0, 0, 0, 0, 0, 0, 0, 0, 0, 0, 0, 0, 0, 0, 0, 0, 0, 0, 0, 0, 0, 0, 0, 0, 0, 0, 0, 0, 0, 0, 0, 0, 0, 0, 0, 0, 0, 0, 0, 0, 0, 0, 0, 0, 0, 0, 0, 0, 0, 0, 0, 0, 0, 0, 0, 0, 0, 0, 0, 0, 1, 0, 0, 0, 0, 0, 0, 0, 0, 0, 0, 0, 0, 0, 0, 0, 0, 0, 0, 0, 0, 0, 0, 0, 0, 0, 0, 0, 0, 0, 0, 0, 0, 0, 0, 0, 0, 0, 0, 0, 0, 0, 0, 0, 0, 0, 0, 0, 0, 0, 0, 0, 0, 0, 0, 0, 1, 0, 0, 0, 0, 0, 0, 0, 0, 0, 0, 0, 0, 0, 0, 0, 0, 0, 0, 0, 0, 0, 0, 0, 0, 0, 0, 0, 0, 0, 0, 0, 0, 0, 0, 0, 0, 0, 0, 0, 0, 0, 0, 0, 0, 0, 0, 0, 0, 0, 0, 0, 0, 0, 0, 0, 0, 0, 0, 0, 0, 0, 0, 0, 0, 0, 0, 0, 0, 0, 0, 0, 0, 0, 0, 0, 0, 0, 0, 0, 0, 0, 0, 0, 0, 0, 0, 0, 0, 0, 0, 0, 0, 0, 0, 0, 0, 0, 0, 0, 0, 0, 0, 0, 0, 0, 0, 0, 0, 0, 0, 0, 0, 0, 0, 0, 0, 0, 0, 0, 0, 0, 0, 0, 0, 0, 0, 0, 0, 0, 0, 0, 0, 0, 0, 0, 0, 0, 0, 0, 0, 0, 0, 0, 0, 0, 0, 0, 0, 0, 0, 0, 0, 0, 0, 0, 0, 0, 0, 0, 0, 0, 0, 0, 0, 0, 0, 0, 0, 0, 0, 0, 0, 0, 0, 0, 0, 0, 0, 0, 0, 0, 0, 0, 0, 0, 0, 0, 0, 0, 0, 0, 0, 0, 0, 0, 0, 0, 0, 0, 0, 0, 0, 0, 0, 0, 0, 0, 0, 0, 0, 0, 0, 0, 0, 0, 0, 0, 0, 0, 0, 0, 0, 0, 0, 0, 0, 0, 0, 0, 0, 0, 0, 0, 0, 0, 0, 0, 0, 0, 0, 0, 0, 0, 0, 0, 0, 0, 0, 0, 0, 0, 0, 0, 0, 0, 0, 0, 0, 0, 0, 0, 0, 0, 0, 0, 0, 0, 0, 0, 0, 0, 0, 0, 0, 0, 0, 0, 0, 0, 0, 0, 0, 0, 0, 0, 0, 0, 0, 0, 0, 0, 0, 0, 0, 0, 0, 0, 0, 0, 0, 0, 0, 0, 0, 0, 0, 0, 0, 0, 0, 0, 0, 0, 0, 0, 0, 0, 0, 0, 0, 0, 0, 0, 0, 0, 0, 0, 0, 0, 0, 0, 0, 0, 0, 0, 0, 0, 0, 0, 0, 0, 0, 0, 0, 0, 0, 0, 0, 0, 0, 0, 0, 0, 0, 0, 0, 0, 0, 0, 0, 0, 0, 0, 0, 0, 0, 0, 0, 0, 0, 0, 0, 0, 0, 0, 0, 0, 0, 0, 0, 0, 0, 0, 0, 0, 0, 0, 0, 0, 0, 0, 0, 0, 0, 0, 0, 0, 0, 0, 0, 0, 0, 0, 0, 0, 0, 0, 0, 0, 0, 0, 0, 0, 0, 0, 0, 0, 0, 0, 0, 0, 0, 0, 0, 0, 0, 0, 0, 0, 0, 0, 0, 0, 0, 0, 0, 0, 0, 0, 0, 0, 0, 0, 0, 0, 0, 0, 0, 0, 0, 0, 0, 0, 0, 0, 0, 0, 0, 0, 0, 0, 0, 0, 0, 0, 0, 0, 0, 0, 0, 0, 0, 0, 0, 0, 0, 0, 0, 0, 0, 0, 0, 0, 0, 0, 0, 0, 0, 0, 0, 0, 0, 0, 0, 0, 0, 0, 0, 0, 0, 0, 0, 0, 0, 0, 0, 0, 0, 0, 0, 0, 0, 0, 0, 0, 0, 0, 0, 0, 0, 0, 0, 0, 0, 0, 0, 0, 0, 0, 0, 0, 0, 0, 0, 0, 0, 0, 0, 0, 0, 0, 0, 0, 0, 0, 0, 0, 0, 0, 0, 0, 0, 0, 0, 0, 0, 0, 0, 0, 0, 0, 0, 0, 0, 0, 0, 0, 0, 0, 0, 0, 0, 0, 0, 0, 0, 0, 0, 0, 0, 0, 0, 0, 0, 0, 0, 0, 0, 0, 0, 0, 0, 0, 0, 0, 0, 0, 0, 0, 0, 0, 0, 0, 0, 0, 0, 0, 0, 0, 0, 0, 0, 0, 0, 0, 0, 0, 0, 0, 0, 0, 0, 0, 0, 0, 0, 0, 0, 0, 0, 0, 0, 0, 0, 0, 0, 0, 0, 0, 0, 0, 0, 0, 0, 0, 0, 0, 0, 0, 0, 0, 0, 0, 0, 0, 0, 0, 0, 0, 0, 0, 0, 0, 0, 0, 0, 0, 0, 0, 0, 0, 0, 0, 0, 0, 0, 0, 0, 0, 0, 0, 1, 0, 0, 0, 0, 0, 0, 0, 0, 0, 0, 0, 0, 0, 0, 0, 0, 0, 0, 0, 0, 0, 0, 0, 0, 0, 0, 0, 0, 0, 0, 0, 0, 0, 0, 0, 0, 0, 0, 0, 0, 0, 0, 0, 0, 0, 0, 0, 0, 0, 0, 0, 0, 0, 0, 0, 0, 0, 0, 0, 0, 0, 0, 0, 0, 0, 0, 0, 0, 0, 0, 0, 0, 0, 0, 1, 0, 0, 0, 0, 0, 0, 0, 0, 0, 0, 0, 0, 0, 0, 0, 0, 0, 0, 0, 0, 1, 0, 0, 1, 0, 0, 0, 0, 0, 0, 0, 0, 0, 0, 0, 0, 0, 0, 0, 0, 0, 0, 0, 0, 0, 0, 0, 0, 0, 0, 0, 0, 0, 0, 0, 0, 0, 0, 0, 0, 0, 0, 0, 0, 0, 0, 0, 0, 0, 0, 0, 0, 0, 0, 0, 0, 0, 0, 0, 0, 0, 0, 0, 0, 0, 0, 0, 0, 0, 0, 0, 0, 0, 0, 0, 0, 0, 0, 0, 0, 0, 0, 0, 0, 0, 0, 0, 0, 0, 0, 0, 0, 0, 0, 0, 0, 0, 0, 0, 0, 0, 0, 0, 0, 0, 0, 0, 0, 0, 0, 0, 0, 0, 0, 0, 0, 0, 0, 0, 0, 0, 0, 0, 0, 0, 0, 0, 0, 0, 0, 0, 0, 0, 0, 0, 0, 0, 0, 0, 0, 0, 0, 0, 0, 0, 0, 0, 0, 0, 0, 0, 0, 0, 0, 0, 0, 0, 0, 0, 0, 0, 0, 0, 0, 0, 0, 0, 0, 0, 0, 0, 0, 0, 0, 0, 0, 0, 0, 0, 0, 0, 0, 0, 0, 0, 0, 0, 0, 0, 0, 0, 0, 0, 0, 0, 0, 0, 0, 0, 0, 0, 0, 0, 0, 0, 0, 0, 0, 0, 0, 0, 0, 0, 0, 0, 0, 0, 0, 0, 0, 0, 0, 0, 0, 0, 0, 0, 0, 0, 0, 0, 0, 0, 0, 0, 0, 0, 0, 0, 0, 0, 0, 0, 0, 0, 0, 0, 0, 0, 0, 0, 0, 0, 0, 0, 0, 0, 0, 0, 0, 0, 0, 0, 0, 0, 0, 0, 0, 0, 0, 0, 0, 0, 0, 0, 0, 0, 0, 0, 0, 0, 0, 0, 0, 0, 0, 0, 0, 0, 0, 0, 0, 0, 0, 0, 0, 0, 0, 0, 0, 0, 0, 0, 0, 0, 0, 0, 0, 0, 0, 0, 0, 0, 0, 0, 0, 0, 0, 0, 0, 0, 0, 0, 0, 0, 0, 0, 0, 0, 0, 0, 0, 0, 0, 0, 0, 0, 0, 0, 0, 0, 0, 0, 0, 0, 0, 0, 0, 0, 0, 0, 0, 0, 0, 0, 0, 0, 0, 0, 0, 0, 0, 0, 0, 0, 0, 0, 0, 0, 0, 0, 0, 0, 0, 0, 0, 0, 0, 0, 0, 0, 0, 0, 0, 0, 0, 0, 0, 0, 0, 0, 0, 0, 0, 0, 0, 0, 0, 0, 0, 0, 0, 0, 0, 0, 0, 0, 0, 0, 0, 0, 0, 0, 0, 0, 0, 0, 0, 0, 0, 0, 0, 0, 0, 0, 0, 0, 0, 0, 0, 0, 0, 0, 0, 0, 0, 0, 0, 0, 0, 0, 0, 0, 0, 0, 0, 0, 0, 0, 0, 0, 0, 0, 0, 0, 0, 0, 0, 0, 0, 0, 0, 0, 0, 0, 0, 0, 0, 0, 0, 1, 0, 0, 0, 0, 0, 0, 0, 0, 0, 0, 0, 0, 0, 0, 0, 0, 0, 0, 0, 0, 0, 0, 0, 0, 0, 0, 0, 0, 0, 0, 0, 0, 0, 0, 0, 0, 0, 0, 0, 0, 0, 0, 0, 0, 0, 0, 0, 0, 0, 0, 0, 0, 0, 0, 0, 0, 0, 0, 0, 0, 0, 0, 0, 0, 0, 0, 0, 0, 0, 0, 0, 0, 0, 0, 0, 0, 0, 0, 0, 0, 0, 0, 0, 0, 0, 0, 0, 0, 0, 0, 0, 0, 0, 0, 0, 0, 0, 0, 0, 0, 0, 0, 0, 0, 0, 0, 0, 0, 0, 0, 0, 0, 0, 0, 0, 0, 0, 0, 0, 0, 0, 0, 0, 0, 0, 0, 0, 0, 0, 0, 0, 0, 0, 0, 0, 0, 0, 0, 0, 0, 0, 0, 0, 0, 0, 0, 0, 0, 0, 0, 0, 0, 0, 0, 0, 0, 0, 0, 0, 0, 0, 0, 0, 0, 0, 0, 0, 0, 0, 0, 0, 0, 0, 0, 0, 0, 0, 0, 0, 0, 0, 0, 0, 0, 0, 0, 0, 0, 0, 0, 0, 0, 0, 0, 0, 0, 0, 0, 0, 0, 0, 0, 0, 0, 0, 0, 0, 0, 0, 0, 0, 0, 0, 0, 0, 0, 0, 0, 0, 0, 0, 0, 0, 0, 0, 0, 0, 0, 0, 0, 0, 0, 0, 0, 0, 0, 0, 0, 0, 0, 0, 0, 0, 0, 0, 0, 0, 0, 0, 0, 0, 0, 0, 0, 0, 0, 0, 0, 0, 0, 0, 0, 0, 0, 0, 0, 0, 0, 0, 0, 0, 0, 0, 0, 0, 0, 0, 0, 0, 0, 0, 0, 0, 0, 0, 0, 0, 0, 0, 0, 0, 0, 0, 0, 0, 0, 0, 0, 0, 0, 0, 0, 0, 0, 0, 0, 0, 0, 0, 0, 0, 0, 0, 0, 0, 0, 0, 0, 0, 0, 0, 0, 0, 0, 0, 0, 0, 0, 0, 0, 0, 0, 0, 0, 0, 0, 0, 0, 0, 0, 0, 0, 0, 0, 0, 0, 0, 0, 0, 0, 0, 0, 0, 0, 0, 0, 0, 0, 0, 0, 0, 0, 0, 0, 0, 0, 0, 0, 0, 0, 0, 0, 0, 0, 0, 0, 0, 0, 0, 0, 0, 0, 0, 0, 0, 0, 0, 0, 0, 0, 0, 0, 0, 0, 0, 0, 0, 0, 0, 0, 0, 0, 0, 0, 0, 0, 0, 0, 0, 0, 0, 0, 0, 0, 0, 0, 0, 0, 0, 0, 0, 0, 0, 0, 0, 0, 0, 0, 0, 0, 0, 0, 0, 0, 0, 0, 0, 0, 0, 0, 0, 0, 0, 0, 0, 0, 0, 0, 0, 0, 0, 0, 0, 0, 0, 0, 0, 0, 0, 0, 0, 0, 0, 0, 0, 0, 0, 0, 0, 0, 0, 0, 0, 0, 0, 0, 0, 0, 0, 0, 0, 0, 0, 0, 0, 0, 0, 0, 0, 0, 0, 0, 0, 0, 0, 0, 0, 0, 0, 0, 0, 0, 0, 0, 0, 0, 0, 0, 0, 0, 0, 0, 1, 0, 0, 0, 0, 0, 0, 0, 0, 0, 0, 0, 0, 0, 0, 0, 0, 0, 0, 0, 0, 0, 0, 0, 0, 0, 0, 0, 0, 0, 0, 0, 0, 0, 0, 0, 2, 0, 0, 0, 0, 0, 0, 0, 0, 0, 0, 0, 0, 0, 0, 0, 0, 0, 0, 0, 0, 0, 0, 0, 0, 0, 0, 0, 0, 0, 0, 0, 0, 0, 0, 0, 0, 0, 0, 0, 0, 1, 0, 0, 0, 0, 0, 0, 0, 0, 0, 0, 0, 0, 0, 0, 0, 0, 0, 0, 0, 0, 0, 0, 0, 0, 0, 0, 0, 0, 0, 0, 0, 0, 0, 0, 0, 0, 0, 0, 0, 0, 0, 0, 0, 0, 0, 0, 0, 0, 0, 0, 0, 0, 0, 0, 0, 0, 0, 0, 0, 0, 0, 0, 0, 0, 0, 0, 0, 0, 0, 0, 0, 0, 0, 0, 0, 0, 0, 0, 0, 0, 0, 0, 0, 0, 0, 0, 0, 0, 0, 0, 0, 0, 0, 0, 0, 0, 0, 0, 0, 0, 0, 0, 0, 0, 0, 0, 0, 0, 0, 0, 0, 0, 0, 0, 0, 0, 0, 0, 0, 0, 0, 0, 0, 0, 0, 0, 0, 0, 0, 0, 0, 0, 0, 0, 0, 0, 0, 0, 0, 0, 0, 0, 0, 0, 0, 0, 0, 0, 0, 0, 0, 0, 0, 0, 0, 0, 0, 0, 0, 0, 0, 0, 0, 0, 0, 0, 0, 0, 0, 0, 0, 0, 0, 0, 0, 0, 0, 0, 0, 0, 0, 0, 0, 0, 0, 0, 0, 0, 0, 0, 0, 0, 0, 0, 0, 0, 0, 0, 0, 0, 0, 0, 0, 0, 0, 0, 0, 0, 0, 0, 0, 0, 0, 0, 0, 0, 0, 0, 0, 0, 0, 0, 0, 0, 0, 0, 0, 0, 0, 0, 0, 0, 0, 0, 0, 0, 0, 0, 0, 0, 0, 0, 0, 0, 0, 0, 0, 0, 0, 0, 0, 0, 0, 0, 0, 0, 0, 0, 0, 0, 0, 0, 0, 0, 0, 0, 0, 0, 0, 0, 0, 0, 0, 0, 0, 0, 0, 0, 0, 0, 0, 0, 0, 0, 0, 0, 0, 0, 0, 0, 0, 0, 0, 0, 0, 0, 0, 0, 0, 0, 0, 0, 0, 0, 0, 0, 0, 0, 0, 0, 0, 0, 0, 0, 0, 0, 0, 0, 0, 0, 0, 0, 0, 0, 0, 0, 0, 0, 0, 0, 0, 0, 0, 0, 0, 0, 0, 0, 0, 0, 0, 0, 0, 0, 0, 0, 0, 0, 0, 0, 0, 0, 0, 0, 0, 0, 0, 0, 0, 0, 0, 0, 0, 0, 0, 0, 0, 0, 0, 0, 0, 0, 0, 0, 0, 0, 0, 0, 0, 0, 0, 0, 0, 0, 0, 0, 0, 0, 0, 0, 0, 0, 0, 0, 0, 0, 0, 0, 0, 0, 0, 0, 0, 0, 0, 0, 0, 0, 0, 0, 0, 0, 0, 0, 0, 0, 0, 0, 0, 0, 0, 0, 0, 0, 0, 0, 0, 0, 0, 0, 0, 0, 0, 0, 0, 0, 0, 0, 0, 0, 0, 0, 0, 0, 0, 0, 0, 0, 0, 0, 0, 0, 0, 0, 0, 0, 0, 0, 0, 0, 0, 0, 0, 0, 0, 0, 0, 0, 0, 0, 0, 0, 0, 0, 0, 0, 0, 0, 0, 0, 0, 0, 0, 0, 0, 0, 0, 0, 0, 0, 0, 0, 0, 0, 0, 0, 0, 1, 0, 0, 0, 0, 0, 0, 0, 0, 0, 0, 0, 0, 0, 0, 0, 0, 0, 0, 0, 0, 0, 0, 0, 0, 0, 0, 0, 0, 0, 0, 0, 0, 0, 0, 0, 0, 0, 0, 0, 0, 0, 0, 0, 0, 0, 0, 0, 0, 0, 0, 0, 0, 0, 0, 0, 0, 0, 0, 0, 0, 0, 0, 0, 0, 0, 0, 0, 0, 0, 0, 0, 0, 0, 0, 0, 0, 0, 0, 0, 0, 0, 0, 0, 0, 0, 0, 0, 0, 0, 0, 0, 0, 0, 0, 0, 0, 0, 0, 0, 0, 0, 0, 0, 0, 0, 0, 0, 0, 0, 0, 2, 0, 0, 0, 0, 0, 0, 0, 0, 0, 0, 0, 0, 0, 0, 0, 0, 0, 0, 0, 0, 0, 0, 0, 0, 0, 0, 0, 0, 0, 0, 0, 0, 0, 0, 0, 0, 0, 0, 0, 0, 0, 0, 0, 0, 0, 0, 0, 0, 0, 0, 0, 0, 0, 0, 0, 0, 0, 0, 0, 0, 0, 0, 0, 0, 0, 0, 0, 0, 0, 0, 0, 0, 0, 0, 0, 0, 0, 0, 0, 0, 0, 0, 0, 0, 0, 0, 0, 0, 0, 0, 0, 0, 0, 0, 0, 0, 0, 0, 0, 0, 0, 0, 0, 0, 0, 0, 0, 0, 0, 0, 0, 0, 0, 0, 0, 0, 0, 0, 0, 0, 0, 0, 0, 0, 0, 0, 0, 0, 0, 0, 0, 0, 0, 0, 0, 0, 0, 0, 0, 0, 0, 0, 0, 0, 0, 0, 0, 0, 0, 0, 0, 0, 0, 0, 0, 0, 0, 0, 0, 0, 0, 0, 0, 0, 0, 0, 0, 0, 0, 0, 0, 0, 0, 0, 0, 0, 0, 0, 0, 0, 0, 0, 0, 0, 0, 0, 0, 0, 0, 0, 0, 0, 0, 0, 0, 0, 0, 0, 0, 0, 0, 0, 0, 0, 0, 0, 0, 0, 0, 0, 0, 0, 0, 0, 0, 0, 0, 0, 0, 0, 0, 0, 0, 0, 0, 0, 0, 0, 0, 0, 0, 0, 0, 0, 0, 0, 0, 0, 0, 0, 0, 0, 0, 0, 0, 0, 0, 0, 0, 0, 0, 0, 0, 0, 0, 0, 0, 0, 0, 0, 0, 0, 0, 0, 0, 0, 0, 0, 0, 0, 0, 0, 0, 0, 0, 0, 0, 0, 0, 0, 0, 0, 0, 0, 0, 0, 0, 0, 0, 0, 0, 0, 0, 0, 0, 0, 0, 0, 0, 0, 0, 0, 0, 0, 0, 0, 0, 0, 0, 0, 0, 0, 0, 0, 0, 0, 0, 0, 0, 0, 0, 0, 0, 0, 0, 0, 0, 0, 0, 0, 0, 0, 0, 0, 0, 0, 0, 0, 0, 0, 0, 0, 0, 0, 0, 0, 0, 0, 0, 0, 0, 0, 0, 0, 0, 0, 0, 0, 0, 0, 0, 0, 0, 0, 0, 0, 0, 0, 0, 0, 0, 0, 0, 0, 0, 0, 0, 0, 0, 0, 0, 0, 0, 0, 0, 0, 0, 0, 0, 0, 0, 0, 0, 0, 0, 0, 0, 0, 0, 0, 0, 0, 0, 0, 0, 0, 0, 0, 0, 0, 0, 0, 0, 0, 0, 0, 0, 0, 0, 0, 0, 0, 0, 0, 0, 0, 0, 0, 0, 0, 0, 0, 0, 0, 0, 0, 0, 0, 0, 0, 0, 0, 0, 0, 0, 0, 0, 0, 0, 0, 0, 0, 0, 0, 0, 0, 0, 0, 0, 0, 0, 0, 0, 0, 0, 0, 0, 0, 0, 0, 0, 0, 0, 0, 0, 0, 0, 0, 0, 0, 0, 0, 0, 0, 0, 0, 0, 0, 0, 0, 0, 0, 0, 0, 0, 0, 0, 0, 0, 0, 0, 0, 0, 0, 0, 0, 0, 0, 0, 0, 0, 0, 0, 0, 0, 0, 0, 0, 0, 0, 0, 0, 0, 0, 0, 0, 0, 0, 0, 0, 0, 0, 0, 0, 0, 0, 0, 0, 0, 0, 0, 0, 0, 0, 0, 0, 0, 0, 0, 0, 0, 0, 0, 0, 0, 0, 0, 0, 0, 0, 0, 0, 0, 0, 0, 0, 0, 0, 0, 0, 0, 0, 0, 0, 0, 0, 0, 0, 0, 0, 0, 0, 0, 0, 0, 0, 0, 0, 0, 0, 0, 0, 0, 0, 0, 0, 0, 0, 0, 0, 0, 0, 0, 0, 0, 0, 0, 0, 0, 0, 0, 0, 0, 0, 0, 0, 0, 0, 0, 0, 0, 0, 0, 0, 0, 0, 0, 0, 0, 0, 0, 0, 0, 0, 0, 0, 0, 0, 0, 0, 0, 0, 0, 0, 0, 0, 0, 0, 0, 0, 0, 0, 0, 0, 0, 0, 0, 0, 0, 0, 0, 0, 0, 0, 0, 0, 0, 0, 0, 0, 0, 0, 0, 0, 0, 0, 0, 0, 0, 0, 0, 0, 0, 0, 0, 0, 0, 0, 0, 0, 1, 0, 0, 0, 0, 0, 0, 0, 0, 0, 0, 0, 0, 0, 0, 0, 0, 0, 0, 0, 0, 0, 0, 0, 0, 0, 0, 0, 0, 0, 0, 0, 0, 0, 0, 0, 0, 0, 0, 0, 0, 0, 0, 0, 0, 0, 0, 0, 0, 0, 0, 0, 0, 0, 0, 0, 0, 0, 0, 0, 0, 0, 0, 0, 0, 0, 0, 0, 0, 0, 0, 0, 0, 0, 0, 0, 0, 0, 0, 0, 0, 0, 0, 0, 0, 0, 0, 0, 0, 0, 0, 0, 0, 0, 0, 0, 0, 0, 0, 0, 0, 0, 0, 0, 0, 0, 0, 0, 1, 0, 0, 0, 0, 0, 0, 0, 0, 0, 0, 0, 0, 0, 0, 0, 0, 0, 0, 0, 0, 0, 0, 0, 0, 0, 0, 0, 0, 0, 0, 0, 0, 0, 0, 0, 0, 0, 0, 0, 0, 0, 0, 0, 0, 0, 0, 0, 0, 0, 0, 0, 0, 0, 0, 0, 0, 0, 0, 0, 0, 0, 0, 0, 0, 0, 0, 0, 0, 0, 0, 0, 0, 0, 0, 0, 0, 0, 0, 0, 0, 0, 0, 0, 0, 0, 0, 0, 0, 0, 0, 0, 0, 0, 0, 0, 0, 0, 0, 0, 0, 0, 0, 0, 0, 0, 0, 0, 0, 0, 0, 0, 0, 0, 0, 0, 0, 0, 0, 0, 0, 0, 0, 0, 0, 0, 0, 0, 0, 0, 0, 0, 0, 0, 0, 0, 0, 0, 0, 0, 0, 0, 0, 0, 0, 0, 0, 0, 0, 0, 0, 0, 0, 0, 0, 0, 0, 0, 0, 0, 0, 0, 0, 0, 0, 0, 0, 0, 0, 0, 0, 0, 0, 0, 0, 0, 0, 0, 0, 0, 0, 0, 0, 0, 0, 0, 0, 0, 0, 0, 0, 0, 0, 0, 0, 0, 0, 0, 0, 0, 0, 0, 0, 0, 0, 0, 0, 0, 0, 0, 0, 0, 0, 0, 0, 0, 0, 0, 0, 0, 0, 0, 0, 0, 0, 0, 0, 0, 0, 0, 0, 0, 0, 0, 0, 0, 0, 0, 0, 0, 0, 0, 0, 0, 0, 0, 0, 0, 0, 0, 0, 0, 0, 0, 0, 0, 0, 0, 0, 0, 0, 0, 0, 0, 0, 0, 0, 0, 0, 0, 0, 0, 0, 0, 0, 0, 0, 0, 0, 0, 0, 0, 0, 0, 0, 0, 0, 0, 0, 0, 0, 0, 0, 0, 0, 0, 0, 0, 0, 0, 0, 0, 0, 0, 0, 0, 0, 0, 0, 0, 0, 0, 0, 0, 0, 0, 0, 0, 0, 0, 0, 0, 0, 0, 0, 0, 0, 0, 0, 0, 0, 0, 0, 0, 0, 0, 0, 0, 0, 0, 0, 0, 0, 0, 0, 0, 0, 0, 0, 0, 0, 0, 0, 0, 0, 0, 0, 0, 0, 0, 0, 0, 0, 0, 0, 0, 0, 0, 0, 0, 0, 0, 0, 0, 0, 0, 0, 0, 0, 0, 0, 0, 0, 0, 0, 0, 0, 0, 0, 0, 0, 0, 0, 0, 0, 0, 0, 0, 0, 0, 0, 0, 0, 0, 0, 0, 0, 0, 0, 0, 0, 0, 0, 0, 0, 0, 0, 0, 0, 0, 0, 0, 0, 0, 0, 0, 0, 0, 0, 0, 0, 0, 0, 0, 0, 0, 0, 0, 0, 0, 0, 0, 0, 0, 0, 0, 0, 0, 0, 0, 0, 0, 0, 0, 0, 0, 0, 0, 0, 0, 0, 0, 0, 0, 2, 0, 1, 0], type: <class 'list'>, valid types: <class 'bytes'>, <class 'bytearray'>, file-like object",
     "output_type": "error",
     "traceback": [
      "\u001b[0;31m---------------------------------------------------------------------------\u001b[0m",
      "\u001b[0;31mParamValidationError\u001b[0m                      Traceback (most recent call last)",
      "\u001b[0;32m<ipython-input-44-c9ab54ae3a48>\u001b[0m in \u001b[0;36m<module>\u001b[0;34m()\u001b[0m\n\u001b[1;32m      1\u001b[0m response = runtime.invoke_endpoint(EndpointName = xgb_predictor.endpoint, # The name of the endpoint we created\n\u001b[1;32m      2\u001b[0m                                        \u001b[0mContentType\u001b[0m \u001b[0;34m=\u001b[0m \u001b[0;34m'text/csv'\u001b[0m\u001b[0;34m,\u001b[0m                     \u001b[0;31m# The data format that is expected\u001b[0m\u001b[0;34m\u001b[0m\u001b[0m\n\u001b[0;32m----> 3\u001b[0;31m                                        Body = test_bow)\n\u001b[0m",
      "\u001b[0;32m~/anaconda3/envs/python3/lib/python3.6/site-packages/botocore/client.py\u001b[0m in \u001b[0;36m_api_call\u001b[0;34m(self, *args, **kwargs)\u001b[0m\n\u001b[1;32m    312\u001b[0m                     \"%s() only accepts keyword arguments.\" % py_operation_name)\n\u001b[1;32m    313\u001b[0m             \u001b[0;31m# The \"self\" in this scope is referring to the BaseClient.\u001b[0m\u001b[0;34m\u001b[0m\u001b[0;34m\u001b[0m\u001b[0m\n\u001b[0;32m--> 314\u001b[0;31m             \u001b[0;32mreturn\u001b[0m \u001b[0mself\u001b[0m\u001b[0;34m.\u001b[0m\u001b[0m_make_api_call\u001b[0m\u001b[0;34m(\u001b[0m\u001b[0moperation_name\u001b[0m\u001b[0;34m,\u001b[0m \u001b[0mkwargs\u001b[0m\u001b[0;34m)\u001b[0m\u001b[0;34m\u001b[0m\u001b[0m\n\u001b[0m\u001b[1;32m    315\u001b[0m \u001b[0;34m\u001b[0m\u001b[0m\n\u001b[1;32m    316\u001b[0m         \u001b[0m_api_call\u001b[0m\u001b[0;34m.\u001b[0m\u001b[0m__name__\u001b[0m \u001b[0;34m=\u001b[0m \u001b[0mstr\u001b[0m\u001b[0;34m(\u001b[0m\u001b[0mpy_operation_name\u001b[0m\u001b[0;34m)\u001b[0m\u001b[0;34m\u001b[0m\u001b[0m\n",
      "\u001b[0;32m~/anaconda3/envs/python3/lib/python3.6/site-packages/botocore/client.py\u001b[0m in \u001b[0;36m_make_api_call\u001b[0;34m(self, operation_name, api_params)\u001b[0m\n\u001b[1;32m    584\u001b[0m         }\n\u001b[1;32m    585\u001b[0m         request_dict = self._convert_to_request_dict(\n\u001b[0;32m--> 586\u001b[0;31m             api_params, operation_model, context=request_context)\n\u001b[0m\u001b[1;32m    587\u001b[0m \u001b[0;34m\u001b[0m\u001b[0m\n\u001b[1;32m    588\u001b[0m         handler, event_response = self.meta.events.emit_until_response(\n",
      "\u001b[0;32m~/anaconda3/envs/python3/lib/python3.6/site-packages/botocore/client.py\u001b[0m in \u001b[0;36m_convert_to_request_dict\u001b[0;34m(self, api_params, operation_model, context)\u001b[0m\n\u001b[1;32m    619\u001b[0m             api_params, operation_model, context)\n\u001b[1;32m    620\u001b[0m         request_dict = self._serializer.serialize_to_request(\n\u001b[0;32m--> 621\u001b[0;31m             api_params, operation_model)\n\u001b[0m\u001b[1;32m    622\u001b[0m         prepare_request_dict(request_dict, endpoint_url=self._endpoint.host,\n\u001b[1;32m    623\u001b[0m                              \u001b[0muser_agent\u001b[0m\u001b[0;34m=\u001b[0m\u001b[0mself\u001b[0m\u001b[0;34m.\u001b[0m\u001b[0m_client_config\u001b[0m\u001b[0;34m.\u001b[0m\u001b[0muser_agent\u001b[0m\u001b[0;34m,\u001b[0m\u001b[0;34m\u001b[0m\u001b[0m\n",
      "\u001b[0;32m~/anaconda3/envs/python3/lib/python3.6/site-packages/botocore/validate.py\u001b[0m in \u001b[0;36mserialize_to_request\u001b[0;34m(self, parameters, operation_model)\u001b[0m\n\u001b[1;32m    289\u001b[0m                                                     operation_model.input_shape)\n\u001b[1;32m    290\u001b[0m             \u001b[0;32mif\u001b[0m \u001b[0mreport\u001b[0m\u001b[0;34m.\u001b[0m\u001b[0mhas_errors\u001b[0m\u001b[0;34m(\u001b[0m\u001b[0;34m)\u001b[0m\u001b[0;34m:\u001b[0m\u001b[0;34m\u001b[0m\u001b[0m\n\u001b[0;32m--> 291\u001b[0;31m                 \u001b[0;32mraise\u001b[0m \u001b[0mParamValidationError\u001b[0m\u001b[0;34m(\u001b[0m\u001b[0mreport\u001b[0m\u001b[0;34m=\u001b[0m\u001b[0mreport\u001b[0m\u001b[0;34m.\u001b[0m\u001b[0mgenerate_report\u001b[0m\u001b[0;34m(\u001b[0m\u001b[0;34m)\u001b[0m\u001b[0;34m)\u001b[0m\u001b[0;34m\u001b[0m\u001b[0m\n\u001b[0m\u001b[1;32m    292\u001b[0m         return self._serializer.serialize_to_request(parameters,\n\u001b[1;32m    293\u001b[0m                                                      operation_model)\n",
      "\u001b[0;31mParamValidationError\u001b[0m: Parameter validation failed:\nInvalid type for parameter Body, value: [0, 0, 0, 0, 0, 0, 0, 0, 0, 0, 0, 0, 0, 0, 0, 0, 0, 0, 0, 0, 0, 0, 0, 0, 0, 0, 0, 0, 0, 0, 0, 0, 0, 0, 0, 0, 0, 0, 0, 0, 0, 0, 0, 0, 0, 0, 0, 0, 0, 0, 0, 0, 0, 0, 0, 0, 0, 0, 0, 0, 0, 0, 0, 0, 0, 0, 0, 0, 0, 0, 0, 0, 0, 0, 0, 0, 0, 0, 0, 0, 0, 0, 0, 0, 0, 0, 0, 0, 0, 0, 0, 0, 0, 0, 0, 0, 0, 0, 0, 0, 0, 0, 0, 0, 0, 0, 0, 0, 0, 0, 0, 0, 0, 0, 0, 0, 0, 0, 0, 0, 0, 0, 0, 0, 0, 0, 0, 0, 0, 0, 0, 0, 0, 0, 0, 0, 0, 0, 0, 0, 0, 0, 0, 0, 0, 0, 0, 0, 0, 0, 0, 0, 0, 0, 0, 0, 0, 0, 0, 0, 0, 0, 0, 0, 0, 0, 0, 0, 0, 0, 0, 0, 0, 0, 0, 0, 0, 0, 0, 0, 0, 0, 0, 0, 0, 0, 0, 0, 0, 0, 0, 0, 0, 0, 0, 0, 0, 0, 0, 0, 0, 0, 0, 0, 0, 0, 0, 0, 0, 0, 0, 0, 0, 0, 0, 0, 0, 0, 0, 0, 0, 0, 0, 0, 0, 0, 1, 0, 0, 0, 0, 0, 0, 0, 0, 0, 0, 0, 0, 0, 0, 0, 0, 0, 0, 0, 0, 0, 0, 0, 0, 0, 0, 0, 0, 0, 1, 0, 0, 0, 0, 0, 0, 0, 0, 0, 0, 0, 0, 0, 0, 0, 0, 0, 0, 0, 0, 0, 0, 0, 0, 0, 0, 0, 0, 0, 0, 0, 0, 0, 0, 0, 0, 0, 0, 0, 0, 0, 0, 0, 0, 0, 0, 0, 0, 0, 0, 0, 0, 0, 0, 0, 0, 0, 0, 0, 0, 0, 0, 0, 0, 0, 0, 0, 0, 0, 0, 0, 0, 0, 0, 0, 0, 0, 0, 0, 0, 0, 0, 0, 0, 0, 0, 0, 0, 0, 0, 0, 0, 0, 0, 0, 0, 0, 0, 0, 0, 0, 0, 0, 0, 0, 0, 0, 0, 0, 0, 0, 0, 0, 0, 0, 0, 0, 0, 0, 0, 0, 0, 0, 0, 0, 0, 0, 0, 0, 0, 0, 0, 0, 0, 0, 0, 0, 0, 0, 0, 0, 0, 0, 0, 0, 0, 0, 0, 0, 0, 0, 0, 0, 0, 0, 0, 0, 0, 0, 0, 0, 0, 0, 0, 0, 0, 0, 0, 0, 0, 0, 0, 0, 0, 0, 0, 0, 0, 0, 0, 0, 0, 0, 0, 0, 0, 0, 0, 0, 0, 0, 0, 0, 0, 0, 0, 0, 0, 0, 0, 0, 0, 0, 0, 0, 0, 0, 0, 0, 0, 0, 0, 0, 0, 0, 0, 0, 0, 0, 0, 0, 0, 0, 0, 0, 0, 0, 0, 0, 0, 0, 0, 0, 0, 0, 0, 0, 0, 0, 0, 0, 0, 0, 0, 0, 0, 0, 0, 0, 0, 0, 0, 0, 0, 0, 0, 0, 0, 0, 0, 0, 0, 0, 0, 0, 0, 0, 0, 0, 0, 0, 0, 0, 0, 0, 0, 0, 0, 0, 0, 0, 0, 0, 0, 0, 0, 0, 0, 0, 0, 0, 0, 0, 0, 0, 0, 0, 0, 0, 0, 0, 0, 0, 0, 0, 0, 0, 0, 0, 0, 0, 0, 0, 0, 0, 0, 0, 0, 0, 0, 0, 0, 0, 0, 0, 0, 0, 0, 0, 0, 0, 0, 0, 0, 0, 0, 0, 0, 0, 0, 0, 0, 0, 0, 0, 0, 0, 0, 0, 0, 0, 0, 0, 0, 0, 0, 0, 0, 0, 0, 0, 0, 0, 0, 0, 0, 0, 0, 0, 0, 0, 0, 0, 0, 0, 0, 0, 0, 0, 1, 0, 0, 0, 0, 0, 0, 0, 0, 0, 0, 0, 0, 0, 0, 0, 0, 0, 0, 0, 0, 0, 0, 0, 0, 0, 0, 0, 0, 0, 0, 0, 0, 0, 0, 0, 0, 0, 0, 0, 0, 0, 0, 0, 0, 0, 0, 0, 0, 0, 0, 0, 0, 0, 0, 0, 0, 0, 0, 0, 0, 0, 0, 0, 0, 0, 0, 0, 0, 0, 0, 0, 0, 0, 0, 0, 0, 0, 0, 0, 0, 0, 0, 0, 0, 0, 0, 0, 0, 0, 0, 0, 0, 0, 0, 0, 0, 0, 0, 0, 0, 0, 0, 0, 0, 0, 0, 0, 0, 0, 0, 0, 0, 0, 0, 0, 0, 0, 0, 0, 0, 0, 0, 0, 0, 0, 0, 0, 0, 0, 0, 0, 0, 0, 0, 0, 0, 0, 0, 0, 0, 0, 0, 0, 0, 0, 0, 0, 0, 0, 0, 0, 0, 0, 0, 0, 0, 0, 0, 0, 0, 0, 0, 0, 0, 0, 0, 0, 0, 0, 0, 0, 0, 0, 0, 0, 0, 0, 0, 0, 0, 0, 0, 0, 0, 0, 0, 0, 0, 0, 0, 0, 0, 0, 0, 0, 0, 0, 0, 0, 0, 0, 0, 0, 0, 0, 0, 0, 0, 0, 0, 0, 0, 0, 0, 0, 0, 0, 0, 0, 0, 0, 0, 0, 0, 0, 0, 0, 0, 0, 0, 0, 0, 0, 0, 0, 0, 0, 0, 0, 0, 0, 0, 0, 0, 0, 0, 0, 0, 0, 0, 0, 0, 0, 1, 0, 0, 0, 0, 0, 0, 0, 0, 0, 0, 0, 0, 0, 0, 0, 0, 0, 0, 0, 0, 0, 0, 0, 0, 0, 0, 0, 0, 0, 0, 0, 0, 0, 0, 0, 0, 0, 0, 0, 0, 0, 0, 0, 0, 0, 0, 0, 0, 0, 0, 0, 0, 0, 0, 0, 0, 0, 0, 0, 0, 0, 0, 0, 0, 0, 0, 0, 0, 0, 0, 0, 0, 0, 0, 0, 0, 0, 0, 0, 0, 0, 0, 0, 0, 0, 0, 1, 0, 0, 0, 0, 0, 0, 0, 0, 0, 0, 0, 0, 0, 0, 0, 0, 0, 0, 0, 0, 0, 0, 0, 0, 0, 0, 0, 0, 0, 0, 0, 0, 0, 0, 0, 0, 0, 0, 0, 0, 0, 0, 0, 0, 0, 0, 0, 0, 0, 0, 0, 0, 0, 0, 0, 0, 0, 0, 0, 0, 0, 0, 0, 0, 0, 0, 0, 0, 0, 0, 0, 0, 0, 0, 0, 0, 0, 0, 0, 0, 0, 0, 0, 0, 0, 0, 0, 0, 0, 0, 0, 0, 0, 0, 0, 0, 0, 0, 0, 0, 0, 0, 0, 0, 0, 0, 0, 0, 0, 0, 0, 0, 0, 0, 0, 0, 0, 0, 0, 0, 0, 0, 0, 0, 0, 0, 0, 0, 0, 0, 0, 0, 0, 0, 0, 0, 0, 0, 0, 0, 0, 0, 0, 0, 0, 0, 0, 0, 0, 0, 0, 0, 0, 0, 0, 0, 0, 0, 0, 0, 0, 0, 0, 0, 0, 0, 0, 0, 0, 0, 0, 0, 0, 0, 0, 0, 0, 0, 0, 0, 0, 0, 0, 0, 0, 0, 0, 0, 0, 0, 0, 0, 0, 0, 0, 0, 0, 0, 0, 0, 0, 0, 0, 0, 0, 0, 0, 0, 0, 0, 0, 0, 0, 0, 0, 0, 0, 0, 0, 0, 0, 0, 0, 0, 0, 0, 0, 0, 0, 0, 0, 0, 0, 0, 0, 0, 0, 0, 0, 0, 0, 0, 0, 0, 0, 0, 0, 0, 0, 0, 0, 0, 1, 0, 0, 0, 0, 0, 0, 0, 0, 0, 0, 0, 0, 0, 0, 0, 0, 0, 0, 0, 0, 0, 0, 0, 0, 0, 0, 0, 0, 0, 0, 0, 0, 0, 0, 0, 0, 0, 0, 0, 0, 0, 0, 0, 0, 0, 0, 0, 0, 0, 0, 0, 0, 0, 0, 0, 1, 0, 0, 0, 0, 0, 0, 0, 0, 0, 0, 0, 0, 0, 0, 0, 0, 0, 0, 0, 0, 0, 0, 0, 0, 0, 0, 0, 0, 0, 0, 0, 0, 0, 0, 0, 0, 0, 0, 0, 0, 0, 0, 0, 0, 0, 0, 0, 0, 0, 0, 0, 0, 0, 0, 0, 0, 0, 0, 0, 0, 0, 0, 0, 0, 0, 0, 0, 0, 0, 0, 0, 0, 0, 0, 0, 0, 0, 0, 0, 0, 0, 0, 0, 0, 0, 0, 0, 0, 0, 0, 0, 0, 0, 0, 0, 0, 0, 0, 0, 0, 0, 0, 0, 0, 0, 0, 0, 0, 0, 0, 0, 0, 0, 0, 0, 0, 0, 0, 0, 0, 0, 0, 0, 0, 0, 0, 0, 0, 0, 0, 0, 0, 0, 0, 0, 0, 0, 0, 0, 0, 0, 0, 0, 0, 0, 0, 0, 0, 0, 0, 0, 0, 0, 0, 0, 0, 0, 0, 0, 0, 0, 0, 0, 0, 0, 0, 0, 0, 0, 0, 0, 0, 0, 0, 0, 0, 0, 0, 0, 0, 0, 0, 0, 0, 0, 0, 0, 0, 0, 0, 0, 0, 0, 0, 0, 0, 0, 0, 0, 0, 0, 0, 0, 0, 0, 0, 0, 0, 0, 0, 0, 0, 0, 0, 0, 0, 0, 0, 0, 0, 0, 0, 0, 0, 0, 0, 0, 0, 0, 0, 0, 0, 0, 0, 0, 0, 0, 0, 0, 0, 0, 0, 0, 0, 0, 0, 0, 0, 0, 0, 0, 0, 0, 0, 0, 0, 0, 0, 0, 0, 0, 0, 0, 0, 0, 0, 0, 0, 0, 0, 0, 0, 0, 0, 0, 0, 0, 0, 0, 0, 0, 0, 0, 0, 0, 0, 0, 0, 0, 0, 0, 0, 0, 0, 0, 0, 0, 0, 0, 0, 0, 0, 0, 0, 0, 0, 0, 0, 0, 0, 0, 0, 0, 0, 0, 0, 0, 0, 0, 0, 0, 0, 0, 0, 0, 0, 0, 0, 0, 0, 0, 0, 0, 0, 0, 0, 0, 0, 0, 0, 0, 0, 0, 0, 0, 0, 0, 0, 0, 0, 0, 0, 0, 0, 0, 0, 0, 0, 0, 0, 0, 0, 0, 0, 0, 0, 0, 0, 0, 0, 0, 0, 0, 0, 0, 0, 0, 0, 0, 0, 0, 0, 0, 0, 0, 0, 0, 0, 0, 0, 0, 0, 0, 0, 0, 0, 0, 0, 0, 0, 0, 0, 0, 0, 0, 0, 0, 0, 0, 0, 0, 0, 0, 0, 0, 0, 0, 0, 0, 0, 0, 0, 0, 0, 0, 0, 0, 0, 0, 0, 0, 0, 0, 0, 0, 0, 0, 0, 0, 0, 0, 0, 0, 0, 0, 0, 0, 0, 0, 0, 0, 0, 0, 0, 0, 0, 0, 0, 0, 0, 0, 0, 0, 0, 0, 0, 0, 0, 0, 0, 0, 0, 0, 0, 0, 0, 0, 0, 0, 0, 0, 0, 0, 0, 0, 0, 0, 0, 0, 0, 0, 0, 0, 0, 0, 0, 0, 0, 0, 0, 0, 0, 0, 0, 0, 0, 0, 0, 0, 0, 0, 0, 0, 0, 0, 0, 0, 0, 0, 0, 0, 0, 0, 0, 0, 0, 0, 0, 0, 0, 0, 0, 0, 0, 0, 0, 0, 0, 0, 0, 0, 0, 0, 0, 0, 0, 0, 0, 0, 0, 0, 0, 0, 0, 0, 0, 0, 0, 0, 0, 0, 0, 0, 0, 0, 0, 0, 0, 0, 0, 0, 0, 0, 0, 0, 0, 0, 0, 0, 0, 0, 0, 0, 0, 0, 0, 0, 0, 0, 0, 0, 0, 0, 0, 0, 0, 0, 0, 0, 0, 0, 0, 0, 0, 0, 0, 0, 0, 0, 0, 0, 0, 0, 0, 0, 0, 0, 0, 0, 0, 0, 0, 0, 0, 0, 0, 0, 0, 0, 0, 0, 0, 0, 0, 0, 0, 0, 0, 0, 0, 0, 0, 0, 0, 0, 0, 0, 0, 0, 0, 0, 0, 0, 0, 0, 0, 0, 0, 0, 0, 0, 0, 0, 0, 0, 0, 0, 0, 0, 0, 0, 0, 0, 0, 0, 0, 0, 0, 0, 0, 0, 1, 0, 0, 0, 0, 0, 0, 0, 0, 0, 0, 0, 0, 0, 0, 0, 0, 0, 0, 0, 0, 0, 0, 0, 0, 0, 0, 0, 0, 0, 0, 0, 0, 0, 0, 0, 0, 0, 0, 0, 0, 0, 0, 0, 0, 0, 0, 0, 0, 0, 0, 0, 0, 0, 0, 0, 0, 0, 0, 0, 0, 0, 0, 0, 0, 0, 0, 0, 0, 0, 0, 0, 0, 0, 0, 1, 0, 0, 0, 0, 0, 0, 0, 0, 0, 0, 0, 0, 0, 0, 0, 0, 0, 0, 0, 0, 1, 0, 0, 1, 0, 0, 0, 0, 0, 0, 0, 0, 0, 0, 0, 0, 0, 0, 0, 0, 0, 0, 0, 0, 0, 0, 0, 0, 0, 0, 0, 0, 0, 0, 0, 0, 0, 0, 0, 0, 0, 0, 0, 0, 0, 0, 0, 0, 0, 0, 0, 0, 0, 0, 0, 0, 0, 0, 0, 0, 0, 0, 0, 0, 0, 0, 0, 0, 0, 0, 0, 0, 0, 0, 0, 0, 0, 0, 0, 0, 0, 0, 0, 0, 0, 0, 0, 0, 0, 0, 0, 0, 0, 0, 0, 0, 0, 0, 0, 0, 0, 0, 0, 0, 0, 0, 0, 0, 0, 0, 0, 0, 0, 0, 0, 0, 0, 0, 0, 0, 0, 0, 0, 0, 0, 0, 0, 0, 0, 0, 0, 0, 0, 0, 0, 0, 0, 0, 0, 0, 0, 0, 0, 0, 0, 0, 0, 0, 0, 0, 0, 0, 0, 0, 0, 0, 0, 0, 0, 0, 0, 0, 0, 0, 0, 0, 0, 0, 0, 0, 0, 0, 0, 0, 0, 0, 0, 0, 0, 0, 0, 0, 0, 0, 0, 0, 0, 0, 0, 0, 0, 0, 0, 0, 0, 0, 0, 0, 0, 0, 0, 0, 0, 0, 0, 0, 0, 0, 0, 0, 0, 0, 0, 0, 0, 0, 0, 0, 0, 0, 0, 0, 0, 0, 0, 0, 0, 0, 0, 0, 0, 0, 0, 0, 0, 0, 0, 0, 0, 0, 0, 0, 0, 0, 0, 0, 0, 0, 0, 0, 0, 0, 0, 0, 0, 0, 0, 0, 0, 0, 0, 0, 0, 0, 0, 0, 0, 0, 0, 0, 0, 0, 0, 0, 0, 0, 0, 0, 0, 0, 0, 0, 0, 0, 0, 0, 0, 0, 0, 0, 0, 0, 0, 0, 0, 0, 0, 0, 0, 0, 0, 0, 0, 0, 0, 0, 0, 0, 0, 0, 0, 0, 0, 0, 0, 0, 0, 0, 0, 0, 0, 0, 0, 0, 0, 0, 0, 0, 0, 0, 0, 0, 0, 0, 0, 0, 0, 0, 0, 0, 0, 0, 0, 0, 0, 0, 0, 0, 0, 0, 0, 0, 0, 0, 0, 0, 0, 0, 0, 0, 0, 0, 0, 0, 0, 0, 0, 0, 0, 0, 0, 0, 0, 0, 0, 0, 0, 0, 0, 0, 0, 0, 0, 0, 0, 0, 0, 0, 0, 0, 0, 0, 0, 0, 0, 0, 0, 0, 0, 0, 0, 0, 0, 0, 0, 0, 0, 0, 0, 0, 0, 0, 0, 0, 0, 0, 0, 0, 0, 0, 0, 0, 0, 0, 0, 0, 0, 0, 0, 0, 0, 0, 0, 0, 0, 0, 0, 0, 0, 0, 0, 0, 0, 0, 0, 0, 0, 0, 0, 0, 0, 0, 0, 0, 0, 0, 0, 0, 0, 0, 0, 0, 0, 0, 0, 0, 0, 0, 0, 0, 1, 0, 0, 0, 0, 0, 0, 0, 0, 0, 0, 0, 0, 0, 0, 0, 0, 0, 0, 0, 0, 0, 0, 0, 0, 0, 0, 0, 0, 0, 0, 0, 0, 0, 0, 0, 0, 0, 0, 0, 0, 0, 0, 0, 0, 0, 0, 0, 0, 0, 0, 0, 0, 0, 0, 0, 0, 0, 0, 0, 0, 0, 0, 0, 0, 0, 0, 0, 0, 0, 0, 0, 0, 0, 0, 0, 0, 0, 0, 0, 0, 0, 0, 0, 0, 0, 0, 0, 0, 0, 0, 0, 0, 0, 0, 0, 0, 0, 0, 0, 0, 0, 0, 0, 0, 0, 0, 0, 0, 0, 0, 0, 0, 0, 0, 0, 0, 0, 0, 0, 0, 0, 0, 0, 0, 0, 0, 0, 0, 0, 0, 0, 0, 0, 0, 0, 0, 0, 0, 0, 0, 0, 0, 0, 0, 0, 0, 0, 0, 0, 0, 0, 0, 0, 0, 0, 0, 0, 0, 0, 0, 0, 0, 0, 0, 0, 0, 0, 0, 0, 0, 0, 0, 0, 0, 0, 0, 0, 0, 0, 0, 0, 0, 0, 0, 0, 0, 0, 0, 0, 0, 0, 0, 0, 0, 0, 0, 0, 0, 0, 0, 0, 0, 0, 0, 0, 0, 0, 0, 0, 0, 0, 0, 0, 0, 0, 0, 0, 0, 0, 0, 0, 0, 0, 0, 0, 0, 0, 0, 0, 0, 0, 0, 0, 0, 0, 0, 0, 0, 0, 0, 0, 0, 0, 0, 0, 0, 0, 0, 0, 0, 0, 0, 0, 0, 0, 0, 0, 0, 0, 0, 0, 0, 0, 0, 0, 0, 0, 0, 0, 0, 0, 0, 0, 0, 0, 0, 0, 0, 0, 0, 0, 0, 0, 0, 0, 0, 0, 0, 0, 0, 0, 0, 0, 0, 0, 0, 0, 0, 0, 0, 0, 0, 0, 0, 0, 0, 0, 0, 0, 0, 0, 0, 0, 0, 0, 0, 0, 0, 0, 0, 0, 0, 0, 0, 0, 0, 0, 0, 0, 0, 0, 0, 0, 0, 0, 0, 0, 0, 0, 0, 0, 0, 0, 0, 0, 0, 0, 0, 0, 0, 0, 0, 0, 0, 0, 0, 0, 0, 0, 0, 0, 0, 0, 0, 0, 0, 0, 0, 0, 0, 0, 0, 0, 0, 0, 0, 0, 0, 0, 0, 0, 0, 0, 0, 0, 0, 0, 0, 0, 0, 0, 0, 0, 0, 0, 0, 0, 0, 0, 0, 0, 0, 0, 0, 0, 0, 0, 0, 0, 0, 0, 0, 0, 0, 0, 0, 0, 0, 0, 0, 0, 0, 0, 0, 0, 0, 0, 0, 0, 0, 0, 0, 0, 0, 0, 0, 0, 0, 0, 0, 0, 0, 0, 0, 0, 0, 0, 0, 0, 0, 0, 0, 0, 0, 0, 0, 0, 0, 0, 0, 0, 0, 0, 0, 0, 0, 0, 0, 0, 0, 0, 0, 0, 0, 0, 0, 0, 0, 0, 0, 0, 0, 0, 0, 0, 0, 0, 0, 0, 0, 0, 0, 0, 0, 0, 0, 0, 0, 0, 0, 0, 0, 0, 0, 0, 0, 0, 0, 0, 0, 0, 0, 1, 0, 0, 0, 0, 0, 0, 0, 0, 0, 0, 0, 0, 0, 0, 0, 0, 0, 0, 0, 0, 0, 0, 0, 0, 0, 0, 0, 0, 0, 0, 0, 0, 0, 0, 0, 2, 0, 0, 0, 0, 0, 0, 0, 0, 0, 0, 0, 0, 0, 0, 0, 0, 0, 0, 0, 0, 0, 0, 0, 0, 0, 0, 0, 0, 0, 0, 0, 0, 0, 0, 0, 0, 0, 0, 0, 0, 1, 0, 0, 0, 0, 0, 0, 0, 0, 0, 0, 0, 0, 0, 0, 0, 0, 0, 0, 0, 0, 0, 0, 0, 0, 0, 0, 0, 0, 0, 0, 0, 0, 0, 0, 0, 0, 0, 0, 0, 0, 0, 0, 0, 0, 0, 0, 0, 0, 0, 0, 0, 0, 0, 0, 0, 0, 0, 0, 0, 0, 0, 0, 0, 0, 0, 0, 0, 0, 0, 0, 0, 0, 0, 0, 0, 0, 0, 0, 0, 0, 0, 0, 0, 0, 0, 0, 0, 0, 0, 0, 0, 0, 0, 0, 0, 0, 0, 0, 0, 0, 0, 0, 0, 0, 0, 0, 0, 0, 0, 0, 0, 0, 0, 0, 0, 0, 0, 0, 0, 0, 0, 0, 0, 0, 0, 0, 0, 0, 0, 0, 0, 0, 0, 0, 0, 0, 0, 0, 0, 0, 0, 0, 0, 0, 0, 0, 0, 0, 0, 0, 0, 0, 0, 0, 0, 0, 0, 0, 0, 0, 0, 0, 0, 0, 0, 0, 0, 0, 0, 0, 0, 0, 0, 0, 0, 0, 0, 0, 0, 0, 0, 0, 0, 0, 0, 0, 0, 0, 0, 0, 0, 0, 0, 0, 0, 0, 0, 0, 0, 0, 0, 0, 0, 0, 0, 0, 0, 0, 0, 0, 0, 0, 0, 0, 0, 0, 0, 0, 0, 0, 0, 0, 0, 0, 0, 0, 0, 0, 0, 0, 0, 0, 0, 0, 0, 0, 0, 0, 0, 0, 0, 0, 0, 0, 0, 0, 0, 0, 0, 0, 0, 0, 0, 0, 0, 0, 0, 0, 0, 0, 0, 0, 0, 0, 0, 0, 0, 0, 0, 0, 0, 0, 0, 0, 0, 0, 0, 0, 0, 0, 0, 0, 0, 0, 0, 0, 0, 0, 0, 0, 0, 0, 0, 0, 0, 0, 0, 0, 0, 0, 0, 0, 0, 0, 0, 0, 0, 0, 0, 0, 0, 0, 0, 0, 0, 0, 0, 0, 0, 0, 0, 0, 0, 0, 0, 0, 0, 0, 0, 0, 0, 0, 0, 0, 0, 0, 0, 0, 0, 0, 0, 0, 0, 0, 0, 0, 0, 0, 0, 0, 0, 0, 0, 0, 0, 0, 0, 0, 0, 0, 0, 0, 0, 0, 0, 0, 0, 0, 0, 0, 0, 0, 0, 0, 0, 0, 0, 0, 0, 0, 0, 0, 0, 0, 0, 0, 0, 0, 0, 0, 0, 0, 0, 0, 0, 0, 0, 0, 0, 0, 0, 0, 0, 0, 0, 0, 0, 0, 0, 0, 0, 0, 0, 0, 0, 0, 0, 0, 0, 0, 0, 0, 0, 0, 0, 0, 0, 0, 0, 0, 0, 0, 0, 0, 0, 0, 0, 0, 0, 0, 0, 0, 0, 0, 0, 0, 0, 0, 0, 0, 0, 0, 0, 0, 0, 0, 0, 0, 0, 0, 0, 0, 0, 0, 0, 0, 0, 0, 0, 0, 0, 0, 0, 0, 0, 0, 0, 0, 0, 0, 0, 0, 0, 0, 0, 0, 0, 0, 0, 0, 0, 0, 0, 0, 0, 0, 0, 1, 0, 0, 0, 0, 0, 0, 0, 0, 0, 0, 0, 0, 0, 0, 0, 0, 0, 0, 0, 0, 0, 0, 0, 0, 0, 0, 0, 0, 0, 0, 0, 0, 0, 0, 0, 0, 0, 0, 0, 0, 0, 0, 0, 0, 0, 0, 0, 0, 0, 0, 0, 0, 0, 0, 0, 0, 0, 0, 0, 0, 0, 0, 0, 0, 0, 0, 0, 0, 0, 0, 0, 0, 0, 0, 0, 0, 0, 0, 0, 0, 0, 0, 0, 0, 0, 0, 0, 0, 0, 0, 0, 0, 0, 0, 0, 0, 0, 0, 0, 0, 0, 0, 0, 0, 0, 0, 0, 0, 0, 0, 2, 0, 0, 0, 0, 0, 0, 0, 0, 0, 0, 0, 0, 0, 0, 0, 0, 0, 0, 0, 0, 0, 0, 0, 0, 0, 0, 0, 0, 0, 0, 0, 0, 0, 0, 0, 0, 0, 0, 0, 0, 0, 0, 0, 0, 0, 0, 0, 0, 0, 0, 0, 0, 0, 0, 0, 0, 0, 0, 0, 0, 0, 0, 0, 0, 0, 0, 0, 0, 0, 0, 0, 0, 0, 0, 0, 0, 0, 0, 0, 0, 0, 0, 0, 0, 0, 0, 0, 0, 0, 0, 0, 0, 0, 0, 0, 0, 0, 0, 0, 0, 0, 0, 0, 0, 0, 0, 0, 0, 0, 0, 0, 0, 0, 0, 0, 0, 0, 0, 0, 0, 0, 0, 0, 0, 0, 0, 0, 0, 0, 0, 0, 0, 0, 0, 0, 0, 0, 0, 0, 0, 0, 0, 0, 0, 0, 0, 0, 0, 0, 0, 0, 0, 0, 0, 0, 0, 0, 0, 0, 0, 0, 0, 0, 0, 0, 0, 0, 0, 0, 0, 0, 0, 0, 0, 0, 0, 0, 0, 0, 0, 0, 0, 0, 0, 0, 0, 0, 0, 0, 0, 0, 0, 0, 0, 0, 0, 0, 0, 0, 0, 0, 0, 0, 0, 0, 0, 0, 0, 0, 0, 0, 0, 0, 0, 0, 0, 0, 0, 0, 0, 0, 0, 0, 0, 0, 0, 0, 0, 0, 0, 0, 0, 0, 0, 0, 0, 0, 0, 0, 0, 0, 0, 0, 0, 0, 0, 0, 0, 0, 0, 0, 0, 0, 0, 0, 0, 0, 0, 0, 0, 0, 0, 0, 0, 0, 0, 0, 0, 0, 0, 0, 0, 0, 0, 0, 0, 0, 0, 0, 0, 0, 0, 0, 0, 0, 0, 0, 0, 0, 0, 0, 0, 0, 0, 0, 0, 0, 0, 0, 0, 0, 0, 0, 0, 0, 0, 0, 0, 0, 0, 0, 0, 0, 0, 0, 0, 0, 0, 0, 0, 0, 0, 0, 0, 0, 0, 0, 0, 0, 0, 0, 0, 0, 0, 0, 0, 0, 0, 0, 0, 0, 0, 0, 0, 0, 0, 0, 0, 0, 0, 0, 0, 0, 0, 0, 0, 0, 0, 0, 0, 0, 0, 0, 0, 0, 0, 0, 0, 0, 0, 0, 0, 0, 0, 0, 0, 0, 0, 0, 0, 0, 0, 0, 0, 0, 0, 0, 0, 0, 0, 0, 0, 0, 0, 0, 0, 0, 0, 0, 0, 0, 0, 0, 0, 0, 0, 0, 0, 0, 0, 0, 0, 0, 0, 0, 0, 0, 0, 0, 0, 0, 0, 0, 0, 0, 0, 0, 0, 0, 0, 0, 0, 0, 0, 0, 0, 0, 0, 0, 0, 0, 0, 0, 0, 0, 0, 0, 0, 0, 0, 0, 0, 0, 0, 0, 0, 0, 0, 0, 0, 0, 0, 0, 0, 0, 0, 0, 0, 0, 0, 0, 0, 0, 0, 0, 0, 0, 0, 0, 0, 0, 0, 0, 0, 0, 0, 0, 0, 0, 0, 0, 0, 0, 0, 0, 0, 0, 0, 0, 0, 0, 0, 0, 0, 0, 0, 0, 0, 0, 0, 0, 0, 0, 0, 0, 0, 0, 0, 0, 0, 0, 0, 0, 0, 0, 0, 0, 0, 0, 0, 0, 0, 0, 0, 0, 0, 0, 0, 0, 0, 0, 0, 0, 0, 0, 0, 0, 0, 0, 0, 0, 0, 0, 0, 0, 0, 0, 0, 0, 0, 0, 0, 0, 0, 0, 0, 0, 0, 0, 0, 0, 0, 0, 0, 0, 0, 0, 0, 0, 0, 0, 0, 0, 0, 0, 0, 0, 0, 0, 0, 0, 0, 0, 0, 0, 0, 0, 0, 0, 0, 0, 0, 0, 0, 0, 0, 0, 0, 0, 0, 0, 0, 0, 0, 0, 0, 0, 0, 0, 0, 0, 0, 0, 0, 0, 0, 0, 0, 0, 0, 0, 0, 0, 0, 0, 0, 0, 0, 0, 0, 0, 0, 0, 0, 0, 0, 0, 0, 0, 0, 0, 0, 0, 0, 0, 0, 0, 0, 0, 0, 0, 0, 0, 0, 0, 0, 0, 0, 0, 0, 0, 0, 0, 0, 0, 0, 0, 0, 0, 0, 0, 0, 0, 0, 0, 0, 0, 0, 0, 0, 1, 0, 0, 0, 0, 0, 0, 0, 0, 0, 0, 0, 0, 0, 0, 0, 0, 0, 0, 0, 0, 0, 0, 0, 0, 0, 0, 0, 0, 0, 0, 0, 0, 0, 0, 0, 0, 0, 0, 0, 0, 0, 0, 0, 0, 0, 0, 0, 0, 0, 0, 0, 0, 0, 0, 0, 0, 0, 0, 0, 0, 0, 0, 0, 0, 0, 0, 0, 0, 0, 0, 0, 0, 0, 0, 0, 0, 0, 0, 0, 0, 0, 0, 0, 0, 0, 0, 0, 0, 0, 0, 0, 0, 0, 0, 0, 0, 0, 0, 0, 0, 0, 0, 0, 0, 0, 0, 0, 1, 0, 0, 0, 0, 0, 0, 0, 0, 0, 0, 0, 0, 0, 0, 0, 0, 0, 0, 0, 0, 0, 0, 0, 0, 0, 0, 0, 0, 0, 0, 0, 0, 0, 0, 0, 0, 0, 0, 0, 0, 0, 0, 0, 0, 0, 0, 0, 0, 0, 0, 0, 0, 0, 0, 0, 0, 0, 0, 0, 0, 0, 0, 0, 0, 0, 0, 0, 0, 0, 0, 0, 0, 0, 0, 0, 0, 0, 0, 0, 0, 0, 0, 0, 0, 0, 0, 0, 0, 0, 0, 0, 0, 0, 0, 0, 0, 0, 0, 0, 0, 0, 0, 0, 0, 0, 0, 0, 0, 0, 0, 0, 0, 0, 0, 0, 0, 0, 0, 0, 0, 0, 0, 0, 0, 0, 0, 0, 0, 0, 0, 0, 0, 0, 0, 0, 0, 0, 0, 0, 0, 0, 0, 0, 0, 0, 0, 0, 0, 0, 0, 0, 0, 0, 0, 0, 0, 0, 0, 0, 0, 0, 0, 0, 0, 0, 0, 0, 0, 0, 0, 0, 0, 0, 0, 0, 0, 0, 0, 0, 0, 0, 0, 0, 0, 0, 0, 0, 0, 0, 0, 0, 0, 0, 0, 0, 0, 0, 0, 0, 0, 0, 0, 0, 0, 0, 0, 0, 0, 0, 0, 0, 0, 0, 0, 0, 0, 0, 0, 0, 0, 0, 0, 0, 0, 0, 0, 0, 0, 0, 0, 0, 0, 0, 0, 0, 0, 0, 0, 0, 0, 0, 0, 0, 0, 0, 0, 0, 0, 0, 0, 0, 0, 0, 0, 0, 0, 0, 0, 0, 0, 0, 0, 0, 0, 0, 0, 0, 0, 0, 0, 0, 0, 0, 0, 0, 0, 0, 0, 0, 0, 0, 0, 0, 0, 0, 0, 0, 0, 0, 0, 0, 0, 0, 0, 0, 0, 0, 0, 0, 0, 0, 0, 0, 0, 0, 0, 0, 0, 0, 0, 0, 0, 0, 0, 0, 0, 0, 0, 0, 0, 0, 0, 0, 0, 0, 0, 0, 0, 0, 0, 0, 0, 0, 0, 0, 0, 0, 0, 0, 0, 0, 0, 0, 0, 0, 0, 0, 0, 0, 0, 0, 0, 0, 0, 0, 0, 0, 0, 0, 0, 0, 0, 0, 0, 0, 0, 0, 0, 0, 0, 0, 0, 0, 0, 0, 0, 0, 0, 0, 0, 0, 0, 0, 0, 0, 0, 0, 0, 0, 0, 0, 0, 0, 0, 0, 0, 0, 0, 0, 0, 0, 0, 0, 0, 0, 0, 0, 0, 0, 0, 0, 0, 0, 0, 0, 0, 0, 0, 0, 0, 0, 0, 0, 0, 0, 0, 0, 0, 0, 0, 0, 0, 0, 0, 0, 0, 0, 0, 0, 0, 0, 0, 0, 0, 0, 0, 0, 0, 0, 0, 0, 0, 0, 0, 0, 0, 0, 0, 0, 0, 0, 0, 0, 2, 0, 1, 0], type: <class 'list'>, valid types: <class 'bytes'>, <class 'bytearray'>, file-like object"
     ]
    }
   ],
   "source": [
    "response = runtime.invoke_endpoint(EndpointName = xgb_predictor.endpoint, # The name of the endpoint we created\n",
    "                                       ContentType = 'text/csv',                     # The data format that is expected\n",
    "                                       Body = test_bow)"
   ]
  },
  {
   "cell_type": "markdown",
   "metadata": {},
   "source": [
    "So why did we get an error?\n",
    "\n",
    "Because we tried to send the endpoint a list of integers but it expected us to send data of type `text/csv`. So, we need to convert it."
   ]
  },
  {
   "cell_type": "code",
   "execution_count": 45,
   "metadata": {},
   "outputs": [],
   "source": [
    "response = runtime.invoke_endpoint(EndpointName = xgb_predictor.endpoint, # The name of the endpoint we created\n",
    "                                       ContentType = 'text/csv',                     # The data format that is expected\n",
    "                                       Body = ','.join([str(val) for val in test_bow]).encode('utf-8'))"
   ]
  },
  {
   "cell_type": "code",
   "execution_count": 46,
   "metadata": {},
   "outputs": [
    {
     "name": "stdout",
     "output_type": "stream",
     "text": [
      "{'ResponseMetadata': {'RequestId': '10b8168f-9e01-4b7d-a390-55df3592343a', 'HTTPStatusCode': 200, 'HTTPHeaders': {'x-amzn-requestid': '10b8168f-9e01-4b7d-a390-55df3592343a', 'x-amzn-invoked-production-variant': 'AllTraffic', 'date': 'Mon, 15 Oct 2018 05:14:05 GMT', 'content-type': 'text/csv; charset=utf-8', 'content-length': '14'}, 'RetryAttempts': 0}, 'ContentType': 'text/csv; charset=utf-8', 'InvokedProductionVariant': 'AllTraffic', 'Body': <botocore.response.StreamingBody object at 0x7f51cc230b38>}\n"
     ]
    }
   ],
   "source": [
    "print(response)"
   ]
  },
  {
   "cell_type": "markdown",
   "metadata": {},
   "source": [
    "As we can see, the response from our model is a somewhat complicated looking dict that contains a bunch of information. The bit that we are most interested in is `'Body'` object which is a streaming object that we need to `read` in order to make use of."
   ]
  },
  {
   "cell_type": "code",
   "execution_count": 47,
   "metadata": {},
   "outputs": [
    {
     "name": "stdout",
     "output_type": "stream",
     "text": [
      "0.343426883221\n"
     ]
    }
   ],
   "source": [
    "response = response['Body'].read().decode('utf-8')\n",
    "print(response)"
   ]
  },
  {
   "cell_type": "markdown",
   "metadata": {},
   "source": [
    "Now that we know how to process the incoming user data we can start setting up the infrastructure to make our simple web app work. To do this we will make use of two different services. Amazon's Lambda and API Gateway services.\n",
    "\n",
    "Lambda is a service which allows someone to write some relatively simple code and have it executed whenever a chosen trigger occurs. For example, you may want to update a database whenever new data is uploaded to a folder stored on S3.\n",
    "\n",
    "API Gateway is a service that allows you to create HTTP endpoints (url addresses) which are connected to other AWS services. One of the benefits to this is that you get to decide what credentials, if any, are required to access these endpoints.\n",
    "\n",
    "In our case we are going to set up an HTTP endpoint through API Gateway which is open to the public. Then, whenever anyone sends data to our public endpoint we will trigger a Lambda function which will send the input (in our case a review) to our model's endpoint and then return the result."
   ]
  },
  {
   "cell_type": "markdown",
   "metadata": {},
   "source": [
    "### Setting up a Lambda function\n",
    "\n",
    "The first thing we are going to do is set up a Lambda function. This Lambda function will be executed whenever our public API has data sent to it. When it is executed it will receive the data, perform any sort of processing that is required, send the data (the review) to the SageMaker endpoint we've created and then return the result.\n",
    "\n",
    "#### Part A: Create an IAM Role for the Lambda function\n",
    "\n",
    "Since we want the Lambda function to call a SageMaker endpoint, we need to make sure that it has permission to do so. To do this, we will construct a role that we can later give the Lambda function.\n",
    "\n",
    "Using the AWS Console, navigate to the **IAM** page and click on **Roles**. Then, click on **Create role**. Make sure that the **AWS service** is the type of trusted entity selected and choose **Lambda** as the service that will use this role, then click **Next: Permissions**.\n",
    "\n",
    "In the search box type `sagemaker` and select the check box next to the **AmazonSageMakerFullAccess** policy. Then, click on **Next: Review**.\n",
    "\n",
    "Lastly, give this role a name. Make sure you use a name that you will remember later on, for example `LambdaSageMakerRole`. Then, click on **Create role**."
   ]
  },
  {
   "cell_type": "markdown",
   "metadata": {},
   "source": [
    "#### Part B: Create a Lambda function\n",
    "\n",
    "Now it is time to actually create the Lambda function. Remember from earlier that in order process the user provided input and send it to our endpoint we need to gather two pieces of information:\n",
    " - The name of the endpoint, and\n",
    " - the vocabulary object.\n",
    "We will copy these pieces of information to our Lambda function after we create it.\n",
    "\n",
    "To start, using the AWS Console, navigate to the AWS Lambda page and click on **Create a function**. When you get to the next page, make sure that **Author from scratch** is selected. Now, name your Lambda function, using a name that you will remember later on, for example `sentiment_analysis_xgboost_func`. Make sure that the **Python 3.6** runtime is selected and then choose the role that you created in the previous part. Then, click on **Create Function**.\n",
    "\n",
    "On the next page you will see some information about the Lambda function you've just created. If you scroll down you should see an editor in which you can write the code that will be executed when your Lambda function is triggered. Collecting the code we wrote above to process a single review and adding it to the provided example `lambda_handler` we arrive at the following.\n",
    "\n",
    "```python\n",
    "# We need to use the low-level library to interact with SageMaker since the SageMaker API\n",
    "# is not available natively through Lambda.\n",
    "import boto3\n",
    "\n",
    "# And we need the regular expression library to do some of the data processing\n",
    "import re\n",
    "\n",
    "REPLACE_NO_SPACE = re.compile(\"(\\.)|(\\;)|(\\:)|(\\!)|(\\')|(\\?)|(\\,)|(\\\")|(\\()|(\\))|(\\[)|(\\])\")\n",
    "REPLACE_WITH_SPACE = re.compile(\"(<br\\s*/><br\\s*/>)|(\\-)|(\\/)\")\n",
    "\n",
    "def review_to_words(review):\n",
    "    words = REPLACE_NO_SPACE.sub(\"\", review.lower())\n",
    "    words = REPLACE_WITH_SPACE.sub(\" \", words)\n",
    "    return words\n",
    "    \n",
    "def bow_encoding(words, vocabulary):\n",
    "    bow = [0] * len(vocabulary) # Start by setting the count for each word in the vocabulary to zero.\n",
    "    for word in words.split():  # For each word in the string\n",
    "        if word in vocabulary:  # If the word is one that occurs in the vocabulary, increase its count.\n",
    "            bow[vocabulary[word]] += 1\n",
    "    return bow\n",
    "\n",
    "\n",
    "def lambda_handler(event, context):\n",
    "    \n",
    "    vocab = \"*** ACTUAL VOCABULARY GOES HERE ***\"\n",
    "    \n",
    "    words = review_to_words(event['body'])\n",
    "    bow = bow_encoding(words, vocab)\n",
    "\n",
    "    # The SageMaker runtime is what allows us to invoke the endpoint that we've created.\n",
    "    runtime = boto3.Session().client('sagemaker-runtime')\n",
    "\n",
    "    # Now we use the SageMaker runtime to invoke our endpoint, sending the review we were given\n",
    "    response = runtime.invoke_endpoint(EndpointName = '***ENDPOINT NAME HERE***',# The name of the endpoint we created\n",
    "                                       ContentType = 'text/csv',                 # The data format that is expected\n",
    "                                       Body = ','.join([str(val) for val in bow]).encode('utf-8')) # The actual review\n",
    "\n",
    "    # The response is an HTTP response whose body contains the result of our inference\n",
    "    result = response['Body'].read().decode('utf-8')\n",
    "    \n",
    "    # Round the result so that our web app only gets '1' or '0' as a response.\n",
    "    result = round(float(result))\n",
    "\n",
    "    return {\n",
    "        'statusCode' : 200,\n",
    "        'headers' : { 'Content-Type' : 'text/plain', 'Access-Control-Allow-Origin' : '*' },\n",
    "        'body' : str(result)\n",
    "    }\n",
    "```"
   ]
  },
  {
   "cell_type": "markdown",
   "metadata": {},
   "source": [
    "Once you have copy and pasted the code above into the Lambda code editor, replace the `**ENDPOINT NAME HERE**` portion with the name of the endpoint that we deployed earlier. You can determine the name of the endpoint using the code cell below."
   ]
  },
  {
   "cell_type": "code",
   "execution_count": 48,
   "metadata": {},
   "outputs": [
    {
     "data": {
      "text/plain": [
       "'xgboost-2018-10-15-04-42-41-025'"
      ]
     },
     "execution_count": 48,
     "metadata": {},
     "output_type": "execute_result"
    }
   ],
   "source": [
    "xgb_predictor.endpoint"
   ]
  },
  {
   "cell_type": "markdown",
   "metadata": {},
   "source": [
    "In addition, you will need to copy the vocabulary dict to the appropriate place in the code at the beginning of the `lambda_handler` method. The cell below prints out the vocabulary dict in a way that is easy to copy and paste."
   ]
  },
  {
   "cell_type": "code",
   "execution_count": 49,
   "metadata": {},
   "outputs": [
    {
     "name": "stdout",
     "output_type": "stream",
     "text": [
      "{'jack': 2373, 'no': 3020, 'kids': 2467, 'its': 2370, 'not': 3040, 'the': 4426, 'warm': 4794, 'hearted': 2065, 'family': 1645, 'movie': 2926, 'about': 67, 'dad': 1095, 'who': 4871, 'comes': 891, 'back': 378, 'from': 1840, 'dead': 1132, 'in': 2257, 'form': 1798, 'of': 3083, 'snow': 4045, 'man': 2721, 'sadistic': 3768, 'killer': 2470, 'named': 2961, 'is': 2360, 'with': 4911, 'some': 4061, 'acid': 95, 'and': 226, 'into': 2332, 'happened': 2027, 'to': 4507, 'catch': 714, 'copy': 994, 'this': 4457, 'so': 4046, 'could': 1007, 'have': 2052, 'nice': 3008, 'sit': 4003, 'laugh': 2529, 'at': 331, 'it': 2366, 'ha': 2002, 'sounds': 4084, 'like': 2599, 'perfect': 3224, 'comedy': 890, 'horror': 2168, 'well': 4843, 'was': 4805, 'wrong': 4973, 'very': 4723, 'being': 448, 'via': 4726, 'truck': 4595, 'jail': 2376, 'he': 2056, 'chair': 742, 'midnight': 2834, 'but': 636, 'night': 3013, 'government': 1948, 'carrying': 701, 'new': 3003, 'escapes': 1519, 'only': 3110, 'be': 418, 'death': 1141, 'by': 642, 'returns': 3668, 'small': 4033, 'town': 4541, 'where': 4864, 'caught': 722, 'time': 4495, 'sheriff': 3929, 'here': 2086, 'ready': 3546, 'kill': 2468, 'again': 146, 'now': 3054, 'as': 311, 'powers': 3361, 'can': 665, 'water': 4816, 'shoot': 3942, 'out': 3141, 'ice': 2210, 'grow': 1982, 'question': 3487, 'stop': 4201, 'below': 462, 'typical': 4623, 'line': 2610, 'movies': 2927, 'begins': 444, 'cheesy': 781, 'soon': 4074, 'burned': 626, 'quickly': 3491, 'drops': 1372, 'cheese': 780, 'goes': 1930, 'flat': 1748, 'acting': 99, 'for': 1784, 'one': 3107, 'appalling': 268, 'we': 4823, 'whole': 4873, 'cast': 710, 'actors': 104, 'either': 1438, 'cant': 671, 'act': 97, 'has': 2043, 'pointless': 3318, 'character': 758, 'or': 3124, 'just': 2437, 'few': 1700, 'extra': 1606, 'bucks': 606, 'good': 1937, 'actor': 103, 'scott': 3824, 'plays': 3301, 'looks': 2649, 'young': 4989, 'richard': 3686, 'combined': 885, 'frankenstein': 1822, 'sadly': 3769, 'his': 2118, 'appearance': 274, 'reduced': 3579, 'three': 4469, 'minutes': 2859, 'all': 187, 'ever': 1538, 'see': 3855, 'him': 2110, 'wise': 4903, 'voice': 4761, 'plus': 3311, 'are': 285, 'anything': 260, 'funny': 1852, 'stupid': 4247, 'bad': 382, 'plot': 3309, 'horrible': 2163, 'throughout': 4478, 'history': 2121, 'there': 4438, 'been': 438, 'numerous': 3062, 'mask': 2752, 'st': 4137, 'oh': 3096, 'come': 886, 'on': 3105, 'way': 4820, 'characters': 760, 'introduced': 2337, 'terrible': 4407, 'really': 3556, 'wanted': 4789, 'son': 4070, 'mean': 2779, 'giving': 1915, 'them': 4432, 'they': 4442, 'wont': 4932, 'dumb': 1385, 'deaths': 1142, 'woman': 4921, 'christmas': 810, 'lights': 2597, 'her': 2085, 'head': 2057, 'box': 555, 'girl': 1909, 'shower': 3957, 'that': 4424, 'scene': 3809, 'top': 4525, 'special': 4097, 'effects': 1431, 'first': 1736, 'big': 478, 'effect': 1428, 'boy': 557, '60s': 54, 'fashion': 1659, 'art': 304, 'design': 1202, 'fake': 1635, 'person': 3238, 'covered': 1023, 'rubber': 3747, 'skin': 4015, 'blood': 512, 'gore': 1941, 'film': 1716, 'never': 3001, 'takes': 4351, 'off': 3084, 'instead': 2307, 'low': 2676, 'levels': 2585, 'worst': 4952, 'slasher': 4020, 'made': 2697, 'thought': 4462, 'would': 4957, 'doesnt': 1309, 'try': 4600, 'actually': 109, 'tries': 4585, 'scary': 3807, 'gets': 1900, '10': 0, 'least': 2554, 'me': 2778, 'dont': 1324, 'even': 1533, 'bother': 548, 'piece': 3272, 'trash': 4565, 'shot': 3949, 'edited': 1420, 'yes': 4982, 'beautiful': 428, 'rock': 3720, 'flow': 1762, 'works': 4945, 'hands': 2020, 'their': 4431, 'point': 3316, 'beauty': 430, 'us': 4690, 'touch': 4533, 'words': 4938, 'matthew': 2772, 'arnold': 296, 'beach': 419, 'listen': 2619, 'you': 4986, 'hear': 2061, 'which': 4867, 'waves': 4819, 'draw': 1349, 'return': 3665, 'up': 4683, 'high': 2100, 'begin': 442, 'then': 4436, 'slow': 4031, 'bring': 585, 'note': 3044, 'sadness': 3770, 'near': 2979, 'end': 1468, 'says': 3801, 'do': 1302, 'job': 2405, 'what': 4858, 'im': 2232, 'doing': 1312, 'lot': 2661, 'more': 2904, 'myself': 2953, 'take': 4349, 'moment': 2886, 'think': 4452, 'because': 432, 'combination': 883, 'change': 749, 'color': 877, 'creates': 1038, 'indeed': 2271, 'something': 4066, 'than': 4420, 'mere': 2814, 'say': 3799, 'another': 250, 'remarks': 3615, 'isnt': 2362, 'theme': 4433, 'artists': 309, 'century': 736, 'became': 431, 'aware': 368, 'how': 2181, 'greatest': 1966, 'compared': 912, 'vast': 4716, 'began': 441, 'reflect': 3584, 'understanding': 4645, 'were': 4848, 'deliberately': 1166, 'idea': 2213, 'short': 3946, 'lived': 2626, 'humans': 2190, 'sense': 3877, 'expressed': 1601, 'perhaps': 3235, 'part': 3193, 'work': 4940, 'sort': 4077, 'expression': 1602, 'leaves': 2556, 'will': 4886, 'reach': 3536, 'places': 3284, 'river': 3707, 'away': 369, 'process': 3412, 'both': 547, 'timeless': 4496, 'necessary': 2984, 'understand': 4643, 'our': 3139, 'world': 4946, 'place': 3282, 'within': 4912, 'important': 2247, 'these': 4441, 'done': 1322, 'context': 968, 'nature': 2975, 'composed': 926, 'set': 3898, 'natural': 2973, 'thus': 4486, 'walls': 4783, 'stone': 4197, 'silent': 3975, 'solid': 4057, 'yet': 4984, 'know': 2489, 'stay': 4166, 'length': 2569, 'state': 4160, 'much': 2934, 'existed': 1570, 'before': 440, 'came': 656, 'along': 195, 'should': 3951, 'spiritual': 4116, 'an': 223, 'experience': 1580, 'purely': 3472, 'answers': 252, 'famous': 1647, 'poem': 3312, 'saying': 3800, 'lives': 2628, 'similarly': 3980, 'thinks': 4454, 'carefully': 689, 'beautifully': 429, 'finished': 1733, 'given': 1913, 'wind': 4893, 'might': 2835, 'modern': 2882, 'endure': 1475, 'photos': 3261, 'videos': 4734, 'accomplished': 87, 'photographer': 3259, 'ones': 3108, 'tells': 4397, 'photographed': 3258, 'look': 2646, 'mood': 2898, 'cinematic': 818, 'production': 3419, 'directed': 1259, 'thomas': 4458, 'haunting': 2051, 'music': 2946, 'fred': 1825, 'missed': 2867, 'most': 2909, 'documentaries': 1306, 'seen': 3865, 'watching': 4815, 'cowboy': 1025, 'taking': 4352, 'directing': 1260, 'cinematography': 820, 'editing': 1421, 'writing': 4971, 'too': 4522, 'watch': 4811, 'when': 4862, 'originally': 3131, 'released': 3603, 'saw': 3798, 'couple': 1016, 'years': 4979, 'ago': 154, 'absolutely': 72, 'stood': 4199, 'test': 4416, 'watched': 4813, 'several': 3905, 'times': 4497, 'since': 3990, 'everything': 1544, 'brilliant': 583, 'poignant': 3315, 'performances': 3229, 'voight': 4764, 'hoffman': 2128, 'though': 4461, 'still': 4188, 'find': 1726, 'every': 1539, 'stunning': 4244, 'superbly': 4297, 'dream': 1354, 'sequences': 3888, 'shame': 3918, 'contemporary': 965, 'filmmakers': 1720, 'arent': 288, 'prepared': 3371, 'risk': 3704, 'making': 2718, 'visually': 4758, 'interesting': 2325, 'required': 3641, 'viewing': 4740, 'schools': 3814, 'hello': 2078, 'my': 2951, 'post': 3352, 'imdb': 2240, 'use': 4692, 'reference': 3582, 'quite': 3495, 'while': 4868, 'therefore': 4439, 'fact': 1621, 'am': 204, 'greek': 1970, 'inevitably': 2283, 'going': 1931, 'affect': 136, 'hope': 2155, 'your': 4991, 'spent': 4108, 'life': 2592, 'did': 1241, 'everywhere': 1545, 'if': 2222, 'recall': 3562, 'grade': 1951, 'disappointment': 1275, 'fellow': 1691, 'around': 297, 'study': 4242, 'uk': 4626, 'best': 469, 'literature': 2623, 'after': 143, 'actual': 108, 'war': 4792, 'put': 3480, 'reason': 3557, 'crucial': 1068, 'position': 3345, 'said': 3774, 'may': 2775, 'events': 1536, 'accurate': 90, 'historically': 2120, 'purpose': 3474, 'reading': 3544, 'huge': 2185, 'himself': 2111, 'wondering': 4930, 'love': 2669, 'anger': 235, 'hate': 2046, 'educational': 1425, 'talks': 4361, 'between': 475, 'warriors': 4803, 'battle': 414, 'none': 3028, 'revealed': 3671, 'cheap': 774, 'eyes': 1613, 'other': 3135, 'intellectual': 2312, 'people': 3221, 'english': 1483, 'german': 1896, 'spend': 4105, 'millions': 2848, 'dollars': 1315, 'such': 4268, 'scenario': 3808, 'storm': 4206, 'blockbuster': 509, 'graphics': 1959, 'youd': 4987, 'better': 472, 'else': 1448, 'give': 1912, 'expensive': 1579, 'alex': 179, 'inner': 2292, 'urban': 4688, 'politically': 3325, 'correct': 1000, 'propaganda': 3435, 'political': 3324, 'beyond': 476, 'individuals': 2278, 'rather': 3528, 'members': 2801, 'offensive': 3086, 'australian': 357, 'against': 147, 'pretty': 3384, 'stiff': 4187, 'competition': 918, 'message': 2819, 'tired': 4501, 'beloved': 461, 'left': 2561, 'victims': 4730, 'white': 4870, 'men': 2805, 'violent': 4748, 'women': 4923, 'particularly': 3195, 'theyre': 4445, 'likely': 2601, 'four': 1812, 'go': 1924, 'body': 527, 'murdered': 2940, 'naturally': 2974, 'leave': 2555, 'days': 1130, 'strange': 4211, 'decision': 1151, 'taken': 4350, 'almost': 193, 'discussion': 1284, 'animals': 240, 'briefly': 580, 'hes': 2093, 'living': 2629, 'likes': 2602, 'hold': 2129, 'baby': 376, 'eventually': 1537, 'moves': 2925, 'location': 2635, 'bush': 632, 'those': 4460, 'live': 2625, 'fear': 1676, 'landscape': 2513, 'evil': 1548, 'country': 1014, 'shocking': 3940, 'through': 4477, 'long': 2644, 'distance': 1294, 'views': 4742, 'mysterious': 2955, 'clear': 839, 'home': 2142, 'implausible': 2245, 'black': 493, 'little': 2624, 'backdrop': 379, 'story': 4207, 'values': 4710, 'over': 3148, 'real': 3547, 'jobs': 2406, 'product': 3418, 'whom': 4875, 'projects': 3428, 'possible': 3350, 'opposed': 3122, 'popular': 3333, 'films': 1721, 'want': 4788, 'matter': 2769, 'stinker': 4191, 'get': 1899, 'paid': 3169, 'spare': 4093, 'yourself': 4993, 'wasting': 4810, 'avoid': 363, 'plague': 3285, 'social': 4049, 'commentary': 899, 'entertainment': 1500, 'deserves': 1201, 'pan': 3180, 'trashy': 4566, 'attempts': 343, 'sexual': 3908, 'poor': 3328, 'excuse': 1564, 'flick': 1754, 'revolves': 3682, 'subtle': 4260, 'name': 2960, 'played': 3297, 'michael': 2829, 'restaurant': 3658, 'owner': 3159, 'wife': 4884, 'grace': 1950, 'child': 789, 'must': 2950, 'meaningless': 2782, 'sex': 3907, 'five': 1743, 'any': 256, 'field': 1704, 'vision': 4754, 'agree': 155, 'course': 1019, 'planet': 3289, 'finds': 1728, 'despite': 1211, 'old': 3100, 'enough': 1491, 'security': 3854, 'centered': 733, 'conversation': 980, 'each': 1395, 'flashback': 1746, 'nothing': 3047, 'serial': 3889, 'acts': 107, '75': 57, 'screen': 3829, 'hard': 2033, 'abysmal': 76, 'video': 4733, 'somewhere': 4069, 'tv': 4610, 'soap': 4047, 'opera': 3116, 'amateur': 206, 'porn': 3336, 'someones': 4065, 'direction': 1261, 'joseph': 2419, 'lighting': 2596, 'uninspired': 4657, 'script': 3834, 'dialogue': 1234, 'mindless': 2851, 'generally': 1881, 'portrayed': 3342, 'obsessed': 3069, 'waiting': 4772, 'rough': 3741, 'example': 1553, 'sister': 4001, 'she': 3923, 'knows': 2493, 'sleeping': 4025, 'tell': 4395, 'response': 3654, 'throw': 4479, 'wall': 4781, 'seconds': 3848, 'instantly': 2306, 'finish': 1732, 'walks': 4780, 'great': 1964, 'gotta': 1946, 'run': 3755, 'pick': 3265, 'word': 4937, 'bond': 532, 'spoiler': 4123, 'obvious': 3071, 'anyone': 259, 'had': 2003, 'fifteen': 1706, 'overdone': 3152, 'mechanical': 2788, 'poorly': 3329, 'comical': 894, 'erotic': 1515, 'fully': 1847, 'presents': 3377, 'depth': 1190, 'rain': 3506, 'seems': 3864, 'parts': 3199, 'closest': 857, 'thing': 4450, 'performance': 3228, 'looking': 2648, 'genuinely': 1892, 'hurt': 2202, 'finally': 1724, 'discovers': 1281, 'husband': 2204, 'animal': 239, 'far': 1653, 'happening': 2028, 'rest': 3657, 'collection': 874, 'provoking': 3452, 'lines': 2612, 'hit': 2122, 'harder': 2035, 'god': 1926, 'among': 217, 'thousands': 4466, 'viewed': 4737, 'extremely': 1610, 'rare': 3523, 'rating': 3529, 'hours': 2177, 'single': 3996, 'ive': 2372, 'serious': 3891, 'ultimate': 4627, 'proof': 3434, 'dvd': 1391, 'thats': 4425, 'mainstream': 2709, 'got': 1944, 'vhs': 4725, 'bin': 483, 'full': 1846, 'ex': 1549, 'rental': 3627, 'local': 2634, 'store': 4204, 'quote': 3496, 'japan': 2381, 'samurai': 3779, 'standard': 4144, 'ages': 152, 'sent': 3880, 'epic': 1506, 'journey': 2421, 'across': 96, 'king': 2479, 'spain': 4091, 'whilst': 4869, 'sea': 3838, 'precious': 3366, 'gold': 1932, 'intended': 2315, 'buy': 640, 'weapons': 4829, 'odds': 3082, 'survive': 4321, 'fate': 1665, 'multi': 2935, 'million': 2847, 'dollar': 1314, 'action': 100, 'adventure': 130, 'different': 1248, 'certainly': 738, 'wasnt': 4807, 'crazy': 1035, 'adventures': 131, 'speaking': 4095, 'does': 1308, 'cool': 989, 'impression': 2252, 'john': 2409, 'repeated': 3631, 'castle': 712, 'holy': 2140, 'ability': 65, 'scenes': 3811, 'showing': 3958, 'mind': 2849, 'awesome': 371, 'accent': 78, 'lack': 2502, 'nearly': 2981, 'makes': 2716, 'delivered': 1170, 'honestly': 2147, 'fast': 1661, 'forward': 1808, 'final': 1722, 'tape': 4365, 'probably': 3407, 'wear': 4830, 'listed': 2618, 'opinion': 3118, 'starring': 4154, 'peter': 3247, 'falk': 1636, 'playing': 3300, 'justice': 2438, 'during': 1387, 'spanish': 4092, 'ian': 2209, 'mexico': 2827, 'six': 4010, 'including': 2264, 'claim': 828, 'land': 2511, 'maybe': 2776, 'steal': 4170, 'opportunity': 3121, 'sight': 3969, 'captured': 677, 'held': 2074, 'prisoner': 3402, 'turns': 4609, 'rex': 3683, 'eat': 1411, 'effort': 1432, 'win': 4892, 'offer': 3087, 'help': 2079, 'rid': 3690, 'monster': 2892, 'problem': 3408, 'various': 4715, 'hidden': 2096, 'motives': 2916, 'dinosaurs': 1256, 'brian': 576, 'smith': 4038, 'favourite': 1673, 'turkey': 4604, 'recommend': 3571, 'also': 199, 'known': 2492, 'under': 4639, 'spoof': 4127, 'sounding': 4083, 'title': 4504, 'changed': 750, 'sci': 3815, 'fi': 1701, 'channel': 753, 'aired': 165, 'original': 3129, 'foreign': 1790, 'idiotic': 2219, 'creature': 1045, 'feature': 1678, 'need': 2987, 'based': 404, 'definitely': 1162, 'although': 201, 'admit': 122, 'slightly': 4029, 'ultimately': 4628, 'bunch': 623, 'running': 3756, 'cgi': 740, 'computer': 927, 'graphic': 1958, 'period': 3236, 'setting': 3900, 'sure': 4308, 'usual': 4699, 'clichés': 846, 'cardboard': 682, 'make': 2713, 'decisions': 1152, 'selfish': 3870, 'heroic': 2090, 'victim': 4729, 'exists': 1573, 'eaten': 1412, 'easy': 1410, 'spot': 4131, 'predictable': 3367, 'silly': 3976, 'dull': 1384, 'entertain': 1497, 'level': 2584, 'move': 2921, 'decent': 1147, 'pace': 3161, 'theres': 4440, 'two': 4620, 'half': 2007, 'moments': 2887, 'plenty': 3307, 'holes': 2133, 'completely': 922, 'forgotten': 1797, 'commented': 900, 'features': 1680, 'usually': 4700, 'exactly': 1551, 'buck': 605, 'shots': 3950, 'alright': 198, 'ruined': 3751, 'awful': 372, 'straight': 4210, 'afterwards': 145, 'cut': 1089, 'heart': 2064, 'guys': 2001, 'leg': 2562, 'splatter': 4118, 'guy': 2000, 'holding': 2130, 'own': 3158, 'attacked': 338, 'dinosaur': 1255, 'bodies': 526, 'someone': 4064, 'park': 3190, 'supposedly': 4307, 'keeping': 2450, 'lower': 2677, 'mans': 2730, 'simply': 3986, 'supposed': 4306, 'budget': 610, 'money': 2888, 'went': 4847, 'apparently': 270, 'heard': 2062, 'unusual': 4681, 'premise': 3370, 'basic': 406, 'statement': 4162, 'basically': 407, 'decide': 1148, 'whether': 4866, 'enjoy': 1484, 'guess': 1989, 'camera': 659, 'angles': 237, 'face': 1616, 'feeling': 1685, 'missing': 2869, 'actions': 101, 'cannot': 670, 'anyway': 261, 'already': 197, 'confusion': 943, 'worse': 4951, 'visuals': 4759, 'handle': 2018, 'deep': 1154, 'trying': 4601, 'fails': 1628, 'painfully': 3172, 'attached': 336, 'worked': 4941, 'needed': 2988, 'minute': 2858, 'director': 1264, 'wonder': 4926, 'due': 1382, 'written': 4972, 'le': 2544, 'future': 1856, 'annoying': 249, 'interested': 2324, 'many': 2732, 'comments': 901, 'won': 4925, 'george': 1893, 'award': 366, 'paul': 3214, 'co': 867, 'writer': 4968, 'humanity': 2189, 'loss': 2659, 'technical': 4381, 'glass': 1917, 'house': 2178, 'available': 361, 'letter': 2581, 'telling': 4396, 'amazing': 209, 'thanks': 4423, 'view': 4736, 'please': 3304, 'stopped': 4202, 'didnt': 1242, 'enjoyed': 1486, 'seriously': 3892, 'sick': 3963, 'twisted': 4618, 'individual': 2277, 'reputation': 3640, 'normally': 3034, 'write': 4967, 'reviews': 3679, 'case': 707, 'ill': 2228, 'exception': 1557, 'wish': 4904, 'warned': 4798, 'hired': 2117, 'jesus': 2399, 'show': 3953, 'tortured': 4530, 'laughed': 2532, 'kind': 2476, 'attracted': 349, 'hollywood': 2137, 'version': 4720, 'took': 4523, 'attempting': 342, 'fill': 1714, 'seem': 3861, 'impossible': 2249, 'argue': 290, 'explained': 1587, 'main': 2707, 'driver': 1366, 'jewish': 2401, 'seemed': 3862, 'comment': 898, 'teenage': 4389, 'called': 652, 'mark': 2739, 'believed': 455, 'garden': 1872, 'whose': 4877, 'pulled': 3462, 'ran': 3513, 'naked': 2959, 'tried': 4584, 'spirit': 4113, 'expectations': 1576, 'official': 3094, 'sequel': 3885, 'fulci': 1845, 'however': 2183, 'zombies': 4998, 'resembles': 3646, 'hell': 2077, 'result': 3660, 'companion': 909, 'produced': 3414, 'editor': 1423, 'de': 1131, 'gave': 1875, 'magic': 2703, 'magical': 2704, 'without': 4913, 'grown': 1984, 'accept': 80, 'swear': 4334, 'soldier': 4053, 'arm': 292, 'hotel': 2175, 'room': 3735, 'senseless': 3878, 'fell': 1690, 'asleep': 320, '30': 42, 'jokes': 2415, 'corny': 997, 'fetched': 1698, 'points': 3319, 'ridiculous': 3693, '11': 2, 'older': 3101, 'overlook': 3153, 'disappointed': 1273, 'younger': 4990, 'capture': 676, 'attention': 345, 'amazed': 208, 'stunts': 4246, 'add': 115, 'warrior': 4802, 'casting': 711, 'disappointing': 1274, 'build': 614, 'tension': 4404, 'fit': 1740, 'scale': 3802, 'excellent': 1555, 'brenda': 575, 'song': 4071, 'talented': 4355, 'laughable': 2530, 'fighting': 1709, 'started': 4157, 'laughing': 2533, 'loud': 2664, 'enemy': 1477, 'villain': 4744, 'dark': 1115, 'incredibly': 2270, 'teachers': 4376, 'school': 3813, 'possessed': 3347, 'okay': 3099, 'youre': 4992, 'vaguely': 4706, 'once': 3106, 'actress': 105, 'mother': 2911, 'shown': 3959, 'bbc': 417, 'past': 3207, 'hand': 2015, 'producers': 3416, 'content': 966, 'mediocre': 2791, 'themes': 4434, 'mixed': 2877, 'together': 4511, 'nowhere': 3056, 'hide': 2097, 'danger': 1109, 'cross': 1066, 'suffering': 4277, 'pain': 3170, 'divorce': 1301, 'means': 2783, 'heroine': 2091, 'surviving': 4323, 'murder': 2939, 'attempt': 340, 'followed': 1773, 'having': 2054, 'sam': 3777, 'ask': 316, 'why': 4878, 'right': 3696, 'daddy': 1096, 'public': 3460, 'happen': 2026, 'cases': 708, 'feel': 1684, 'sorry': 4076, 'parents': 3188, 'thick': 4447, 'sympathy': 4343, 'unaware': 4632, 'stuff': 4243, 'down': 1335, 'toilet': 4512, 'drug': 1373, 'die': 1243, 'shoots': 3944, 'lucy': 2684, 'unfunny': 4655, 'innocent': 2294, 'ah': 158, 'strength': 4219, 'suddenly': 4273, 'expert': 1585, 'development': 1225, 'noticed': 3049, 'often': 3095, 'clothes': 860, 'drive': 1363, 'cars': 702, 'ride': 3692, '1950s': 14, 'twist': 4617, 'idiot': 2218, 'racism': 3502, 'rural': 3758, 'side': 3965, 'issue': 2364, '1960s': 15, 'dealt': 1138, 'artistic': 308, 'deals': 1137, 'friendship': 1838, 'tragedy': 4551, 'psychological': 3458, 'deeply': 1156, 'ending': 1471, 'witness': 4914, 'passing': 3204, 'deliver': 1169, 'secret': 3849, 'thoughts': 4464, 'dreams': 1355, 'fears': 1677, 'york': 4985, 'city': 825, 'handsome': 2021, 'joe': 2407, 'share': 3920, 'wild': 4885, 'fantasy': 1652, 'clean': 838, 'florida': 1761, 'becomes': 434, 'turn': 4605, 'reality': 3551, 'besides': 468, 'helps': 2082, 'whatever': 4859, 'food': 1778, 'destiny': 1212, 'progresses': 3426, 'realizes': 3554, 'fun': 1848, 'disease': 1285, 'bus': 631, 'always': 203, 'gives': 1914, 'melodrama': 2797, 'aspect': 321, 'bear': 420, 'inevitable': 2282, 'let': 2579, 'quality': 3484, 'rented': 3628, 'second': 3846, 'play': 3296, '3rd': 47, 'player': 3298, 'un': 4630, 'review': 3676, 'sarah': 3785, 'retarded': 3663, 'hoped': 2156, 'horrific': 2166, 'mgm': 2828, 'subject': 4253, 'cole': 873, 'news': 3005, 'spell': 4104, 'disaster': 1276, 'shooting': 3943, 'notorious': 3051, 'gangster': 1868, 'street': 4216, 'enjoyable': 1485, 'featuring': 1681, 'comic': 893, 'charles': 764, 'todays': 4509, 'viewers': 4739, 'james': 2378, 'stewart': 4184, 'assistant': 326, 'talking': 4360, 'somewhat': 4068, 'goofy': 1939, 'shows': 3960, 'star': 4150, 'overlooked': 3154, 'today': 4508, 'reel': 3581, 'subjects': 4254, 'useful': 4694, 'studios': 4241, 'training': 4558, 'talents': 4356, 'front': 1841, 'behind': 447, 'creating': 1039, 'successful': 4266, 'novel': 3052, 'produce': 3413, 'terms': 4406, 'capable': 672, 'portraying': 3343, 'wide': 4880, 'range': 3516, 'material': 2766, 'disneys': 1290, 'jim': 2402, 'morris': 2908, 'former': 1800, 'minor': 2857, 'league': 2549, 'sports': 4130, 'year': 4978, 'major': 2711, 'debut': 1143, '1999': 27, 'age': 148, '35': 45, 'opens': 3115, 'brief': 579, 'synopsis': 4344, 'childhood': 790, 'included': 2262, 'series': 3890, 're': 3535, 'locations': 2636, 'father': 1666, 'military': 2844, 'football': 1783, 'texas': 4418, 'passion': 3205, 'baseball': 403, 'strong': 4229, 'segment': 3867, 'jumps': 2432, 'ahead': 159, 'adult': 125, 'dennis': 1179, 'coach': 868, 'chemistry': 782, 'teacher': 4375, 'lake': 2509, 'mentioned': 2811, 'attempted': 341, 'career': 686, 'team': 4378, 'struggling': 4236, 'table': 4346, 'practice': 3363, 'express': 1600, 'speed': 4103, 'throws': 4482, 'agrees': 157, 'deal': 1135, 'players': 3299, 'bay': 416, 'devil': 1228, 'miles': 2843, 'hour': 2176, 'faster': 1662, 'threw': 4470, 'outstanding': 3147, 'offered': 3088, 'contract': 973, 'tough': 4537, 'comfortable': 892, 'spending': 4106, 'months': 2897, 'children': 792, 'signs': 3973, 'season': 3843, 'winds': 4895, 'chances': 748, 'getting': 1901, 'increasingly': 2268, 'lots': 2662, 'likable': 2598, 'pulling': 3463, 'professional': 3421, 'tight': 4492, 'distant': 1295, 'achieve': 92, 'flaws': 1752, 'things': 4451, 'check': 777, 'closer': 856, 'examples': 1554, 'except': 1556, 'christian': 808, 'faith': 1633, 'considering': 952, 'wing': 4896, 'surprising': 4315, 'presumably': 3380, 'dramatic': 1348, '20': 29, 'documentary': 1307, 'information': 2288, 'birth': 486, 'until': 4680, '12': 3, '14': 6, 'initial': 2290, 'ended': 1470, 'lost': 2660, 'throwing': 4480, 'appreciate': 279, 'dvds': 1392, 'aforementioned': 139, 'link': 2613, 'read': 3543, 'titled': 4505, 'havent': 2053, 'book': 535, 'overall': 3150, 'portrayal': 3341, 'powerful': 3360, 'testament': 4417, 'power': 3359, 'triumph': 4590, 'common': 906, 'truly': 4597, 'concept': 930, 'frightening': 1839, 'unbearable': 4633, 'heat': 2067, 'resources': 3651, 'society': 4050, 'heston': 2094, 'style': 4249, 'detective': 1220, 'truth': 4599, 'opposite': 3123, 'noir': 3023, 'legend': 2564, 'edward': 1426, 'robinson': 3716, 'turning': 4608, 'fine': 1729, 'last': 2521, 'images': 2235, 'masses': 2755, 'hop': 2154, 'uses': 4697, 'worthy': 4956, 'contains': 964, 'score': 3822, 'opening': 3114, 'subsequent': 4257, 'apartment': 265, 'especially': 1520, 'pieces': 3273, 'atmospheric': 334, 'mix': 2876, 'empire': 1464, 'mate': 2765, 'sucked': 4270, 'writers': 4969, 'problems': 3409, 'convincing': 985, 'rose': 3739, 'gandhi': 1866, 'peoples': 3222, 'ensemble': 1492, 'aside': 315, 'reasonably': 3559, 'easily': 1406, 'suppose': 4305, 'wounded': 4961, 'human': 2188, 'ok': 3098, 'angle': 236, 'unlike': 4670, 'recent': 3566, 'standards': 4145, 'lady': 2507, 'late': 2523, 'center': 732, 'stage': 4139, 'pure': 3471, 'camp': 662, 'offended': 3085, 'female': 1693, 'gay': 1876, 'broad': 590, 'represented': 3638, 'day': 1129, 'wonderful': 4928, 'mundane': 2938, 'dan': 1102, 'careers': 687, 'mr': 2929, 'sinatra': 3989, 'musical': 2947, 'wait': 4770, 'friends': 1837, 'elaborate': 1439, 'streisand': 4218, 'television': 4394, 'disc': 1278, 'eager': 1396, 'impress': 2250, 'succeeds': 4264, 'brilliantly': 584, 'key': 2458, 'signed': 3971, 'term': 4405, 'variety': 4714, 'format': 1799, 'nowadays': 3055, 'broadcast': 591, 'april': 284, 'limited': 2606, 'handful': 2017, 'selling': 3873, 'appearances': 275, 'talk': 4358, 'broadway': 592, 'filmed': 1717, 'program': 3424, 'distinct': 1296, 'creative': 1041, 'alice': 182, 'cleverly': 842, 'growing': 1983, 'numbers': 3061, 'believe': 454, 'pearl': 3220, 'singing': 3995, 'depression': 1189, 'era': 1513, 'songs': 4072, 'free': 1827, 'irony': 2357, 'third': 4455, 'concert': 935, 'sun': 4292, 'includes': 2263, 'ends': 1474, 'classic': 835, 'happy': 2032, 'credits': 1050, 'introduction': 2339, 'genuine': 1891, 'eye': 1611, 'ironic': 2355, 'zombie': 4997, 'related': 3594, 'media': 2789, 'flesh': 1753, 'eating': 1413, 'cash': 709, 'falls': 1640, 'category': 718, 'joke': 2414, 'walking': 4779, 'alternate': 200, 'wake': 4774, 'creatures': 1046, 'loses': 2657, 'soundtrack': 4085, 'tunes': 4603, 'constantly': 958, 'otherwise': 3137, 'inspired': 2301, 'apparent': 269, 'resemblance': 3645, 'open': 3112, 'earth': 1403, 'superior': 4300, 'pop': 3330, 'culture': 1079, 'types': 4622, 'difficult': 1249, 'develop': 1222, 'emotional': 1459, 'thrown': 4481, 'helen': 2075, 'bill': 481, 'loves': 2674, 'haunted': 2050, 'remain': 3609, 'dimensional': 1253, 'billy': 482, 'tradition': 4549, 'karloff': 2445, 'green': 1971, 'speak': 4094, 'bits': 490, 'paranoia': 3186, 'et': 1526, 'stick': 4185, 'unfortunately': 4654, 'seeing': 3857, 'poster': 3353, 'romantic': 3733, 'personally': 3243, 'itself': 2371, 'marketing': 2741, 'cinema': 816, 'felt': 1692, 'superficial': 4298, 'sequence': 3887, 'sidney': 3968, 'plane': 3288, 'ticket': 4487, 'asked': 317, 'meaning': 2780, 'sign': 3970, 'believes': 456, 'awards': 367, 'celebrity': 729, 'climax': 849, 'above': 68, 'offers': 3090, 'solution': 4059, 'attitude': 346, 'become': 433, 'anybody': 257, 'beginning': 443, 'stars': 4155, 'perfection': 3225, 'happiness': 2031, 'less': 2575, 'religion': 3607, 'ideal': 2214, 'models': 2881, 'behave': 445, 'died': 1244, 'looked': 2647, 'wouldnt': 4958, 'create': 1036, 'desperately': 1209, 'regard': 3588, 'measure': 2786, 'ourselves': 3140, 'larger': 2519, 'expected': 1577, 'mst3k': 2932, 'episode': 1507, 'combine': 884, 'elements': 1443, 'sacrifice': 3766, 'others': 3136, 'expecting': 1578, 'call': 651, 'lee': 2559, 'clue': 864, 'gas': 1874, 'abandoned': 62, 'close': 853, 'keep': 2449, 'race': 3499, 'car': 680, 'developed': 1223, 'critical': 1062, 'fisher': 1739, 'breath': 573, 'fan': 1648, 'denzel': 1181, 'washington': 4806, 'skill': 4013, 'persona': 3239, 'honest': 2146, 'hasnt': 2044, 'guide': 1993, 'sensitive': 3879, 'abuse': 74, 'directorial': 1265, 'successfully': 4267, 'present': 3374, 'promise': 3430, 'connected': 945, 'audiences': 353, 'viewer': 4738, 'dry': 1377, 'theatre': 4429, 'proved': 3446, 'presented': 3376, 'filmmaker': 1719, 'convincingly': 986, 'experienced': 1581, 'further': 1853, 'audience': 352, 'cause': 723, 'emotionally': 1460, 'pity': 3281, 'purple': 3473, 'derek': 1192, 'luke': 2687, 'joy': 2422, 'storyline': 4208, 'gruesome': 1986, 'remember': 3616, 'settle': 3902, 'party': 3200, 'average': 362, 'itll': 2369, 'later': 2525, 'kate': 2446, 'london': 2641, 'underground': 4640, 'middle': 2833, 'shes': 3930, 'next': 3007, 'train': 4556, 'decides': 1150, 'typically': 4624, 'misses': 2868, 'herself': 2092, 'locked': 2637, 'alone': 194, 'carries': 699, 'guts': 1999, 'certain': 737, 'shall': 3916, 'mention': 2810, 'type': 4621, 'weird': 4841, 'psycho': 3457, 'creep': 1051, 'id': 2212, 'massacre': 2754, 'scream': 3826, 'satisfy': 3790, 'needs': 2990, 'showed': 3956, 'disagree': 1269, 'asks': 319, 'rate': 3526, 'consider': 949, 'courage': 1018, 'notable': 3041, 'brothers': 599, 'split': 4120, 'continue': 969, 'brave': 567, 'knowing': 2490, 'safety': 3772, 'judge': 2424, 'save': 3794, 'mine': 2853, 'answer': 251, 'class': 833, 'filming': 1718, 'created': 1037, 'emotion': 1458, 'kung': 2498, 'fu': 1844, 'junk': 2436, 'romance': 3732, 'cute': 1090, 'sneak': 4043, 'blatant': 502, 'screens': 3832, 'substance': 4258, 'record': 3573, 'america': 212, 'spoke': 4125, 'tribute': 4581, 'unreal': 4676, 'godfather': 1927, 'forever': 1792, 'questions': 3489, 'liked': 2600, 'hitchcock': 2123, 'thriller': 4472, 'understood': 4647, 'laughs': 2534, 'rachel': 3500, 'murphy': 2944, 'batman': 413, 'suspect': 4327, 'agents': 151, 'stylish': 4251, 'dialog': 1232, 'used': 4693, 'red': 3576, 'closing': 859, 'rolling': 3730, 'spoilers': 4124, 'historical': 2119, 'questionable': 3488, 'mass': 2753, 'appeal': 271, 'provide': 3448, 'pleased': 3305, 'roman': 3731, 'properly': 3437, 'fortunately': 1805, 'philosophy': 3254, 'starting': 4158, 'wedding': 4836, 'scheme': 3812, 'involves': 2348, 'flash': 1745, 'relationship': 3597, 'personality': 3242, 'advertising': 132, 'environment': 1505, 'stress': 4220, 'atmosphere': 333, 'involved': 2346, 'losing': 2658, 'sharp': 3922, 'chosen': 805, 'positive': 3346, 'surprise': 4312, 'unexpected': 4650, '1984': 23, 'dickens': 1240, 'carol': 693, 'scrooge': 3837, 'challenge': 743, 'familiar': 1643, 'fresh': 1833, 'happily': 2030, 'met': 2822, 'detail': 1217, 'fiction': 1702, 'achieved': 93, 'honesty': 2148, 'role': 3726, 'youve': 4995, 'gifted': 1907, 'able': 66, 'figure': 1711, 'trade': 4547, 'finest': 1730, 'ring': 3698, 'true': 4596, 'splendid': 4119, 'order': 3126, 'maintain': 2710, 'integrity': 2311, 'frank': 1821, 'ghost': 1902, 'memorable': 2802, 'angela': 232, 'welcome': 4842, 'grand': 1953, 'altogether': 202, 'carter': 703, 'grim': 1974, 'menacing': 2807, 'david': 1124, 'warner': 4799, 'hits': 2125, 'bob': 524, 'bringing': 586, 'mrs': 2930, 'gem': 1877, 'found': 1811, 'anthony': 253, 'tiny': 4500, 'tim': 4494, 'becoming': 435, 'supporting': 4304, 'roger': 3724, 'narrator': 2967, 'flawless': 1751, 'presentation': 3375, 'sets': 3899, 'versions': 4721, 'whenever': 4863, 'image': 2233, 'thoroughly': 4459, 'entertaining': 1499, 'satisfying': 3791, 'demands': 1175, 'holiday': 2134, 'follows': 1775, 'project': 3427, 'boxing': 556, 'self': 3869, 'technically': 4382, 'chick': 786, 'rocky': 3723, 'drama': 1346, 'connect': 944, '90s': 61, '50s': 52, 'bloody': 513, '40': 48, 'tend': 4400, 'road': 3709, 'simple': 3983, 'rule': 3753, 'keeps': 2451, 'ward': 4793, 'ass': 323, 'existence': 1571, 'crack': 1027, 'ho': 2127, 'sexy': 3911, 'drag': 1342, 'greatly': 1967, 'revenge': 3675, 'twin': 4615, 'connection': 946, 'lousy': 2667, 'laura': 2536, 'ashley': 313, 'twins': 4616, 'abusive': 75, 'favor': 1670, 'blame': 499, 'girls': 1911, 'apart': 264, 'directions': 1262, 'meets': 2795, 'barry': 401, 'married': 2744, 'track': 4544, 'kept': 2456, 'resolution': 3649, 'higher': 2101, 'portray': 3340, 'carl': 692, 'angry': 238, 'al': 170, 'theory': 4437, 'global': 1920, 'warming': 4795, 'oil': 3097, 'everyone': 1542, 'science': 3816, 'ideas': 2215, 'rich': 3685, 'told': 4513, 'according': 88, 'whos': 4876, 'reasons': 3560, 'superman': 4301, 'needless': 2989, '15': 7, 'engaged': 1480, 'pleasantly': 3303, 'surprised': 4313, 'shut': 3961, 'clark': 832, 'longer': 2645, 'operation': 3117, 'appropriate': 283, 'mile': 2842, 'core': 995, 'simplistic': 3985, 'realism': 3549, 'lead': 2545, 'served': 3894, 'ii': 2226, 'moral': 2902, 'americans': 214, 'manner': 2729, 'lynch': 2691, 'mob': 2879, 'hunting': 2201, 'nazis': 2978, 'underlying': 4641, 'upper': 4685, 'hollow': 2135, 'exist': 1569, 'golden': 1934, 'paced': 3162, 'bit': 488, 'creepy': 1052, 'nicely': 3009, 'odd': 3080, 'behavior': 446, 'intelligent': 2314, 'fair': 1630, 'expect': 1575, 'impressed': 2251, 'jeff': 2390, 'walter': 4784, 'reed': 3580, 'sitcom': 4004, 'bizarre': 492, 'fictional': 1703, 'village': 4743, 'built': 618, 'visit': 4755, 'shop': 3945, 'enters': 1496, 'dancing': 1107, 'hates': 2048, 'loose': 2650, 'interview': 2329, 'allow': 189, 'barbara': 397, 'taxi': 4371, 'furthermore': 1854, 'kills': 2474, 'farm': 1656, 'sitting': 4007, 'dog': 1310, 'outside': 3146, 'door': 1328, 'friend': 1835, 'killed': 2469, 'colour': 880, 'stands': 4147, 'costumes': 1006, 'suited': 4286, 'wearing': 4831, 'teeth': 4393, 'humour': 2194, 'british': 589, 'houses': 2180, 'grey': 1973, 'threatening': 4468, 'taste': 4369, 'page': 3167, 'quotes': 3497, 'proper': 3436, 'board': 522, 'em': 1452, 'added': 116, 'unnecessary': 4672, 'gene': 1879, 'kelly': 2452, 'pal': 3177, 'joey': 2408, 'decided': 1149, 'sophisticated': 4075, 'shoes': 3941, 'roles': 3727, 'alan': 171, 'jay': 2386, 'paris': 3189, 'chance': 747, 'rights': 3697, 'wreck': 4965, 'suitable': 4285, 'changes': 751, 'complain': 919, 'pictures': 3270, 'education': 1424, 'prove': 3445, 'miss': 2866, 'clearly': 840, 'designed': 1203, 'artist': 307, 'interest': 2323, 'structure': 4233, 'refuses': 3587, 'enthusiasm': 1501, 'start': 4156, 'serves': 3895, 'same': 3778, 'essential': 1522, 'deserve': 1199, 'compare': 911, 'forced': 1787, 'cary': 706, 'grant': 1956, 'pride': 3391, 'dance': 1103, 'finale': 1723, 'beneath': 464, 'surface': 4310, 'symbolism': 4341, 'relate': 3593, 'finding': 1727, 'enjoying': 1487, 'gone': 1935, 'movements': 2924, 'constructed': 959, 'separate': 3883, 'relationships': 3598, 'fault': 1668, 'load': 2631, 'crap': 1031, 'totally': 4532, 'remotely': 3623, 'nor': 3032, 'terrifying': 4410, 'utterly': 4702, 'amateurish': 207, 'laid': 2508, 'faced': 1617, 'moving': 2928, 'funnier': 1850, 'doll': 1313, 'waste': 4808, 'company': 910, 'themselves': 4435, 'pair': 3176, 'clumsy': 866, 'trio': 4587, 'heroes': 2089, 'producer': 3415, 'studio': 4240, 'settings': 3901, 'toward': 4539, '1930s': 11, 'improved': 2255, 'upon': 4684, 'fight': 1707, 'appears': 278, 'slight': 4027, 'circumstances': 822, 'perform': 3227, 'robert': 3713, 'hill': 2108, 'lloyd': 2630, 'june': 2433, '60': 53, 'forty': 1807, 'bands': 392, 'fights': 1710, 'foul': 1810, 'ups': 4686, 'rotten': 3740, 'drunk': 1375, 'fans': 1650, 'worth': 4953, 'damn': 1100, 'birds': 485, '70s': 56, 'catchy': 717, 'drawn': 1351, 'outrageous': 3145, 'wed': 4835, 'learn': 2550, 'mystery': 2956, 'youll': 4988, 'reminds': 3620, 'miller': 2846, 'react': 3540, 'potential': 3355, 'amount': 219, 'sucks': 4271, 'incompetent': 2266, 'random': 3514, 'poetic': 3313, 'trailer': 4554, 'buildings': 616, 'cat': 713, 'technique': 4383, 'light': 2595, 'hip': 2114, 'smart': 4035, 'scarecrow': 3804, 'ear': 1397, 'hot': 2174, 'curious': 1083, 'source': 4086, 'worthwhile': 4955, 'morality': 2903, 'storytelling': 4209, 'thankfully': 4422, 'overcome': 3151, 'ironically': 2356, 'cutting': 1092, 'edge': 1418, 'occasionally': 3075, 'lacking': 2504, 'international': 2326, 'shock': 3938, 'value': 4709, 'alcoholic': 177, 'club': 863, 'attractive': 351, 'boyfriend': 558, 'dutch': 1389, 'plan': 3287, 'discovered': 1280, 'previous': 3387, 'husbands': 2205, 'perfectly': 3226, 'gross': 1978, 'cup': 1080, 'tea': 4373, 'bed': 436, 'shirt': 3937, 'lovely': 2671, 'ensues': 1493, 'homosexual': 2145, 'freddy': 1826, '16': 8, 'knew': 2486, 'sounded': 4082, 'phantom': 3251, 'vacation': 4704, 'punk': 3468, 'ramones': 3512, 'appear': 273, 'roll': 3728, 'favorite': 1671, 'band': 391, 'students': 4239, 'join': 2412, 'antics': 255, 'meanwhile': 2785, 'brand': 565, 'principal': 3398, 'ms': 2931, 'tall': 4362, 'report': 3635, 'determined': 1221, 'clever': 841, 'ways': 4822, 'kudos': 2497, 'superb': 4296, 'mary': 2751, 'legendary': 2565, 'clint': 850, 'howard': 2182, 'sees': 3866, 'terrific': 4409, 'literally': 2622, 'brought': 600, 'wonderfully': 4929, 'thrilling': 4474, 'aliens': 184, 'fantastic': 1651, 'dawn': 1127, 'generated': 1882, 'industry': 2280, 'amounts': 220, 'jump': 2429, 'overly': 3155, 'sake': 3775, 'majority': 2712, 'argument': 291, 'titanic': 4503, 'gorgeous': 1942, 'hills': 2109, 'wooden': 4934, 'tree': 4576, 'meant': 2784, 'falling': 1639, 'ship': 3934, 'hitting': 2126, 'false': 1641, 'dire': 1257, 'tedious': 4387, 'pathetic': 3210, 'plight': 3308, 'glad': 1916, 'picture': 3269, 'mtv': 2933, 'chasing': 772, 'member': 2800, 'hoping': 2160, 'lucky': 2683, 'celluloid': 731, 'cost': 1003, 'steve': 4181, 'glory': 1922, 'arrived': 301, 'academy': 77, 'silence': 3974, 'fatal': 1664, 'evening': 1534, 'farce': 1654, 'fortune': 1806, 'sentimental': 3882, 'rubbish': 3748, 'ripped': 3701, 'luck': 2681, 'list': 2617, 'countless': 1012, 'follow': 1772, 'failed': 1626, 'inspiring': 2302, 'central': 735, 'putting': 3482, 'turned': 4606, 'mill': 2845, '50': 51, 'foot': 1781, 'teenager': 4390, 'stomach': 4196, 'drop': 1369, 'tour': 4538, 'force': 1786, 'forest': 1791, 'hair': 2005, 'bag': 384, 'crowd': 1067, 'scares': 3806, 'bore': 540, 'similar': 3978, 'lifetime': 2594, 'universe': 4666, 'formula': 1802, 'hundreds': 2196, 'originality': 3130, 'minimal': 2855, 'conflicts': 940, 'melodramatic': 2798, 'theatrical': 4430, 'release': 3602, 'comedies': 889, 'mom': 2885, 'scripted': 3835, 'utter': 4701, 'genius': 1887, 'boredom': 542, 'boring': 543, 'stock': 4193, 'market': 2740, 'crash': 1033, 'following': 1774, 'american': 213, 'theater': 4427, 'blow': 514, 'business': 633, 'personal': 3240, 'cagney': 646, 'relevant': 3604, 'theaters': 4428, 'display': 1291, 'dancer': 1104, 'musicals': 2948, 'barely': 399, 'bothered': 549, 'wished': 4905, 'hed': 2072, 'logic': 2638, 'dick': 1239, 'powell': 3358, 'sing': 3992, 'moon': 2900, 'ruby': 3749, 'sings': 3997, 'dances': 1106, 'number': 3060, 'joan': 2404, 'nonsense': 3030, 'friday': 1834, 'blonde': 511, 'brains': 563, 'duo': 1386, 'quick': 3490, 'thinking': 4453, 'domestic': 1318, 'dorothy': 1330, 'ann': 244, 'chorus': 803, 'per': 3223, 'pages': 3168, 'western': 4853, 'wayne': 4821, 'whats': 4860, 'clip': 851, 'surreal': 4317, 'issues': 2365, 'lets': 2580, 'fare': 1655, 'weve': 4856, 'private': 3404, 'wives': 4918, 'remake': 3612, 'loved': 2670, 'happens': 2029, 'smile': 4036, 'remind': 3618, 'lovable': 2668, 'scientist': 3818, 'carradine': 695, 'faces': 1618, 'leads': 2548, '1940s': 13, 'scared': 3805, 'kid': 2464, 'struggle': 4234, 'awake': 365, 'hopeless': 2158, 'mildly': 2840, 'involving': 2349, 'early': 1400, 'tom': 4514, 'cruise': 1071, 'girlfriend': 1910, 'painting': 3175, 'paint': 3173, 'mess': 2818, 'mentions': 2813, 'sky': 4017, 'hint': 2112, 'requires': 3642, 'mistake': 2871, 'analysis': 224, 'notch': 3043, 'unique': 4662, 'intelligence': 2313, 'philosophical': 3253, 'challenging': 744, 'prefer': 3368, 'skip': 4016, 'described': 1195, 'surely': 4309, 'fascinated': 1657, 'garbage': 1870, 'interviews': 2330, 'professor': 3422, 'creator': 1043, 'community': 908, 'surprisingly': 4316, 'excitement': 1562, 'particular': 3194, 'delivers': 1172, 'stupidity': 4248, 'exciting': 1563, 'empathy': 1462, 'regret': 3591, 'wasted': 4809, 'conventional': 979, 'italian': 2367, 'seven': 3903, 'judging': 2425, 'talent': 4354, 'somebody': 4062, 'forgot': 1796, 'total': 4531, 'catherine': 719, 'exceptionally': 1559, 'everybody': 1540, 'cold': 872, 'coming': 896, 'drink': 1361, 'fascinating': 1658, 'sympathetic': 4342, 'forget': 1793, 'disgusting': 1286, 'notion': 3050, 'unfortunate': 4653, 'trite': 4589, 'mothers': 2912, 'portion': 3338, 'travel': 4567, 'credit': 1049, 'impact': 2244, 'believable': 453, 'model': 2880, 'situation': 4008, 'messed': 2821, 'cuts': 1091, 'demented': 1176, 'gotten': 1947, '17': 9, 'fairly': 1631, 'carrey': 696, 'vehicle': 4718, 'reporter': 3636, 'ground': 1979, 'jennifer': 2392, 'charming': 768, 'extreme': 1609, 'morgan': 2905, 'freeman': 1829, 'catching': 716, 'underrated': 4642, 'goldberg': 1933, 'puts': 3481, 'hung': 2197, 'tag': 4348, 'childrens': 793, 'adults': 126, 'miike': 2837, 'genre': 1888, 'territory': 4411, 'hero': 2088, 'festival': 1697, 'discover': 1279, 'imagined': 2239, 'japanese': 2382, 'lose': 2654, 'wants': 4791, 'destroy': 1213, 'demon': 1177, 'colorful': 878, 'spirits': 4115, 'ten': 4399, 'robots': 3718, 'arms': 294, 'burning': 627, 'game': 1864, 'dr': 1340, 'performing': 3233, 'essentially': 1523, 'mad': 2696, 'murderous': 2942, 'soul': 4079, 'count': 1010, 'normal': 3033, 'desire': 1205, 'lay': 2542, 'villains': 4745, 'invasion': 2340, 'unable': 4631, 'youth': 4994, 'leaving': 2557, 'horrors': 2169, 'caused': 724, 'object': 3066, 'machines': 2694, 'games': 1865, 'scripts': 3836, 'sometimes': 4067, 'visual': 4757, 'focused': 1767, 'mostly': 2910, 'animation': 242, 'costume': 1005, 'remarkably': 3614, 'beaten': 424, 'born': 544, 'dies': 1245, 'neck': 2985, 'memory': 2804, 'touching': 4536, 'fairy': 1632, 'tales': 4357, 'engaging': 1481, 'absurd': 73, 'humor': 2192, 'nostalgia': 3038, 'latter': 2528, 'group': 1980, 'asking': 318, 'instant': 2305, 'bored': 541, 'mild': 2839, 'titles': 4506, 'learning': 2552, 'frankly': 1823, 'irish': 2353, 'stereotypical': 4180, 'hopes': 2159, 'aimed': 162, 'switch': 4339, 'summary': 4290, 'fool': 1779, 'shouldnt': 3952, 'describe': 1194, 'spider': 4109, 'island': 2361, 'health': 2060, 'stories': 4205, 'possibility': 3349, 'creation': 1040, 'responsible': 3656, 'terry': 4415, 'forth': 1804, 'twelve': 4611, 'monkeys': 2891, 'cities': 823, 'madness': 2698, 'corner': 996, 'twists': 4619, 'viewings': 4741, 'tragic': 4552, 'event': 1535, 'deadly': 1133, 'virus': 4752, 'onto': 3111, '1996': 26, 'led': 2558, 'scientists': 3819, 'bruce': 602, 'willis': 4890, 'hints': 2113, 'mission': 2870, 'constant': 957, 'mental': 2808, '1990': 24, 'jeffrey': 2391, 'brad': 560, 'pitt': 3280, 'oscar': 3133, 'nominated': 3025, 'doom': 1326, 'destruction': 1216, 'pushing': 3479, 'reactions': 3542, 'insane': 2296, 'continues': 971, 'screaming': 3827, 'headed': 2058, 'escaped': 1518, 'greater': 1965, 'trick': 4582, 'masterful': 2758, 'alfred': 181, 'masterpiece': 2759, 'judy': 2426, 'notice': 3048, 'hiding': 2099, 'eva': 1531, 'maria': 2736, 'north': 3036, 'dressed': 1358, 'names': 2963, 'blond': 510, 'calls': 654, 'simmons': 3981, 'helping': 2081, 'twice': 4613, 'surprises': 4314, 'whereas': 4865, 'confused': 941, 'neighborhood': 2993, 'books': 536, 'heck': 2071, 'watches': 4814, 'terror': 4412, 'knock': 2488, 'proceeds': 3411, 'break': 569, 'stuck': 4237, 'manages': 2725, 'basement': 405, 'bedroom': 437, 'throat': 4476, 'yeah': 4977, 'brother': 598, 'tune': 4602, 'runs': 3757, 'van': 4713, 'lame': 2510, '2003': 33, 'cover': 1022, 'claims': 830, 'secondly': 3847, 'weak': 4824, 'essence': 1521, 'doctor': 1304, 'hospital': 2172, 'souls': 4080, 'tense': 4403, 'sad': 3767, 'racist': 3503, 'overwhelming': 3157, 'fall': 1637, 'addition': 118, 'sound': 4081, 'emphasis': 1463, 'proud': 3444, 'financial': 1725, 'spoken': 4126, 'lawyer': 2541, 'obsession': 3070, 'greed': 1968, 'nation': 2969, 'gonna': 1936, 'eastern': 1408, 'europe': 1529, 'paying': 3217, 'passed': 3202, 'feelings': 1686, 'narrative': 2966, 'techniques': 4384, 'consistent': 953, 'rarely': 3524, 'care': 684, 'screening': 3830, 'walk': 4775, 'slowly': 4032, 'disappear': 1270, 'ordinary': 3128, 'drugs': 1374, 'entirely': 1503, 'merit': 2816, 'william': 4887, 'thin': 4449, 'excited': 1561, 'possibly': 3351, 'funniest': 1851, 'immediately': 2242, 'bought': 552, 'september': 3884, 'element': 1442, 'racial': 3501, 'critics': 1064, 'remains': 3611, 'sweet': 4336, 'entire': 1502, 'succeed': 4262, 'brutal': 603, 'ladies': 2506, 'chest': 784, 'mid': 2832, 'filled': 1715, 'laughter': 2535, 'office': 3091, 'shallow': 3917, 'boys': 559, 'aged': 149, 'anymore': 258, 'arrive': 300, 'sorts': 4078, 'tone': 4517, 'oddly': 3081, 'considerable': 950, 'nudity': 3059, 'situations': 4009, 'actresses': 106, 'accidentally': 85, 'male': 2719, 'sullivan': 4288, 'lying': 2690, 'carry': 700, 'hat': 2045, 'marks': 2742, 'roberts': 3714, 'relief': 3605, 'costs': 1004, 'bomb': 531, '2006': 36, 'la': 2500, 'pg': 3250, '13': 4, 'crude': 1069, 'nonetheless': 3029, 'irritating': 2359, 'overrated': 3156, 'practically': 3362, 'degree': 1164, 'saturday': 3792, 'raised': 3508, 'mexican': 2826, 'lord': 2652, 'cook': 988, 'prize': 3405, 'caring': 691, 'hollywoods': 2138, 'teen': 4388, 'general': 1880, 'teenagers': 4391, 'mouse': 2919, 'floor': 1759, 'proves': 3447, 'hilarious': 2106, 'worthless': 4954, 'paper': 3183, 'bumbling': 622, 'partner': 3198, 'effective': 1429, 'blacks': 494, 'adorable': 124, 'sub': 4252, 'par': 3184, 'stretched': 4222, 'moronic': 2907, 'bright': 581, 'entertained': 1498, 'hysterical': 2208, 'focuses': 1768, 'experiences': 1582, 'feels': 1687, 'cheating': 776, 'pay': 3216, 'pass': 3201, 'complete': 921, 'oliver': 3102, 'pacino': 3164, 'tony': 4521, 'montana': 2895, 'kingdom': 2480, 'crime': 1055, 'harsh': 2040, 'unpleasant': 4674, 'seat': 3845, 'ruthless': 3764, 'michelle': 2830, 'steven': 4182, 'elizabeth': 1445, 'abraham': 69, 'angel': 231, 'generation': 1883, 'walked': 4776, 'killing': 2472, 'rob': 3710, 'roy': 3745, 'bone': 533, 'chilling': 794, 'winters': 4901, 'recently': 3567, 'scottish': 3825, 'folk': 1770, 'facts': 1624, 'sell': 3871, 'large': 2517, 'failing': 1627, 'suffers': 4278, 'rape': 3521, 'immensely': 2243, 'conclusion': 936, 'specifically': 4100, 'beast': 422, 'jessica': 2398, 'somehow': 4063, 'wicked': 4879, 'stellar': 4174, 'scenery': 3810, 'highly': 2105, 'richards': 3687, 'brooks': 596, 'homeless': 2143, 'violence': 4747, 'streets': 4217, 'meet': 2793, 'difference': 1246, 'nail': 2957, 'flicks': 1755, 'absolute': 71, 'similarities': 3979, 'intentionally': 2320, 'witnessed': 4915, 'sloppy': 4030, 'downright': 1337, 'flies': 1756, 'obviously': 3072, 'string': 4227, 'heads': 2059, 'air': 164, 'law': 2538, 'rent': 3626, 'ireland': 2352, 'perspective': 3245, 'seasons': 3844, 'canadian': 667, 'pilot': 3276, 'hooked': 2153, 'rated': 3527, 'stephen': 4176, 'purchased': 3470, 'equally': 1510, 'purchase': 3469, 'flawed': 1750, 'tarzan': 4367, 'suggest': 4280, 'photography': 3260, 'imaginative': 2237, 'qualities': 3483, 'delightful': 1168, 'jungle': 2434, 'johnny': 2410, 'edgar': 1417, 'loyal': 2679, 'jane': 2380, 'parker': 3191, 'novels': 3053, 'lively': 2627, 'fabulous': 1615, 'remote': 3622, 'allows': 192, 'searching': 3842, 'civilization': 827, 'harry': 2039, 'protect': 3443, 'hunt': 2198, 'minds': 2852, 'dying': 1393, 'elephant': 1444, 'area': 286, 'savage': 3793, 'spectacular': 4101, 'saves': 3796, 'wizard': 4919, 'neil': 2995, 'hamilton': 2012, 'reveals': 3673, 'harvey': 2042, 'round': 3742, 'realized': 3553, 'recommended': 3572, 'twilight': 4614, 'zone': 4999, 'trek': 4578, 'devoted': 1231, 'lovers': 2673, 'winner': 4897, 'episodes': 1508, 'ratings': 3530, 'sides': 3967, 'wandering': 4785, 'unconvincing': 4638, 'directs': 1267, 'suspense': 4330, 'earned': 1401, 'ruth': 3763, 'gordon': 1940, 'identity': 2217, 'treatment': 4574, 'everyday': 1541, 'method': 2824, 'primary': 3394, 'concern': 931, 'struggles': 4235, 'represents': 3639, 'buried': 624, 'inspiration': 2300, 'states': 4163, 'marriage': 2743, 'union': 4661, 'traditional': 4550, 'protagonists': 3442, 'significant': 3972, 'protagonist': 3441, 'freak': 1824, 'knowledge': 2491, 'worry': 4950, 'intriguing': 2335, 'police': 3322, 'pleasant': 3302, 'target': 4366, 'developing': 1224, 'picked': 3266, 'section': 3853, 'naive': 2958, 'realize': 3552, 'parent': 3187, 'associated': 327, 'sexuality': 3909, 'provides': 3450, 'conflict': 939, 'grew': 1972, 'realizing': 3555, 'brain': 562, 'ultra': 4629, 'super': 4295, 'unbelievable': 4634, 'cult': 1077, 'status': 4165, 'ed': 1415, 'woods': 4935, 'citizen': 824, 'kane': 2442, 'wars': 4804, 'johnson': 2411, 'incredible': 2269, 'glorious': 1921, 'price': 3389, 'saga': 3773, 'indian': 2274, 'chief': 788, 'beat': 423, 'hang': 2022, 'inside': 2297, 'spin': 4112, 'noise': 3024, 'crush': 1072, 'hammer': 2014, 'realistic': 3550, 'support': 4303, 'insight': 2298, 'planning': 3291, 'appealing': 272, 'imagination': 2236, 'facing': 1620, 'unknown': 4668, 'animated': 241, 'poetry': 3314, 'quest': 3486, 'master': 2757, 'centers': 734, 'equivalent': 1512, 'east': 1407, 'seeks': 3860, 'darkness': 1117, 'uncle': 4636, 'outer': 3143, 'dragon': 1344, 'creators': 1044, 'west': 4852, 'defined': 1160, 'monk': 2889, 'pet': 3246, 'convey': 982, 'dramas': 1347, 'united': 4664, 'nations': 2971, 'universal': 4665, 'magnificent': 2705, 'adapted': 114, 'russian': 3762, 'icon': 2211, 'profound': 3423, 'cartoon': 704, 'alike': 185, 'bourne': 554, '2007': 37, 'installment': 2303, 'heres': 2087, 'jason': 2383, 'damon': 1101, 'summer': 4291, 'matt': 2768, 'date': 1118, 'troubled': 4593, 'loving': 2675, 'gift': 1906, 'wrapped': 4964, 'trilogy': 4586, 'thrillers': 4473, 'gratuitous': 1961, 'witty': 4917, 'merely': 2815, 'branagh': 564, 'philip': 3252, 'multiple': 2936, 'succeeded': 4263, 'effectively': 1430, 'consistently': 954, 'commercial': 902, 'reminded': 3619, 'sheer': 3925, 'weight': 4840, 'directors': 1266, '1970s': 17, 'masterpieces': 2760, 'genres': 1889, 'strike': 4224, 'meaningful': 2781, 'soft': 4051, 'choices': 798, 'chicago': 785, 'accents': 79, 'southern': 4088, 'pre': 3365, 'yelling': 4980, 'torn': 4528, 'albert': 174, 'station': 4164, 'robbins': 3712, 'ryan': 3765, 'considered': 951, 'university': 4667, 'twenty': 4612, 'prior': 3400, 'classics': 837, 'south': 4087, 'stand': 4143, '1968': 16, 'oscars': 3134, 'miserable': 2863, 'incident': 2260, 'funeral': 1849, 'seek': 3858, 'ron': 3734, 'moody': 2899, 'elderly': 1440, 'charge': 761, 'gang': 1867, 'nancy': 2964, 'thief': 4448, 'background': 380, 'ambitious': 211, 'acted': 98, 'stealing': 4171, 'staged': 4140, 'winning': 4898, 'choreography': 802, 'performers': 3232, 'unforgettable': 4652, 'include': 2261, 'assault': 324, 'attack': 337, 'exploitation': 1592, 'court': 1020, 'relies': 3606, 'bugs': 613, 'chuck': 812, 'jones': 2418, 'provided': 3449, 'mel': 2796, 'brooklyn': 595, 'jimmy': 2403, 'shy': 3962, 'obnoxious': 3067, 'radio': 3504, 'pretending': 3382, 'repeatedly': 3632, 'catches': 715, 'blue': 518, 'rabbit': 3498, 'horrendous': 2162, 'nonsensical': 3031, 'bargain': 400, 'inducing': 2279, 'charlie': 765, 'jackie': 2374, 'chan': 746, 'current': 1084, 'torture': 4529, 'suffered': 4276, 'feed': 1683, 'prevent': 3385, 'freedom': 1828, 'anime': 243, 'drives': 1367, 'college': 875, 'ignored': 2225, 'detailed': 1218, 'parties': 3196, 'subtitles': 4259, 'landscapes': 2514, 'pig': 3274, 'compelling': 916, 'comparing': 913, 'trip': 4588, 'adding': 117, 'proceedings': 3410, 'row': 3744, 'kiss': 2483, 'control': 977, 'widmark': 4882, 'steals': 4172, 'communist': 907, 'jean': 2389, 'peters': 3248, 'ritter': 3705, 'learns': 2553, 'working': 4944, 'continuity': 972, 'non': 3027, 'existent': 1572, 'corpse': 999, 'drinking': 1362, 'couldnt': 1008, 'specific': 4099, 'language': 2516, 'amusing': 221, 'annoyed': 248, 'lol': 2640, 'cried': 1054, 'broke': 593, 'andy': 230, 'nuts': 3064, 'thousand': 4465, 'learned': 2551, 'endearing': 1469, 'guarantee': 1987, 'simon': 3982, 'sir': 4000, 'quiet': 3492, 'relatively': 3600, 'tremendous': 4579, 'personalities': 3241, 'interaction': 2322, 'memories': 2803, 'reads': 3545, 'susan': 4326, 'buff': 611, 'restored': 3659, 'confidence': 938, 'pull': 3461, 'cops': 993, 'pulls': 3464, 'neither': 2996, 'complex': 923, 'stilted': 4190, 'complexity': 924, 'ridiculously': 3694, 'hopper': 2161, 'wilson': 4891, 'strip': 4228, 'ocean': 3079, 'receives': 3565, 'stereotype': 4178, 'contained': 963, 'footage': 1782, 'relations': 3596, 'linda': 2609, 'received': 3564, 'audio': 354, 'whatsoever': 4861, 'theyll': 4444, 'satisfied': 3789, 'buying': 641, 'appreciation': 281, 'remembered': 3617, 'etc': 1527, 'atrocious': 335, 'anywhere': 263, 'plain': 3286, 'inappropriate': 2259, 'doors': 1329, 'letting': 2583, 'creativity': 1042, 'using': 4698, 'heavy': 2070, 'praise': 3364, 'wave': 4818, 'avoided': 364, 'details': 1219, 'mouth': 2920, 'porno': 3337, 'undoubtedly': 4648, 'rangers': 3517, 'overacting': 3149, 'fx': 1858, 'resort': 3650, 'teens': 4392, 'rats': 3531, 'dude': 1381, 'cliché': 844, 'alien': 183, 'toy': 4542, 'robot': 3717, 'leading': 2547, 'ball': 388, 'wallace': 4782, 'perry': 3237, 'rendition': 3625, 'victor': 4731, 'gag': 1861, 'inspector': 2299, 'instance': 2304, 'concerned': 932, 'church': 813, 'highlights': 2104, 'hamlet': 2013, 'encounters': 1467, 'shakespeare': 3915, 'robin': 3715, 'williams': 4888, 'blew': 505, 'anti': 254, 'weapon': 4828, 'commit': 904, '3d': 46, 'badly': 383, 'excessive': 1560, 'extras': 1608, 'mike': 2838, 'myers': 2952, 'horse': 2170, 'focus': 1766, 'standing': 4146, 'hanging': 2023, 'terribly': 4408, 'cameras': 660, 'skills': 4014, 'surrounded': 4318, 'snl': 4044, 'satire': 3788, 'hook': 2152, 'cheek': 779, 'fish': 1738, 'unintentionally': 4659, 'daughters': 1122, 'occurs': 3078, 'daughter': 1121, 'accepted': 82, 'females': 1694, 'gentle': 1890, 'miracle': 2860, 'understated': 4646, 'mixture': 2878, 'homage': 2141, 'countries': 1013, 'muslim': 2949, 'france': 1816, 'student': 4238, 'religious': 3608, 'italy': 2368, 'fathers': 1667, 'encounter': 1466, 'promises': 3432, 'brings': 587, 'bar': 396, 'border': 539, 'progress': 3425, 'importance': 2246, 'beliefs': 452, 'extraordinary': 1607, 'currently': 1085, 'movement': 2923, 'tender': 4401, 'wit': 4908, 'patrick': 3213, 'slick': 4026, 'scores': 3823, 'space': 4090, 'lacked': 2503, 'productions': 3420, 'achievement': 94, 'cop': 991, 'retired': 3664, 'crisis': 1060, 'cynical': 1093, 'physical': 3262, 'listening': 2620, 'loser': 2655, 'accident': 84, 'starts': 4159, 'horses': 2171, 'nasty': 2968, 'desired': 1206, 'fame': 1642, 'survivor': 4324, 'button': 639, 'size': 4012, 'cameo': 657, 'adam': 111, 'sandler': 3781, 'executive': 1567, 'toys': 4543, 'grinch': 1975, 'stole': 4194, 'comedic': 888, 'childish': 791, 'lou': 2663, 'destroyed': 1214, 'worried': 4949, 'kicks': 2463, 'disturbing': 1300, 'westerns': 4854, 'ben': 463, 'hey': 2095, 'independent': 2272, 'influence': 2286, 'nick': 3012, 'worker': 4942, 'trouble': 4592, 'quirky': 3493, 'workers': 4943, 'dinner': 1254, 'shell': 3927, 'illness': 2230, 'committed': 905, 'strangers': 4214, 'wanting': 4790, 'calm': 655, 'forces': 1788, 'mentally': 2809, 'send': 3875, 'occurred': 3077, 'amazingly': 210, 'intense': 2316, 'awkward': 374, 'handled': 2019, 'saving': 3797, 'sat': 3786, 'bet': 470, 'stays': 4169, 'wins': 4899, 'ps': 3453, '1983': 22, 'sword': 4340, 'errors': 1516, 'rick': 3689, 'witch': 4909, 'chaos': 755, 'kings': 2481, 'planned': 3290, 'luckily': 2682, 'allowed': 190, 'traveling': 4568, 'topless': 4527, 'breasts': 572, 'giant': 1905, 'ugly': 4625, 'candy': 668, 'crappy': 1032, 'unless': 4669, 'eg': 1434, 'beating': 425, 'comparison': 914, 'earlier': 1399, 'serve': 3893, 'stolen': 4195, 'sally': 3776, 'speaks': 4096, 'eccentric': 1414, 'andrews': 229, 'don': 1320, 'tie': 4488, 'partly': 3197, 'newspaper': 3006, 'helped': 2080, 'sunday': 4293, 'afternoon': 144, 'burns': 628, 'rogers': 3725, 'conversations': 981, 'vote': 4766, 'max': 2774, 'eric': 1514, 'busy': 635, 'areas': 287, 'finger': 1731, 'spy': 4135, 'neo': 2998, 'latest': 2526, 'success': 4265, 'fix': 1744, 'broken': 594, 'franchise': 1817, 'rules': 3754, 'dropped': 1370, 'edition': 1422, 'breaking': 570, 'artificial': 306, 'segments': 3868, 'bridge': 578, 'solely': 4056, 'amongst': 218, 'draws': 1352, 'backgrounds': 381, 'makeup': 2717, 'lesser': 2576, 'khan': 2459, 'established': 1524, 'vampire': 4711, 'christopher': 811, 'safe': 3771, 'experiment': 1583, 'shorts': 3948, 'contrary': 974, 'alive': 186, 'spread': 4133, 'drags': 1345, 'hadnt': 2004, 'alert': 178, 'service': 3896, 'motivations': 2915, 'justify': 2439, 'murderer': 2941, 'removed': 3624, 'prison': 3401, 'explanation': 1590, 'punishment': 3467, 'idiots': 2220, 'till': 4493, 'boll': 529, 'upset': 4687, 'believing': 457, 'path': 3209, 'explain': 1586, 'catholic': 720, 'familys': 1646, 'rival': 3706, 'cards': 683, 'advantage': 129, 'depicted': 1183, 'comics': 895, 'dealing': 1136, 'distribution': 1298, 'scope': 3821, 'stayed': 4167, 'earl': 1398, 'newly': 3004, 'extended': 1604, 'families': 1644, 'ranks': 3519, 'doubt': 1332, 'recognized': 3570, 'efforts': 1433, 'window': 4894, 'cameos': 658, 'brosnan': 597, 'davis': 1126, 'mirror': 2861, 'mainly': 2708, 'gothic': 1945, 'confusing': 942, 'surrounding': 4319, 'wet': 4855, 'sudden': 4272, 'seemingly': 3863, 'uninteresting': 4660, 'caine': 647, 'duke': 1383, 'admittedly': 123, 'respected': 3653, 'horribly': 2164, 'competent': 917, 'laws': 2540, 'dated': 1119, 'insult': 2309, 'loads': 2633, 'agreed': 156, 'tale': 4353, 'kapoor': 2443, 'repeat': 3630, 'fallen': 1638, 'ashamed': 312, 'amitabh': 216, 'bobby': 525, 'promising': 3433, 'banned': 395, 'talked': 4359, 'los': 2653, 'angeles': 233, 'mansion': 2731, 'nobody': 3022, 'aunt': 355, 'thru': 4483, 'forbidden': 1785, 'shadow': 3912, 'dracula': 1341, 'rescue': 3643, 'lowest': 2678, 'evident': 1547, 'murders': 2943, 'pulp': 3465, 'involvement': 2347, 'werent': 4849, 'convince': 983, 'hundred': 2195, 'forgettable': 1794, 'martial': 2747, 'arts': 310, 'flying': 1764, 'matrix': 2767, 'jet': 2400, 'li': 2587, 'pants': 3182, 'admire': 121, 'mummy': 2937, 'blend': 504, 'impressive': 2253, 'smaller': 4034, 'complaint': 920, 'pie': 3271, 'fire': 1734, 'chris': 806, 'hearing': 2063, 'march': 2734, 'india': 2273, 'lyrics': 2692, 'eight': 1436, 'claimed': 829, 'ruin': 3750, 'nose': 3037, 'deserved': 1200, 'alongside': 196, 'intrigued': 2334, 'wrote': 4974, 'imagine': 2238, 'library': 2589, 'neat': 2982, 'endless': 1473, 'french': 1830, 'directly': 1263, 'wes': 4851, 'craven': 1034, 'wood': 4933, 'blind': 506, 'african': 142, 'grasp': 1960, 'gun': 1996, 'secretly': 3851, 'swimming': 4338, 'lessons': 2578, 'weeks': 4839, 'towards': 4540, 'tiresome': 4502, 'suspects': 4328, 'kitchen': 2485, 'recording': 3575, 'singer': 3993, 'hire': 2116, 'causing': 726, 'womens': 4924, 'results': 3662, 'accompanied': 86, 'slapstick': 4019, 'reviewers': 3678, 'devils': 1229, 'mysteries': 2954, 'strikes': 4225, 'faithful': 1634, 'china': 795, 'chinese': 796, 'adaptation': 113, 'humble': 2191, 'raise': 3507, 'wealth': 4826, 'asian': 314, 'belief': 451, 'execution': 1566, 'army': 295, 'saved': 3795, 'valuable': 4708, 'site': 4005, 'matters': 2770, 'arrogant': 303, 'trust': 4598, 'aid': 160, 'clips': 852, 'primarily': 3393, 'cheated': 775, 'basis': 408, 'square': 4136, 'handed': 2016, 'transition': 4561, 'benefit': 465, 'text': 4419, 'appeared': 276, 'cliff': 847, 'blank': 501, 'driving': 1368, 'shadows': 3913, 'makers': 2715, 'reynolds': 3684, 'jon': 2416, 'ned': 2986, 'fest': 1696, 'weekend': 4838, 'choice': 797, 'sold': 4052, 'bride': 577, 'blah': 496, 'bollywood': 530, 'dubbing': 1380, 'closet': 858, 'distracting': 1297, 'generous': 1886, 'hall': 2009, 'liking': 2604, 'danes': 1108, 'arrested': 298, 'guessing': 1991, 'sleazy': 4023, 'kim': 2475, 'attorney': 348, 'suggested': 4281, 'sentence': 3881, 'cousin': 1021, 'folks': 1771, 'cartoons': 705, 'hated': 2047, 'occasion': 3073, 'disney': 1289, 'namely': 2962, 'minded': 2850, 'lifestyle': 2593, 'smoke': 4039, 'tommy': 4516, 'rip': 3700, 'raped': 3522, 'vice': 4727, 'seagal': 3839, 'wolf': 4920, 'performer': 3231, 'fed': 1682, 'regardless': 3590, 'exercise': 1568, 'afraid': 140, 'device': 1227, 'gory': 1943, 'lesson': 2577, 'touched': 4534, 'card': 681, 'match': 2762, 'vs': 4767, 'matches': 2764, 'carried': 698, 'wow': 4962, 'wrestling': 4966, 'hardy': 2037, 'kennedy': 2454, 'bird': 484, 'paulie': 3215, 'bottom': 551, 'appreciated': 280, 'magazine': 2701, 'week': 4837, 'bull': 619, 'unlikely': 4671, 'raising': 3509, 'replaced': 3634, 'leslie': 2574, 'grab': 1949, 'sixties': 4011, 'flashbacks': 1747, 'failure': 1629, 'reminiscent': 3621, 'suspend': 4329, 'disbelief': 1277, 'enjoyment': 1488, 'highlight': 2103, 'ought': 3138, 'promised': 3431, '90': 60, 'theyve': 4446, '100': 1, 'warren': 4801, 'definite': 1161, 'closely': 855, 'biggest': 480, 'flop': 1760, 'iron': 2354, 'raymond': 3534, '80s': 59, 'suicide': 4283, 'kinda': 2477, 'helicopter': 2076, 'blown': 516, 'ellen': 1446, 'jumping': 2431, 'nostalgic': 3039, 'stargate': 4151, 'iraq': 2351, 'armed': 293, 'pretentious': 3383, 'drivel': 1364, 'empty': 1465, 'georges': 1894, 'suffer': 4275, 'claire': 831, 'shines': 3932, 'capturing': 679, 'niro': 3019, 'junior': 2435, 'treat': 4572, 'unwatchable': 4682, 'smoking': 4040, 'escape': 1517, 'atlantis': 332, '2002': 32, 'rings': 3699, 'aspects': 322, 'cliche': 843, 'bitter': 491, 'changing': 752, 'improvement': 2256, 'stereotypes': 4179, 'pushed': 3478, 'differences': 1247, 'account': 89, 'dare': 1113, 'featured': 1679, 'extent': 1605, 'pack': 3165, 'sleep': 4024, 'feet': 1688, 'suspicious': 4332, 'staying': 4168, 'eyed': 1612, 'cared': 685, 'dress': 1357, 'kidnapped': 2466, 'witches': 4910, 'hardly': 2036, 'coherent': 871, 'mountain': 2917, 'aint': 163, 'dozen': 1338, 'beer': 439, 'renting': 3629, 'winter': 4900, 'abc': 63, 'nights': 3016, 'emma': 1457, 'andrew': 228, 'davies': 1125, 'bigger': 479, 'paltrow': 3178, 'tends': 4402, 'adequate': 120, '2005': 35, 'mini': 2854, 'charm': 767, 'countryside': 1015, 'poverty': 3357, 'allowing': 191, 'reaction': 3541, 'rat': 3525, 'greedy': 1969, 'sends': 3876, 'plans': 3292, 'blair': 497, 'zero': 4996, 'lover': 2672, 'blunt': 520, 'piano': 3264, 'displayed': 1292, 'sappy': 3784, 'mayor': 2777, 'limits': 2607, 'canada': 666, 'shirley': 3936, 'lesbian': 2573, 'conservative': 948, 'jesse': 2397, 'daniel': 1111, 'norman': 3035, 'delivery': 1173, 'largely': 2518, 'fail': 1625, 'approach': 282, 'inferior': 2285, 'bland': 500, 'charismatic': 763, 'criminal': 1057, 'hong': 2149, 'kong': 2494, 'randomly': 3515, 'favorites': 1672, 'routine': 3743, 'bonus': 534, 'bette': 471, 'vegas': 4717, 'urge': 4689, 'energy': 1478, 'jerry': 2396, 'lewis': 2586, 'miserably': 2864, 'ignorant': 2223, 'ape': 266, 'performed': 3230, 'timing': 4498, 'gags': 1862, 'dragged': 1343, 'trailers': 4555, 'bottle': 550, 'ie': 2221, 'contact': 961, 'belongs': 460, 'portrays': 3344, 'performs': 3234, 'suit': 4284, 'ludicrous': 2685, 'priceless': 3390, 'combat': 882, 'fighter': 1708, 'treats': 4575, 'irrelevant': 2358, 'boss': 546, 'fox': 1814, 'anderson': 227, 'pokemon': 3320, 'concerning': 933, 'arguably': 289, 'rocket': 3721, 'hunter': 2199, 'hanks': 2025, 'department': 1182, 'nude': 3058, 'unoriginal': 4673, 'executed': 1565, 'omen': 3104, 'priest': 3392, 'survived': 4322, 'bible': 477, 'drawing': 1350, 'stated': 4161, 'plots': 3310, 'agent': 150, 'kurt': 2499, 'bare': 398, 'equipment': 1511, 'parallel': 3185, 'whoever': 4872, 'nevertheless': 3002, 'turner': 4607, 'absence': 70, 'mail': 2706, 'channels': 754, 'flight': 1757, 'sunshine': 4294, 'korean': 2495, 'sequels': 3886, 'choose': 799, 'desert': 1198, 'investigate': 2342, 'rushed': 3760, 'killings': 2473, 'alexander': 180, 'characterization': 759, 'tame': 4363, 'purposes': 3475, 'bite': 489, 'martin': 2748, 'jonathan': 2417, 'emotions': 1461, 'instinct': 2308, 'driven': 1365, 'generic': 1885, 'thirty': 4456, 'warn': 4797, 'breaks': 571, 'navy': 2976, 'knife': 2487, 'fired': 1735, 'convoluted': 987, 'screenplay': 3831, 'stretch': 4221, 'double': 1331, 'stones': 4198, 'frame': 1815, 'press': 3379, 'builds': 617, 'treated': 4573, 'bound': 553, 'credibility': 1047, 'campbell': 663, 'jr': 2423, 'grows': 1985, 'berlin': 467, 'bang': 393, 'usa': 4691, 'germany': 1898, 'lazy': 2543, 'politics': 3326, 'evidence': 1546, 'nazi': 2977, 'messages': 2820, 'meeting': 2794, 'climactic': 848, 'rise': 3702, 'wonders': 4931, 'troops': 4591, 'cares': 690, 'neighbors': 2994, 'survivors': 4325, 'cell': 730, 'writes': 4970, 'task': 4368, 'guilt': 1994, 'assume': 328, 'suggests': 4282, 'logical': 2639, 'explains': 1589, 'affair': 135, 'julie': 2428, 'thumbs': 4485, 'sisters': 4002, 'dreadful': 1353, 'easier': 1405, 'dig': 1250, 'regarding': 3589, 'experiments': 1584, 'lisa': 2616, 'prince': 3396, 'machine': 2693, 'condition': 937, 'intensity': 2317, 'hole': 2132, 'massive': 2756, 'burn': 625, 'calling': 653, 'uneven': 4649, 'tears': 4380, 'explored': 1595, 'vicious': 4728, 'gripping': 1976, 'marie': 2737, 'aka': 168, 'rap': 3520, 'fashioned': 1660, 'weakest': 4825, 'presence': 3373, 'respect': 3652, 'comedian': 887, 'dirty': 1268, 'wealthy': 4827, 'subtlety': 4261, 'alas': 172, 'plant': 3293, 'dreary': 1356, 'cable': 644, 'exaggerated': 1552, 'importantly': 2248, 'intentions': 2321, 'lacks': 2505, 'boat': 523, 'captain': 674, 'hugh': 2186, 'spends': 4107, 'involve': 2345, 'popcorn': 3331, 'con': 928, 'occur': 3076, 'slap': 4018, 'meat': 2787, 'hatred': 2049, 'improve': 2254, 'fond': 1776, 'olivier': 3103, 'delight': 1167, 'horrid': 2165, 'bat': 410, 'heaven': 2068, 'shark': 3921, 'moved': 2922, 'household': 2179, '1980s': 21, 'album': 175, 'hardcore': 2034, 'surfing': 4311, 'waters': 4817, 'monsters': 2893, 'dialogs': 1233, 'hilariously': 2107, 'crocodile': 1065, 'producing': 3417, 'seeking': 3859, 'anna': 245, 'lie': 2590, 'strangely': 4212, 'legs': 2566, 'nightmare': 3014, 'manage': 2722, 'doctors': 1305, 'mentioning': 2812, 'dislike': 1288, 'fly': 1763, 'veteran': 4724, 'desperate': 1208, 'methods': 2825, 'battles': 415, 'dangerous': 1110, 'push': 3477, 'uncomfortable': 4637, 'arrives': 302, 'worn': 4948, 'melting': 2799, 'rebel': 3561, 'sum': 4289, 'diamond': 1236, 'reunion': 3669, 'anne': 246, 'continued': 970, 'national': 2970, 'spirited': 4114, 'cultural': 1078, 'search': 3841, 'classes': 834, 'steps': 4177, 'wondered': 4927, 'tonight': 4519, 'forms': 1801, 'moore': 2901, 'chase': 769, 'horrifying': 2167, 'chased': 770, 'seed': 3856, 'eddie': 1416, 'insulting': 2310, 'hitler': 2124, 'landing': 2512, 'treasure': 4571, 'ingredients': 2289, 'dogs': 1311, 'explore': 1594, 'captivating': 675, 'passes': 3203, 'championship': 745, 'kick': 2460, 'goal': 1925, 'kicked': 2461, 'hearts': 2066, 'chooses': 800, 'pseudo': 3454, 'ears': 1402, 'sinister': 3998, 'thank': 4421, 'russell': 3761, 'lately': 2524, 'nervous': 2999, 'oz': 3160, 'code': 869, 'stanwyck': 4149, 'lily': 2605, 'chain': 741, 'tricks': 4583, 'willing': 4889, 'spring': 4134, 'reasonable': 3558, 'thrill': 4471, 'embarrassing': 1454, 'kicking': 2462, '24': 39, 'motion': 2913, 'props': 3439, 'chases': 771, 'thugs': 4484, 'native': 2972, 'remarkable': 3613, 'albeit': 173, 'hence': 2083, 'dialogues': 1235, 'shining': 3933, 'carrie': 697, 'endings': 1472, 'frustrated': 1842, 'arthur': 305, 'dean': 1139, 'drunken': 1376, 'hype': 2207, 'maker': 2714, 'couldve': 1009, 'hood': 2151, 'painful': 3171, 'opportunities': 3120, 'prime': 3395, 'uwe': 4703, 'wears': 4832, 'consists': 955, 'crying': 1074, 'akshay': 169, 'introduce': 2336, 'dressing': 1359, 'mountains': 2918, 'crew': 1053, 'base': 402, 'terrorist': 4413, 'command': 897, 'trained': 4557, 'guns': 1998, 'dropping': 1371, 'visible': 4753, 'recorded': 3574, 'chapter': 757, 'stops': 4203, 'unbelievably': 4635, 'buffs': 612, 'chaplin': 756, 'author': 359, 'pointed': 3317, 'douglas': 1334, 'hart': 2041, 'quit': 3494, 'enormous': 1490, 'ray': 3533, 'craig': 1030, 'depressing': 1188, 'amanda': 205, 'starred': 4153, 'choreographed': 801, 'resident': 3647, 'contain': 962, 'pacing': 3163, 'mistakes': 2873, 'lust': 2689, 'warning': 4800, 'foster': 1809, 'remaining': 3610, 'pit': 3278, 'fay': 1674, 'hal': 2006, 'henry': 2084, 'cia': 814, 'heights': 2073, '1990s': 25, 'trapped': 4564, 'riding': 3695, 'unfolds': 4651, 'obscure': 3068, 'relative': 3599, 'masters': 2761, 'decades': 1145, 'wendy': 4846, 'picks': 3268, 'strictly': 4223, 'network': 3000, 'managed': 2723, 'highest': 2102, 'stronger': 4230, 'host': 2173, 'references': 3583, 'reviewer': 3677, 'stooges': 4200, 'virtually': 4751, 'metal': 2823, 'grave': 1962, 'ghosts': 1903, 'vampires': 4712, 'corrupt': 1001, 'san': 3780, 'francisco': 1819, 'building': 615, 'temple': 4398, 'root': 3737, 'del': 1165, 'curse': 1086, 'psychotic': 3459, 'revelation': 3674, 'thrills': 4475, 'attacks': 339, 'clichéd': 845, 'lawrence': 2539, 'misery': 2865, 'allen': 188, 'fbi': 1675, 'vincent': 4746, 'smooth': 4041, 'negative': 2991, 'tied': 4489, 'cuba': 1075, 'bud': 607, 'bergman': 466, 'hank': 2024, 'pops': 3332, 'repetitive': 3633, 'woody': 4936, '2004': 34, 'doubts': 1333, 'parody': 3192, 'recognition': 3568, 'sid': 3964, 'aging': 153, 'plausible': 3295, 'butt': 638, 'investigation': 2343, 'translation': 4562, 'lengthy': 2570, 'exposure': 1599, 'discuss': 1283, 'danny': 1112, 'gods': 1928, 'mighty': 2836, 'liners': 2611, 'wannabe': 4787, 'decade': 1144, 'spite': 4117, 'infamous': 2284, 'digital': 1251, 'direct': 1258, 'clues': 865, 'columbo': 881, 'supernatural': 4302, 'secretary': 3850, '80': 58, 'frequent': 1831, 'transformation': 4560, 'spoil': 4121, 'patient': 3211, 'giallo': 1904, 'cannibal': 669, 'awfully': 373, 'laughably': 2531, 'advice': 133, 'reveal': 3670, '20th': 38, 'iran': 2350, 'phony': 3256, 'pursuit': 3476, 'julia': 2427, 'cusack': 1088, 'doomed': 1327, '1st': 28, 'contrived': 976, 'harris': 2038, 'futuristic': 1857, 'orange': 3125, 'bleak': 503, 'necessarily': 2983, 'cage': 645, 'narration': 2965, '45': 50, 'rolled': 3729, 'lumet': 2688, 'petty': 3249, 'deeper': 1155, 'pro': 3406, 'voices': 4763, 'hideous': 2098, 'drew': 1360, 'pretend': 3381, 'causes': 725, 'fonda': 1777, 'entry': 1504, 'kevin': 2457, 'european': 1530, 'boom': 537, 'vague': 4705, 'medium': 2792, 'figured': 1712, 'gangsters': 1869, 'returning': 3667, 'shake': 3914, 'criminals': 1058, 'motivation': 2914, 'focusing': 1769, 'understandable': 4644, 'block': 508, 'despair': 1207, 'solo': 4058, 'month': 2896, '30s': 44, 'tap': 4364, 'ruins': 3752, 'rising': 3703, 'whale': 4857, 'initially': 2291, 'vivid': 4760, 'kay': 2447, 'nurse': 3063, 'donna': 1323, 'brady': 561, 'marry': 2745, 'mistaken': 2872, 'australia': 356, 'walker': 4778, 'campy': 664, 'snake': 4042, '2nd': 41, 'menace': 2806, 'corporate': 998, 'explosions': 1597, 'marvelous': 2750, 'babe': 375, 'angels': 234, 'tooth': 4524, 'defeat': 1157, 'lemmon': 2567, 'rush': 3759, 'kinds': 2478, 'packed': 3166, 'concerns': 934, 'blows': 517, 'appearing': 277, 'friendly': 1836, 'pool': 3327, 'trademark': 4548, 'convinced': 984, 'killers': 2471, 'soviet': 4089, 'donald': 1321, 'huh': 2187, 'rage': 3505, 'loaded': 2632, 'sexually': 3910, 'felix': 1689, 'worlds': 4947, 'apes': 267, 'unhappy': 4656, 'granted': 1957, 'lonely': 2643, 'queen': 3485, 'gritty': 1977, 'secrets': 3852, 'trail': 4553, 'exceptional': 1558, 'eighties': 1437, 'system': 4345, 'refreshing': 3586, 'website': 4834, 'inventive': 2341, 'trap': 4563, 'guilty': 1995, 'warmth': 4796, 'jeremy': 2394, 'previously': 3388, 'description': 1197, 'disappoint': 1272, 'teach': 4374, 'gain': 1863, 'wishing': 4907, 'inane': 2258, 'kidding': 2465, 'survival': 4320, 'depressed': 1187, 'ad': 110, 'factory': 1623, 'officer': 3092, 'pays': 3218, 'indians': 2275, 'domino': 1319, 'soccer': 4048, 'mickey': 2831, 'cringe': 1059, 'bears': 421, 'exact': 1550, 'tomatoes': 4515, 'introduces': 2338, 'president': 3378, 'dubbed': 1379, 'sink': 3999, 'jaws': 2385, 'businessman': 634, 'eerie': 1427, 'coffee': 870, 'internet': 2327, 'ego': 1435, 'dust': 1388, 'forgive': 1795, 'suck': 4269, 'trees': 4577, 'dear': 1140, 'walken': 4777, 'mitchell': 2875, 'user': 4696, 'brazil': 568, 'da': 1094, 'sons': 4073, 'beatty': 427, 'burt': 629, 'hopefully': 2157, 'strongly': 4231, 'influenced': 2287, 'alcohol': 176, 'contest': 967, '13th': 5, 'prom': 3429, 'jerk': 2395, 'blowing': 515, '2001': 31, 'nuclear': 3057, 'chose': 804, 'inept': 2281, 'wouldve': 4959, 'intrigue': 2333, 'activities': 102, 'step': 4175, 'occasional': 3074, 'kissing': 2484, 'wanna': 4786, 'lips': 2615, 'providing': 3451, 'fits': 1741, 'tracks': 4545, 'destroying': 1215, 'ford': 1789, 'blues': 519, 'enterprise': 1495, 'preview': 3386, 'wacky': 4769, 'civil': 826, 'glimpse': 1919, 'disappeared': 1271, 'peace': 3219, 'represent': 3637, 'gender': 1878, 'gradually': 1952, 'enter': 1494, 'ease': 1404, 'holds': 2131, 'colors': 879, 'stranger': 4213, 'punch': 3466, 'sits': 4006, 'halfway': 2008, 'phone': 3255, 'photo': 3257, 'plastic': 3294, 'placed': 3283, 'cats': 721, 'sticks': 4186, 'lane': 2515, 'museum': 2945, 'leader': 2546, 'dedicated': 1153, 'witnesses': 4916, 'wholly': 4874, 'floating': 1758, 'virgin': 4749, 'shocked': 3939, 'cameron': 661, 'nomination': 3026, 'noble': 3021, 'macy': 2695, 'abilities': 64, 'noted': 3045, 'opened': 3113, 'lone': 2642, 'stinks': 4192, 'jealous': 2388, 'adds': 119, 'outcome': 3142, 'slave': 4022, 'afford': 138, 'definition': 1163, '40s': 49, 'scientific': 3817, 'captures': 678, 'voiced': 4762, 'diane': 1238, 'keaton': 2448, 'pile': 3275, 'doc': 1303, 'fat': 1663, 'kenneth': 2455, 'map': 2733, 'critic': 1061, 'pot': 3354, 'jazz': 2387, 'africa': 141, 'equal': 1509, 'staring': 4152, 'compelled': 915, 'dancers': 1105, 'montage': 2894, 'carpenter': 694, 'pregnant': 3369, 'bullet': 620, 'research': 3644, 'teaching': 4377, 'authority': 360, 'pink': 3277, 'cry': 1073, 'tiger': 4491, 'spike': 4111, 'jake': 2377, 'karen': 2444, 'sandra': 3782, 'revolutionary': 3681, 'che': 773, 'revolution': 3680, 'possibilities': 3348, 'desperation': 1210, 'panic': 3181, 'explaining': 1588, 'pat': 3208, 'juvenile': 2441, 'wrap': 4963, 'redeeming': 3577, 'heavily': 2069, 'larry': 2520, 'humorous': 2193, 'britain': 588, 'minimum': 2856, 'psychiatrist': 3455, 'cruel': 1070, 'womans': 4922, 'attraction': 350, 'realise': 3548, 'burton': 630, 'miscast': 2862, 'rank': 3518, 'trial': 4580, 'innocence': 2293, 'pleasure': 3306, 'lincoln': 2608, 'accused': 91, 'defend': 1158, 'defense': 1159, 'fourth': 1813, 'recognize': 3569, 'brown': 601, 'todd': 4510, '25': 40, 'santa': 3783, 'crimes': 1056, 'daily': 1097, 'consequences': 947, 'innovative': 2295, 'buddy': 609, 'wound': 4960, 'generations': 1884, 'regular': 3592, 'tongue': 4518, 'engage': 1479, 'hunters': 2200, 'nicholson': 3011, 'slaughter': 4021, 'liberal': 2588, 'devoid': 1230, 'acceptable': 81, 'hurts': 2203, 'bold': 528, 'print': 3399, 'versus': 4722, 'godzilla': 1929, 'scare': 3803, 'formulaic': 1803, 'sean': 3840, 'elvis': 1451, 'watchable': 4812, 'factor': 1622, 'hudson': 2184, 'tear': 4379, 'physically': 3263, 'prostitute': 3440, 'reached': 3537, 'cinderella': 815, 'resist': 3648, 'waited': 4771, 'bullets': 621, 'identify': 2216, '2000': 30, 'transfer': 4559, 'cabin': 643, 'fever': 1699, 'commercials': 903, 'slightest': 4028, 'birthday': 487, 'shine': 3931, 'manhattan': 2726, 'groups': 1981, 'streep': 4215, 'figures': 1713, 'advance': 127, 'charisma': 762, 'indie': 2276, 'shortly': 3947, 'unseen': 4678, 'tad': 4347, 'dave': 1123, 'losers': 2656, 'buddies': 608, 'cube': 1076, 'nearby': 2980, 'bathroom': 412, 'mildred': 2841, 'resulting': 3661, 'property': 3438, 'dignity': 1252, 'access': 83, 'cinemas': 817, 'loosely': 2651, 'exotic': 1574, 'fancy': 1649, 'topic': 4526, 'spots': 4132, 'shelf': 3926, 'beats': 426, 'subplot': 4255, 'wishes': 4906, 'christians': 809, 'stevens': 4183, 'flynn': 1765, 'unrealistic': 4677, 'wwii': 4975, 'california': 650, '1973': 19, '70': 55, 'soldiers': 4054, 'conceived': 929, 'americas': 215, 'prequel': 3372, 'offering': 3089, 'severe': 3906, 'cg': 739, 'airplane': 166, 'jackson': 2375, 'cd': 728, 'online': 3109, 'contrast': 975, 'princess': 3397, 'guard': 1988, 'nicholas': 3010, 'enjoys': 1489, 'bo': 521, 'staff': 4138, 'blade': 495, 'stunt': 4245, 'stanley': 4148, 'kubrick': 2496, 'covers': 1024, 'cake': 648, 'relation': 3595, 'belong': 459, 'morning': 2906, '1933': 12, 'cooper': 990, 'ships': 3935, 'honor': 2150, 'matched': 2763, 'depiction': 1185, 'develops': 1226, 'criticism': 1063, 'thoughtful': 4463, 'travels': 4569, 'closed': 854, 'grandfather': 1954, 'matthau': 2771, 'technology': 4385, 'useless': 4695, 'singers': 3994, 'merits': 2817, 'fooled': 1780, 'solve': 4060, 'ties': 4490, 'bettie': 473, 'feminist': 1695, 'intimate': 2331, 'ignore': 2224, 'simplicity': 3984, 'assumed': 329, 'invisible': 2344, 'smiling': 4037, 'spielberg': 4110, 'werewolf': 4850, 'cure': 1081, 'caliber': 649, 'stan': 4142, 'laurel': 2537, 'butler': 637, 'adams': 112, 'blob': 507, 'blake': 498, 'construction': 960, 'couples': 1017, 'goodness': 1938, 'jaw': 2384, 'taylor': 4372, 'leonard': 2572, 'ridden': 3691, 'counter': 1011, 'revealing': 3672, 'ken': 2453, 'complicated': 925, 'ginger': 1908, 'designs': 1204, 'elvira': 1450, 'theyd': 4443, 'ya': 4976, 'affected': 137, 'relatives': 3601, 'advanced': 128, 'flaw': 1749, 'disturbed': 1299, 'sin': 3988, 'intent': 2318, 'imagery': 2234, 'notably': 3042, 'dentist': 1180, 'nightmares': 3015, 'silver': 3977, 'authentic': 358, 'sincere': 3991, 'bell': 458, 'eve': 1532, 'spooky': 4128, 'polished': 3323, 'isolated': 2363, 'daring': 1114, 'copies': 992, 'fury': 1855, 'ancient': 225, 'dozens': 1339, 'kirk': 2482, 'mafia': 2700, 'striking': 4226, 'persons': 3244, 'ethan': 1528, 'portrait': 3339, 'returned': 3666, 'passionate': 3206, 'gray': 1963, 'intention': 2319, 'joined': 2413, 'curiosity': 1082, 'exploration': 1593, 'demand': 1174, 'lies': 2591, 'bank': 394, 'facial': 1619, 'clothing': 861, 'classical': 836, 'expressions': 1603, 'mann': 2728, 'displays': 1293, 'sidekick': 3966, 'corruption': 1002, 'dawson': 1128, 'officers': 3093, 'baker': 385, 'circle': 821, 'brando': 566, 'edie': 1419, 'orson': 3132, 'welles': 4844, 'pamela': 3179, 'screams': 3828, 'annie': 247, 'species': 4098, 'colonel': 876, 'interpretation': 2328, 'painted': 3174, 'dating': 1120, 'brutally': 604, 'lit': 2621, 'exposed': 1598, 'touches': 4535, 'clown': 862, 'delivering': 1171, 'louis': 2665, 'molly': 2884, 'hyde': 2206, 'shape': 3919, 'sutherland': 4333, 'careful': 688, 'germans': 1897, 'beings': 449, 'population': 3335, 'travesty': 4570, 'cox': 1026, 'incomprehensible': 2267, 'franco': 1820, 'vengeance': 4719, 'elegant': 1441, 'struck': 4232, 'showdown': 3955, 'tracy': 4546, 'darker': 1116, 'ninja': 3018, 'madonna': 2699, 'suits': 4287, 'reaching': 3539, 'charlotte': 766, 'styles': 4250, 'responsibility': 3655, 'visits': 4756, 'medical': 2790, 'holmes': 2139, 'england': 1482, 'letters': 2582, 'rooms': 3736, 'checking': 778, 'iii': 2227, 'gary': 1873, 'embarrassment': 1455, 'hippie': 2115, 'tons': 4520, 'rocks': 3722, 'firstly': 1737, 'dub': 1378, 'reflection': 3585, 'discovery': 1282, 'lion': 2614, 'embarrassed': 1453, 'sole': 4055, 'estate': 1525, 'von': 4765, 'modesty': 2883, 'gundam': 1997, 'manipulative': 2727, 'stiller': 4189, 'duty': 1390, 'lucas': 2680, 'latin': 2527, 'christ': 807, 'jenny': 2393, 'manager': 2724, 'hbo': 2055, 'unit': 4663, 'likewise': 2603, 'attitudes': 347, 'raw': 3532, 'mall': 2720, 'fitting': 1742, 'everyones': 1543, 'steel': 4173, 'widow': 4883, 'redemption': 3578, 'sport': 4129, 'vietnam': 4735, 'valley': 4707, 'victoria': 4732, 'downhill': 1336, 'astaire': 330, 'fields': 1705, 'elsewhere': 1449, 'notes': 3046, 'dynamic': 1394, 'receive': 3563, 'balls': 390, 'suffice': 4279, 'suspenseful': 4331, 'shed': 3924, 'pitch': 3279, 'grandmother': 1955, 'nine': 3017, 'vulnerable': 4768, 'sue': 4274, 'chess': 783, 'brilliance': 582, 'ted': 4386, 'taught': 4370, 'francis': 1818, 'terrorists': 4414, 'halloween': 2010, 'troubles': 4594, 'jamie': 2379, 'curtis': 1087, 'incoherent': 2265, 'mature': 2773, 'describes': 1196, 'yesterday': 4983, 'borrowed': 545, 'controversial': 978, 'seventies': 3904, 'depicting': 1184, 'glenn': 1918, 'gerard': 1895, 'margaret': 2735, 'guessed': 1990, 'aids': 161, 'scooby': 3820, 'doo': 1325, 'lab': 2501, 'wore': 4939, 'speech': 4102, 'patients': 3212, '1980': 20, 'descent': 1193, 'crafted': 1029, 'roots': 3738, 'bela': 450, 'lugosi': 2686, 'dalton': 1098, 'demons': 1178, 'explosion': 1596, 'psychic': 3456, 'damage': 1099, 'credible': 1048, 'cinematographer': 819, 'awe': 370, 'stale': 4141, 'nelson': 2997, 'illogical': 2231, 'advise': 134, 'subplots': 4256, 'mistress': 2874, 'nyc': 3065, 'garbo': 1871, 'mario': 2738, 'eyre': 1614, 'timothy': 4499, 'rochester': 3719, 'lees': 2560, 'monkey': 2890, 'imitation': 2241, 'louise': 2666, 'unintentional': 4658, 'deceased': 1146, 'capital': 673, 'royal': 3746, 'waitress': 4773, 'screenwriter': 3833, 'explicit': 1591, 'rambo': 3511, 'assigned': 325, 'yellow': 4981, 'justin': 2440, 'lasted': 2522, 'ham': 2011, 'elm': 1447, 'simpson': 3987, 'mars': 2746, 'conspiracy': 956, 'disjointed': 1287, 'spoiled': 4122, 'chicks': 787, 'outfit': 3144, 'breathtaking': 574, 'arrival': 299, 'depicts': 1186, 'potentially': 3356, 'widely': 4881, 'glover': 1923, 'web': 4833, '18': 10, 'enemies': 1476, 'jumped': 2430, 'amy': 222, 'dolls': 1316, 'satan': 3787, 'semi': 3874, 'unsettling': 4679, 'orders': 3127, 'shelley': 3928, 'unpredictable': 4675, 'wells': 4845, '3000': 43, 'picking': 3267, 'journalist': 2420, 'frustration': 1843, 'faults': 1669, 'craft': 1028, 'leo': 2571, 'showcase': 3954, 'illegal': 2229, 'cave': 727, 'balance': 387, 'boot': 538, 'wisdom': 4902, 'frequently': 1832, 'emily': 1456, 'prisoners': 3403, 'swedish': 4335, 'reaches': 3538, 'basketball': 409, 'eastwood': 1409, 'bath': 411, 'der': 1191, '1972': 18, 'neighbor': 2992, 'sellers': 3872, 'ralph': 3510, 'airport': 167, 'popularity': 3334, 'virginia': 4750, 'legal': 2563, 'marty': 2749, 'guest': 1992, 'diana': 1237, 'threat': 4467, 'richardson': 3688, 'riveting': 3708, 'maggie': 2702, 'homer': 2144, 'superhero': 4299, 'opinions': 3119, 'anyways': 262, 'serving': 3897, 'gabriel': 1859, 'robbery': 3711, 'deaf': 1134, 'lena': 2568, 'gadget': 1860, 'attend': 344, 'holly': 2136, 'dolph': 1317, 'swim': 4337, 'bakshi': 386, 'polanski': 3321, 'ballet': 389, 'betty': 474, 'bacall': 377}\n"
     ]
    }
   ],
   "source": [
    "print(str(vocabulary))"
   ]
  },
  {
   "cell_type": "markdown",
   "metadata": {},
   "source": [
    "Once you have added the endpoint name to the Lambda function, click on **Save**. Your Lambda function is now up and running. Next we need to create a way for our web app to execute the Lambda function."
   ]
  },
  {
   "cell_type": "markdown",
   "metadata": {},
   "source": [
    "### Setting up API Gateway\n",
    "\n",
    "Now that our Lambda function is set up, it is time to create a new API using API Gateway that will trigger the Lambda function we have just created.\n",
    "\n",
    "Using AWS Console, navigate to **Amazon API Gateway** and then click on **Get started**.\n",
    "\n",
    "On the next page, make sure that **New API** is selected and give the new api a name, for example, `sentiment_analysis_web_app`. Then, click on **Create API**.\n",
    "\n",
    "Now we have created an API, however it doesn't currently do anything. What we want it to do is to trigger the Lambda function that we created earlier.\n",
    "\n",
    "Select the **Actions** dropdown menu and click **Create Method**. A new blank method will be created, select its dropdown menu and select **POST**, then click on the check mark beside it.\n",
    "\n",
    "For the integration point, make sure that **Lambda Function** is selected and click on the **Use Lambda Proxy integration**. This option makes sure that the data that is sent to the API is then sent directly to the Lambda function with no processing. It also means that the return value must be a proper response object as it will also not be processed by API Gateway.\n",
    "\n",
    "Type the name of the Lambda function you created earlier into the **Lambda Function** text entry box and then click on **Save**. Click on **OK** in the pop-up box that then appears, giving permission to API Gateway to invoke the Lambda function you created.\n",
    "\n",
    "The last step in creating the API Gateway is to select the **Actions** dropdown and click on **Deploy API**. You will need to create a new Deployment stage and name it anything you like, for example `prod`.\n",
    "\n",
    "You have now successfully set up a public API to access your SageMaker model. Make sure to copy or write down the URL provided to invoke your newly created public API as this will be needed in the next step. This URL can be found at the top of the page, highlighted in blue next to the text **Invoke URL**."
   ]
  },
  {
   "cell_type": "markdown",
   "metadata": {},
   "source": [
    "## Step 7: Deploying our web app\n",
    "\n",
    "Now that we have a publicly available API, we can start using it in a web app. For our purposes, we have provided a simple static html file which can make use of the public api you created earlier.\n",
    "\n",
    "In the `website` folder there should be a file called `index.html`. Download the file to your computer and open that file up in a text editor of your choice. There should be a line which contains **\\*\\*REPLACE WITH PUBLIC API URL\\*\\***. Replace this string with the url that you wrote down in the last step and then save the file.\n",
    "\n",
    "Now, if you open `index.html` on your local computer, your browser will behave as a local web server and you can use the provided site to interact with your SageMaker model.\n",
    "\n",
    "If you'd like to go further, you can host this html file anywhere you'd like, for example using github or hosting a static site on Amazon's S3. Once you have done this you can share the link with anyone you'd like and have them play with it too!\n",
    "\n",
    "> **Important Note** In order for the web app to communicate with the SageMaker endpoint, the endpoint has to actually be deployed and running. This means that you are paying for it. Make sure that the endpoint is running when you want to use the web app but that you shut it down when you don't need it, otherwise you will end up with a surprisingly large AWS bill."
   ]
  },
  {
   "cell_type": "markdown",
   "metadata": {},
   "source": [
    "### Delete the endpoint\n",
    "\n",
    "Remember to always shut down your endpoint if you are no longer using it. You are charged for the length of time that the endpoint is running so if you forget and leave it on you could end up with an unexpectedly large bill."
   ]
  },
  {
   "cell_type": "code",
   "execution_count": 50,
   "metadata": {},
   "outputs": [
    {
     "name": "stderr",
     "output_type": "stream",
     "text": [
      "INFO:sagemaker:Deleting endpoint with name: xgboost-2018-10-15-04-42-41-025\n"
     ]
    }
   ],
   "source": [
    "xgb_predictor.delete_endpoint()"
   ]
  },
  {
   "cell_type": "markdown",
   "metadata": {},
   "source": [
    "## Optional: Clean up\n",
    "\n",
    "The default notebook instance on SageMaker doesn't have a lot of excess disk space available. As you continue to complete and execute notebooks you will eventually fill up this disk space, leading to errors which can be difficult to diagnose. Once you are completely finished using a notebook it is a good idea to remove the files that you created along the way. Of course, you can do this from the terminal or from the notebook hub if you would like. The cell below contains some commands to clean up the created files from within the notebook."
   ]
  },
  {
   "cell_type": "code",
   "execution_count": 51,
   "metadata": {},
   "outputs": [],
   "source": [
    "# First we will remove all of the files contained in the data_dir directory\n",
    "!rm $data_dir/*\n",
    "\n",
    "# And then we delete the directory itself\n",
    "!rmdir $data_dir\n",
    "\n",
    "# Similarly we remove the files in the cache_dir directory and the directory itself\n",
    "!rm $cache_dir/*\n",
    "!rmdir $cache_dir"
   ]
  },
  {
   "cell_type": "code",
   "execution_count": null,
   "metadata": {},
   "outputs": [],
   "source": []
  }
 ],
 "metadata": {
  "kernelspec": {
   "display_name": "conda_python3",
   "language": "python",
   "name": "conda_python3"
  },
  "language_info": {
   "codemirror_mode": {
    "name": "ipython",
    "version": 3
   },
   "file_extension": ".py",
   "mimetype": "text/x-python",
   "name": "python",
   "nbconvert_exporter": "python",
   "pygments_lexer": "ipython3",
   "version": "3.6.5"
  }
 },
 "nbformat": 4,
 "nbformat_minor": 2
}
