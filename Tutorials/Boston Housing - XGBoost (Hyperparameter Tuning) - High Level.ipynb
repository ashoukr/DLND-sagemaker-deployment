{
 "cells": [
  {
   "cell_type": "markdown",
   "metadata": {},
   "source": [
    "# Predicting Boston Housing Prices\n",
    "\n",
    "## Using XGBoost in SageMaker\n",
    "\n",
    "_Deep Learning Nanodegree Program | Deployment_\n",
    "\n",
    "---\n",
    "\n",
    "As an introduction to using SageMaker's High Level Python API we will look at a relatively simple problem. Namely, we will use the [Boston Housing Dataset](https://www.cs.toronto.edu/~delve/data/boston/bostonDetail.html) to predict the median value of a home in the area of Boston Mass.\n",
    "\n",
    "The documentation for the high level API can be found on the [ReadTheDocs page](http://sagemaker.readthedocs.io/en/latest/)\n",
    "\n",
    "## General Outline\n",
    "\n",
    "Typically, when using a notebook instance with SageMaker, you will proceed through the following steps. Of course, not every step will need to be done with each project. Also, there is quite a lot of room for variation in many of the steps, as you will see throughout these lessons.\n",
    "\n",
    "1. Download or otherwise retrieve the data.\n",
    "2. Process / Prepare the data.\n",
    "3. Upload the processed data to S3.\n",
    "4. Train a chosen model.\n",
    "5. Test the trained model (typically using a batch transform job).\n",
    "6. Deploy the trained model.\n",
    "7. Use the deployed model.\n",
    "\n",
    "In this notebook we will only be covering steps 1 through 5 as we just want to get a feel for using SageMaker. In later notebooks we will talk about deploying a trained model in much more detail."
   ]
  },
  {
   "cell_type": "markdown",
   "metadata": {},
   "source": [
    "## Step 0: Setting up the notebook\n",
    "\n",
    "We begin by setting up all of the necessary bits required to run our notebook. To start that means loading all of the Python modules we will need."
   ]
  },
  {
   "cell_type": "code",
   "execution_count": 1,
   "metadata": {},
   "outputs": [],
   "source": [
    "%matplotlib inline\n",
    "\n",
    "import os\n",
    "\n",
    "import numpy as np\n",
    "import pandas as pd\n",
    "\n",
    "import matplotlib.pyplot as plt\n",
    "\n",
    "from sklearn.datasets import load_boston\n",
    "import sklearn.model_selection"
   ]
  },
  {
   "cell_type": "markdown",
   "metadata": {},
   "source": [
    "In addition to the modules above, we need to import the various bits of SageMaker that we will be using. "
   ]
  },
  {
   "cell_type": "code",
   "execution_count": 2,
   "metadata": {},
   "outputs": [],
   "source": [
    "import sagemaker\n",
    "from sagemaker import get_execution_role\n",
    "from sagemaker.amazon.amazon_estimator import get_image_uri\n",
    "from sagemaker.predictor import csv_serializer\n",
    "\n",
    "# This is an object that represents the SageMaker session that we are currently operating in. This\n",
    "# object contains some useful information that we will need to access later such as our region.\n",
    "session = sagemaker.Session()\n",
    "\n",
    "# This is an object that represents the IAM role that we are currently assigned. When we construct\n",
    "# and launch the training job later we will need to tell it what IAM role it should have. Since our\n",
    "# use case is relatively simple we will simply assign the training job the role we currently have.\n",
    "role = get_execution_role()"
   ]
  },
  {
   "cell_type": "markdown",
   "metadata": {},
   "source": [
    "## Step 1: Downloading the data\n",
    "\n",
    "Fortunately, this dataset can be retrieved using sklearn and so this step is relatively straightforward."
   ]
  },
  {
   "cell_type": "code",
   "execution_count": 3,
   "metadata": {},
   "outputs": [],
   "source": [
    "boston = load_boston()"
   ]
  },
  {
   "cell_type": "markdown",
   "metadata": {},
   "source": [
    "## Step 2: Preparing and splitting the data\n",
    "\n",
    "Given that this is clean tabular data, we don't need to do any processing. However, we do need to split the rows in the dataset up into train, test and validation sets."
   ]
  },
  {
   "cell_type": "code",
   "execution_count": 4,
   "metadata": {},
   "outputs": [],
   "source": [
    "# First we package up the input data and the target variable (the median value) as pandas dataframes. This\n",
    "# will make saving the data to a file a little easier later on.\n",
    "\n",
    "X_bos_pd = pd.DataFrame(boston.data, columns=boston.feature_names)\n",
    "Y_bos_pd = pd.DataFrame(boston.target)\n",
    "\n",
    "# We split the dataset into 2/3 training and 1/3 testing sets.\n",
    "X_train, X_test, Y_train, Y_test = sklearn.model_selection.train_test_split(X_bos_pd, Y_bos_pd, test_size=0.33)\n",
    "\n",
    "# Then we split the training set further into 2/3 training and 1/3 validation sets.\n",
    "X_train, X_val, Y_train, Y_val = sklearn.model_selection.train_test_split(X_train, Y_train, test_size=0.33)"
   ]
  },
  {
   "cell_type": "markdown",
   "metadata": {},
   "source": [
    "## Step 3: Uploading the data files to S3\n",
    "\n",
    "When a training job is constructed using SageMaker, a container is executed which performs the training operation. This container is given access to data that is stored in S3. This means that we need to upload the data we want to use for training to S3. In addition, when we perform a batch transform job, SageMaker expects the input data to be stored on S3. We can use the SageMaker API to do this and hide some of the details.\n",
    "\n",
    "### Save the data locally\n",
    "\n",
    "First we need to create the test, train and validation csv files which we will then upload to S3."
   ]
  },
  {
   "cell_type": "code",
   "execution_count": 5,
   "metadata": {},
   "outputs": [],
   "source": [
    "# This is our local data directory. We need to make sure that it exists.\n",
    "data_dir = '../data/boston'\n",
    "if not os.path.exists(data_dir):\n",
    "    os.makedirs(data_dir)"
   ]
  },
  {
   "cell_type": "code",
   "execution_count": 6,
   "metadata": {},
   "outputs": [],
   "source": [
    "# We use pandas to save our test, train and validation data to csv files. Note that we make sure not to include header\n",
    "# information or an index as this is required by the built in algorithms provided by Amazon. Also, for the train and\n",
    "# validation data, it is assumed that the first entry in each row is the target variable.\n",
    "\n",
    "X_test.to_csv(os.path.join(data_dir, 'test.csv'), header=False, index=False)\n",
    "\n",
    "pd.concat([Y_val, X_val], axis=1).to_csv(os.path.join(data_dir, 'validation.csv'), header=False, index=False)\n",
    "pd.concat([Y_train, X_train], axis=1).to_csv(os.path.join(data_dir, 'train.csv'), header=False, index=False)"
   ]
  },
  {
   "cell_type": "markdown",
   "metadata": {},
   "source": [
    "### Upload to S3\n",
    "\n",
    "Since we are currently running inside of a SageMaker session, we can use the object which represents this session to upload our data to the 'default' S3 bucket. Note that it is good practice to provide a custom prefix (essentially an S3 folder) to make sure that you don't accidentally interfere with data uploaded from some other notebook or project."
   ]
  },
  {
   "cell_type": "code",
   "execution_count": 7,
   "metadata": {},
   "outputs": [
    {
     "name": "stderr",
     "output_type": "stream",
     "text": [
      "INFO:sagemaker:Created S3 bucket: sagemaker-us-east-1-440180731255\n"
     ]
    }
   ],
   "source": [
    "prefix = 'boston-xgboost-HL'\n",
    "\n",
    "test_location = session.upload_data(os.path.join(data_dir, 'test.csv'), key_prefix=prefix)\n",
    "val_location = session.upload_data(os.path.join(data_dir, 'validation.csv'), key_prefix=prefix)\n",
    "train_location = session.upload_data(os.path.join(data_dir, 'train.csv'), key_prefix=prefix)"
   ]
  },
  {
   "cell_type": "markdown",
   "metadata": {},
   "source": [
    "## Step 4: Train the XGBoost model\n",
    "\n",
    "Now that we have the training and validation data uploaded to S3, we can construct our XGBoost model and train it. Unlike in the previous notebooks, instead of training a single model, we will use SageMakers hyperparameter tuning functionality to train multiple models and use the one that performs the best on the validation set.\n",
    "\n",
    "To begin with, as in the previous approaches, we will need to construct an estimator object."
   ]
  },
  {
   "cell_type": "code",
   "execution_count": 8,
   "metadata": {},
   "outputs": [],
   "source": [
    "# As stated above, we use this utility method to construct the image name for the training container.\n",
    "container = get_image_uri(session.boto_region_name, 'xgboost')\n",
    "\n",
    "# Now that we know which container to use, we can construct the estimator object.\n",
    "xgb = sagemaker.estimator.Estimator(container, # The name of the training container\n",
    "                                    role,      # The IAM role to use (our current role in this case)\n",
    "                                    train_instance_count=1, # The number of instances to use for training\n",
    "                                    train_instance_type='ml.m4.xlarge', # The type of instance ot use for training\n",
    "                                    output_path='s3://{}/{}/output'.format(session.default_bucket(), prefix),\n",
    "                                                                        # Where to save the output (the model artifacts)\n",
    "                                    sagemaker_session=session) # The current SageMaker session"
   ]
  },
  {
   "cell_type": "markdown",
   "metadata": {},
   "source": [
    "Before beginning the hyperparameter tuning, we should make sure to set any model specific hyperparameters that we wish to have default values. There are quite a few that can be set when using the XGBoost algorithm, below are just a few of them. If you would like to change the hyperparameters below or modify additional ones you can find additional information on the [XGBoost hyperparameter page](https://docs.aws.amazon.com/sagemaker/latest/dg/xgboost_hyperparameters.html)"
   ]
  },
  {
   "cell_type": "code",
   "execution_count": 9,
   "metadata": {},
   "outputs": [],
   "source": [
    "xgb.set_hyperparameters(max_depth=5,\n",
    "                        eta=0.2,\n",
    "                        gamma=4,\n",
    "                        min_child_weight=6,\n",
    "                        subsample=0.8,\n",
    "                        objective='reg:linear',\n",
    "                        early_stopping_rounds=10,\n",
    "                        num_round=200)"
   ]
  },
  {
   "cell_type": "markdown",
   "metadata": {},
   "source": [
    "Now that we have our estimator object completely set up, it is time to create the hyperparameter tuner. To do this we need to construct a new object which contains each of the parameters we want to SageMaker to tune. In this case, we wish to find the best values for the `max_depth`, `eta`, `min_child_weight`, `subsample`, and `gamma` parameters. Note that for each parameter that we want SageMaker to tune we need to specify both the *type* of the parameter and the *range* of values that parameter may take on."
   ]
  },
  {
   "cell_type": "code",
   "execution_count": 10,
   "metadata": {},
   "outputs": [],
   "source": [
    "from sagemaker.tuner import IntegerParameter, ContinuousParameter, HyperparameterTuner\n",
    "\n",
    "xgb_hyperparameter_tuner = HyperparameterTuner(estimator = xgb, # The estimator object to use as the basis for the training jobs.\n",
    "                                               objective_metric_name = 'validation:rmse', # The metric used to compare trained models.\n",
    "                                               objective_type = 'Minimize', # Whether we wish to minimize or maximize the metric.\n",
    "                                               max_jobs = 20, # The total number of models to train\n",
    "                                               max_parallel_jobs = 3, # The number of models to train in parallel\n",
    "                                               hyperparameter_ranges = {\n",
    "                                                    'max_depth': IntegerParameter(3, 12),\n",
    "                                                    'eta'      : ContinuousParameter(0.05, 0.5),\n",
    "                                                    'min_child_weight': IntegerParameter(2, 8),\n",
    "                                                    'subsample': ContinuousParameter(0.5, 0.9),\n",
    "                                                    'gamma': ContinuousParameter(0, 10),\n",
    "                                               })"
   ]
  },
  {
   "cell_type": "markdown",
   "metadata": {},
   "source": [
    "Now that we have our hyperparameter tuner object completely set up, it is time to train it. To do this we make sure that SageMaker knows our input data is in csv format and then execute the `fit` method."
   ]
  },
  {
   "cell_type": "code",
   "execution_count": 12,
   "metadata": {},
   "outputs": [
    {
     "name": "stderr",
     "output_type": "stream",
     "text": [
      "INFO:sagemaker:Creating hyperparameter tuning job with name: xgboost-181011-0556\n"
     ]
    }
   ],
   "source": [
    "s3_input_train = sagemaker.s3_input(s3_data=train_location, content_type='csv')\n",
    "s3_input_validation = sagemaker.s3_input(s3_data=val_location, content_type='csv')\n",
    "\n",
    "xgb_hyperparameter_tuner.fit({'train': s3_input_train, 'validation': s3_input_validation})"
   ]
  },
  {
   "cell_type": "markdown",
   "metadata": {},
   "source": [
    "As in many of the examples we have seen so far, the `fit()` method takes care of setting up and fitting a number of different models, each with different hyperparameters. If we wish to wait for this process to finish, we can call the `wait()` method."
   ]
  },
  {
   "cell_type": "code",
   "execution_count": 13,
   "metadata": {},
   "outputs": [
    {
     "name": "stdout",
     "output_type": "stream",
     "text": [
      "......................................................................................................................................................................................................................................................................!\n"
     ]
    }
   ],
   "source": [
    "xgb_hyperparameter_tuner.wait()"
   ]
  },
  {
   "cell_type": "markdown",
   "metadata": {},
   "source": [
    "Once the hyperamater tuner has finished, we can retrieve information about the best performing model. "
   ]
  },
  {
   "cell_type": "code",
   "execution_count": 14,
   "metadata": {},
   "outputs": [
    {
     "data": {
      "text/plain": [
       "'xgboost-181011-0556-015-d5928e01'"
      ]
     },
     "execution_count": 14,
     "metadata": {},
     "output_type": "execute_result"
    }
   ],
   "source": [
    "xgb_hyperparameter_tuner.best_training_job()"
   ]
  },
  {
   "cell_type": "markdown",
   "metadata": {},
   "source": [
    "In addition, since we'd like to set up a batch transform job to test the best model, we can construct a new estimator object from the results of the best training job. The `xgb_attached` object below can now be used as though we constructed an estimator with the best performing hyperparameters and then fit it to our training data."
   ]
  },
  {
   "cell_type": "code",
   "execution_count": 15,
   "metadata": {},
   "outputs": [
    {
     "name": "stdout",
     "output_type": "stream",
     "text": [
      "2018-10-11 06:09:36 Starting - Preparing the instances for training\n",
      "2018-10-11 06:11:28 Downloading - Downloading input data\n",
      "2018-10-11 06:11:50 Training - Training image download completed. Training in progress.\n",
      "2018-10-11 06:12:17 Uploading - Uploading generated training model\n",
      "2018-10-11 06:12:20 Completed - Training job completed\u001b[31mArguments: train\u001b[0m\n",
      "\u001b[31m[2018-10-11:06:12:16:INFO] Running standalone xgboost training.\u001b[0m\n",
      "\u001b[31m[2018-10-11:06:12:16:INFO] Setting up HPO optimized metric to be : rmse\u001b[0m\n",
      "\u001b[31m[2018-10-11:06:12:16:INFO] File size need to be processed in the node: 0.02mb. Available memory size in the node: 8401.49mb\u001b[0m\n",
      "\u001b[31m[2018-10-11:06:12:16:INFO] Determined delimiter of CSV input is ','\u001b[0m\n",
      "\u001b[31m[06:12:16] S3DistributionType set as FullyReplicated\u001b[0m\n",
      "\u001b[31m[06:12:16] 227x13 matrix with 2951 entries loaded from /opt/ml/input/data/train?format=csv&label_column=0&delimiter=,\u001b[0m\n",
      "\u001b[31m[2018-10-11:06:12:16:INFO] Determined delimiter of CSV input is ','\u001b[0m\n",
      "\u001b[31m[06:12:16] S3DistributionType set as FullyReplicated\u001b[0m\n",
      "\u001b[31m[06:12:16] 112x13 matrix with 1456 entries loaded from /opt/ml/input/data/validation?format=csv&label_column=0&delimiter=,\u001b[0m\n",
      "\u001b[31m[0]#011train-rmse:20.7214#011validation-rmse:22.4962\u001b[0m\n",
      "\u001b[31mMultiple eval metrics have been passed: 'validation-rmse' will be used for early stopping.\n",
      "\u001b[0m\n",
      "\u001b[31mWill train until validation-rmse hasn't improved in 10 rounds.\u001b[0m\n",
      "\u001b[31m[1]#011train-rmse:18.7506#011validation-rmse:20.4491\u001b[0m\n",
      "\u001b[31m[2]#011train-rmse:16.9722#011validation-rmse:18.5527\u001b[0m\n",
      "\u001b[31m[3]#011train-rmse:15.3956#011validation-rmse:16.8875\u001b[0m\n",
      "\u001b[31m[4]#011train-rmse:13.929#011validation-rmse:15.4526\u001b[0m\n",
      "\u001b[31m[06:12:16] src/tree/updater_prune.cc:74: tree pruning end, 1 roots, 10 extra nodes, 0 pruned nodes, max_depth=4\u001b[0m\n",
      "\u001b[31m[06:12:16] src/tree/updater_prune.cc:74: tree pruning end, 1 roots, 6 extra nodes, 0 pruned nodes, max_depth=3\u001b[0m\n",
      "\u001b[31m[06:12:16] src/tree/updater_prune.cc:74: tree pruning end, 1 roots, 8 extra nodes, 0 pruned nodes, max_depth=3\u001b[0m\n",
      "\u001b[31m[06:12:16] src/tree/updater_prune.cc:74: tree pruning end, 1 roots, 10 extra nodes, 0 pruned nodes, max_depth=3\u001b[0m\n",
      "\u001b[31m[06:12:16] src/tree/updater_prune.cc:74: tree pruning end, 1 roots, 10 extra nodes, 0 pruned nodes, max_depth=3\u001b[0m\n",
      "\u001b[31m[06:12:16] src/tree/updater_prune.cc:74: tree pruning end, 1 roots, 14 extra nodes, 0 pruned nodes, max_depth=5\u001b[0m\n",
      "\u001b[31m[5]#011train-rmse:12.6617#011validation-rmse:14.1778\u001b[0m\n",
      "\u001b[31m[06:12:16] src/tree/updater_prune.cc:74: tree pruning end, 1 roots, 10 extra nodes, 0 pruned nodes, max_depth=4\u001b[0m\n",
      "\u001b[31m[6]#011train-rmse:11.5116#011validation-rmse:13.0015\u001b[0m\n",
      "\u001b[31m[06:12:16] src/tree/updater_prune.cc:74: tree pruning end, 1 roots, 12 extra nodes, 0 pruned nodes, max_depth=4\u001b[0m\n",
      "\u001b[31m[7]#011train-rmse:10.4742#011validation-rmse:11.9409\u001b[0m\n",
      "\u001b[31m[06:12:16] src/tree/updater_prune.cc:74: tree pruning end, 1 roots, 10 extra nodes, 0 pruned nodes, max_depth=4\u001b[0m\n",
      "\u001b[31m[8]#011train-rmse:9.55946#011validation-rmse:10.9985\u001b[0m\n",
      "\u001b[31m[06:12:16] src/tree/updater_prune.cc:74: tree pruning end, 1 roots, 14 extra nodes, 2 pruned nodes, max_depth=4\u001b[0m\n",
      "\u001b[31m[9]#011train-rmse:8.73849#011validation-rmse:10.2545\u001b[0m\n",
      "\u001b[31m[06:12:16] src/tree/updater_prune.cc:74: tree pruning end, 1 roots, 12 extra nodes, 2 pruned nodes, max_depth=4\u001b[0m\n",
      "\u001b[31m[10]#011train-rmse:7.96148#011validation-rmse:9.46405\u001b[0m\n",
      "\u001b[31m[06:12:16] src/tree/updater_prune.cc:74: tree pruning end, 1 roots, 26 extra nodes, 0 pruned nodes, max_depth=7\u001b[0m\n",
      "\u001b[31m[11]#011train-rmse:7.26513#011validation-rmse:8.84866\u001b[0m\n",
      "\u001b[31m[06:12:16] src/tree/updater_prune.cc:74: tree pruning end, 1 roots, 24 extra nodes, 2 pruned nodes, max_depth=6\u001b[0m\n",
      "\u001b[31m[12]#011train-rmse:6.64402#011validation-rmse:8.25591\u001b[0m\n",
      "\u001b[31m[06:12:16] src/tree/updater_prune.cc:74: tree pruning end, 1 roots, 18 extra nodes, 2 pruned nodes, max_depth=6\u001b[0m\n",
      "\u001b[31m[13]#011train-rmse:6.09591#011validation-rmse:7.75116\u001b[0m\n",
      "\u001b[31m[06:12:16] src/tree/updater_prune.cc:74: tree pruning end, 1 roots, 28 extra nodes, 2 pruned nodes, max_depth=6\u001b[0m\n",
      "\u001b[31m[14]#011train-rmse:5.61668#011validation-rmse:7.34941\u001b[0m\n",
      "\u001b[31m[06:12:16] src/tree/updater_prune.cc:74: tree pruning end, 1 roots, 26 extra nodes, 6 pruned nodes, max_depth=6\u001b[0m\n",
      "\u001b[31m[15]#011train-rmse:5.17377#011validation-rmse:6.95908\u001b[0m\n",
      "\u001b[31m[06:12:16] src/tree/updater_prune.cc:74: tree pruning end, 1 roots, 20 extra nodes, 4 pruned nodes, max_depth=5\u001b[0m\n",
      "\u001b[31m[16]#011train-rmse:4.78398#011validation-rmse:6.64512\u001b[0m\n",
      "\u001b[31m[06:12:16] src/tree/updater_prune.cc:74: tree pruning end, 1 roots, 30 extra nodes, 4 pruned nodes, max_depth=9\u001b[0m\n",
      "\u001b[31m[17]#011train-rmse:4.42179#011validation-rmse:6.36535\u001b[0m\n",
      "\u001b[31m[06:12:16] src/tree/updater_prune.cc:74: tree pruning end, 1 roots, 24 extra nodes, 12 pruned nodes, max_depth=7\u001b[0m\n",
      "\u001b[31m[18]#011train-rmse:4.08944#011validation-rmse:6.13031\u001b[0m\n",
      "\u001b[31m[06:12:16] src/tree/updater_prune.cc:74: tree pruning end, 1 roots, 28 extra nodes, 2 pruned nodes, max_depth=9\u001b[0m\n",
      "\u001b[31m[19]#011train-rmse:3.78988#011validation-rmse:5.94227\u001b[0m\n",
      "\u001b[31m[06:12:16] src/tree/updater_prune.cc:74: tree pruning end, 1 roots, 30 extra nodes, 6 pruned nodes, max_depth=7\u001b[0m\n",
      "\u001b[31m[20]#011train-rmse:3.51782#011validation-rmse:5.76643\u001b[0m\n",
      "\u001b[31m[06:12:16] src/tree/updater_prune.cc:74: tree pruning end, 1 roots, 20 extra nodes, 4 pruned nodes, max_depth=8\u001b[0m\n",
      "\u001b[31m[21]#011train-rmse:3.30187#011validation-rmse:5.61459\u001b[0m\n",
      "\u001b[31m[06:12:16] src/tree/updater_prune.cc:74: tree pruning end, 1 roots, 28 extra nodes, 4 pruned nodes, max_depth=7\u001b[0m\n",
      "\u001b[31m[22]#011train-rmse:3.09202#011validation-rmse:5.48295\u001b[0m\n",
      "\u001b[31m[06:12:16] src/tree/updater_prune.cc:74: tree pruning end, 1 roots, 26 extra nodes, 12 pruned nodes, max_depth=7\u001b[0m\n",
      "\u001b[31m[23]#011train-rmse:2.90229#011validation-rmse:5.37821\u001b[0m\n",
      "\u001b[31m[06:12:16] src/tree/updater_prune.cc:74: tree pruning end, 1 roots, 24 extra nodes, 4 pruned nodes, max_depth=9\u001b[0m\n",
      "\u001b[31m[24]#011train-rmse:2.73894#011validation-rmse:5.29406\u001b[0m\n",
      "\u001b[31m[06:12:16] src/tree/updater_prune.cc:74: tree pruning end, 1 roots, 28 extra nodes, 2 pruned nodes, max_depth=9\u001b[0m\n",
      "\u001b[31m[25]#011train-rmse:2.58358#011validation-rmse:5.20744\u001b[0m\n",
      "\u001b[31m[06:12:16] src/tree/updater_prune.cc:74: tree pruning end, 1 roots, 32 extra nodes, 0 pruned nodes, max_depth=9\u001b[0m\n",
      "\u001b[31m[26]#011train-rmse:2.44956#011validation-rmse:5.1761\u001b[0m\n",
      "\u001b[31m[06:12:16] src/tree/updater_prune.cc:74: tree pruning end, 1 roots, 34 extra nodes, 16 pruned nodes, max_depth=7\u001b[0m\n",
      "\u001b[31m[27]#011train-rmse:2.31241#011validation-rmse:5.12394\u001b[0m\n",
      "\u001b[31m[06:12:16] src/tree/updater_prune.cc:74: tree pruning end, 1 roots, 30 extra nodes, 16 pruned nodes, max_depth=8\u001b[0m\n",
      "\u001b[31m[28]#011train-rmse:2.20558#011validation-rmse:5.09225\u001b[0m\n",
      "\u001b[31m[06:12:16] src/tree/updater_prune.cc:74: tree pruning end, 1 roots, 26 extra nodes, 10 pruned nodes, max_depth=8\u001b[0m\n",
      "\u001b[31m[29]#011train-rmse:2.11805#011validation-rmse:5.04666\u001b[0m\n",
      "\u001b[31m[06:12:16] src/tree/updater_prune.cc:74: tree pruning end, 1 roots, 26 extra nodes, 0 pruned nodes, max_depth=9\u001b[0m\n",
      "\u001b[31m[30]#011train-rmse:2.0256#011validation-rmse:5.02305\u001b[0m\n",
      "\u001b[31m[06:12:16] src/tree/updater_prune.cc:74: tree pruning end, 1 roots, 32 extra nodes, 8 pruned nodes, max_depth=8\u001b[0m\n",
      "\u001b[31m[31]#011train-rmse:1.93202#011validation-rmse:4.98045\u001b[0m\n",
      "\u001b[31m[06:12:16] src/tree/updater_prune.cc:74: tree pruning end, 1 roots, 34 extra nodes, 4 pruned nodes, max_depth=9\u001b[0m\n",
      "\u001b[31m[32]#011train-rmse:1.84348#011validation-rmse:4.9736\u001b[0m\n",
      "\u001b[31m[06:12:16] src/tree/updater_prune.cc:74: tree pruning end, 1 roots, 26 extra nodes, 10 pruned nodes, max_depth=8\u001b[0m\n",
      "\u001b[31m[33]#011train-rmse:1.78114#011validation-rmse:4.93574\u001b[0m\n",
      "\u001b[31m[06:12:16] src/tree/updater_prune.cc:74: tree pruning end, 1 roots, 24 extra nodes, 6 pruned nodes, max_depth=9\u001b[0m\n",
      "\u001b[31m[34]#011train-rmse:1.72209#011validation-rmse:4.89967\u001b[0m\n",
      "\u001b[31m[06:12:16] src/tree/updater_prune.cc:74: tree pruning end, 1 roots, 26 extra nodes, 12 pruned nodes, max_depth=6\u001b[0m\n",
      "\u001b[31m[35]#011train-rmse:1.66158#011validation-rmse:4.87545\u001b[0m\n",
      "\u001b[31m[06:12:16] src/tree/updater_prune.cc:74: tree pruning end, 1 roots, 24 extra nodes, 20 pruned nodes, max_depth=6\u001b[0m\n",
      "\u001b[31m[36]#011train-rmse:1.60858#011validation-rmse:4.84253\u001b[0m\n",
      "\u001b[31m[06:12:16] src/tree/updater_prune.cc:74: tree pruning end, 1 roots, 26 extra nodes, 16 pruned nodes, max_depth=6\u001b[0m\n",
      "\u001b[31m[37]#011train-rmse:1.55994#011validation-rmse:4.8482\u001b[0m\n",
      "\u001b[31m[06:12:16] src/tree/updater_prune.cc:74: tree pruning end, 1 roots, 24 extra nodes, 20 pruned nodes, max_depth=8\u001b[0m\n",
      "\u001b[31m[38]#011train-rmse:1.52108#011validation-rmse:4.85287\u001b[0m\n",
      "\u001b[31m[06:12:16] src/tree/updater_prune.cc:74: tree pruning end, 1 roots, 24 extra nodes, 10 pruned nodes, max_depth=9\u001b[0m\n",
      "\u001b[31m[39]#011train-rmse:1.48325#011validation-rmse:4.84564\u001b[0m\n",
      "\u001b[31m[06:12:16] src/tree/updater_prune.cc:74: tree pruning end, 1 roots, 22 extra nodes, 14 pruned nodes, max_depth=8\u001b[0m\n",
      "\u001b[31m[40]#011train-rmse:1.45023#011validation-rmse:4.83341\u001b[0m\n",
      "\u001b[31m[06:12:16] src/tree/updater_prune.cc:74: tree pruning end, 1 roots, 22 extra nodes, 18 pruned nodes, max_depth=6\u001b[0m\n",
      "\u001b[31m[41]#011train-rmse:1.41073#011validation-rmse:4.82003\u001b[0m\n",
      "\u001b[31m[06:12:16] src/tree/updater_prune.cc:74: tree pruning end, 1 roots, 26 extra nodes, 20 pruned nodes, max_depth=7\u001b[0m\n",
      "\u001b[31m[42]#011train-rmse:1.37971#011validation-rmse:4.80769\u001b[0m\n",
      "\u001b[31m[06:12:16] src/tree/updater_prune.cc:74: tree pruning end, 1 roots, 28 extra nodes, 10 pruned nodes, max_depth=8\u001b[0m\n",
      "\u001b[31m[43]#011train-rmse:1.34136#011validation-rmse:4.8104\u001b[0m\n",
      "\u001b[31m[06:12:16] src/tree/updater_prune.cc:74: tree pruning end, 1 roots, 22 extra nodes, 18 pruned nodes, max_depth=7\u001b[0m\n",
      "\u001b[31m[44]#011train-rmse:1.30451#011validation-rmse:4.80989\u001b[0m\n",
      "\u001b[31m[06:12:16] src/tree/updater_prune.cc:74: tree pruning end, 1 roots, 20 extra nodes, 20 pruned nodes, max_depth=6\u001b[0m\n",
      "\u001b[31m[45]#011train-rmse:1.28298#011validation-rmse:4.7941\u001b[0m\n",
      "\u001b[31m[06:12:16] src/tree/updater_prune.cc:74: tree pruning end, 1 roots, 22 extra nodes, 14 pruned nodes, max_depth=8\u001b[0m\n",
      "\u001b[31m[46]#011train-rmse:1.26121#011validation-rmse:4.78348\u001b[0m\n",
      "\u001b[31m[06:12:16] src/tree/updater_prune.cc:74: tree pruning end, 1 roots, 16 extra nodes, 22 pruned nodes, max_depth=6\u001b[0m\n",
      "\u001b[31m[47]#011train-rmse:1.24469#011validation-rmse:4.78771\u001b[0m\n",
      "\u001b[31m[06:12:16] src/tree/updater_prune.cc:74: tree pruning end, 1 roots, 20 extra nodes, 14 pruned nodes, max_depth=8\u001b[0m\n",
      "\u001b[31m[48]#011train-rmse:1.22064#011validation-rmse:4.79331\u001b[0m\n",
      "\u001b[31m[06:12:16] src/tree/updater_prune.cc:74: tree pruning end, 1 roots, 18 extra nodes, 24 pruned nodes, max_depth=6\u001b[0m\n",
      "\u001b[31m[49]#011train-rmse:1.19605#011validation-rmse:4.79599\u001b[0m\n",
      "\u001b[31m[06:12:16] src/tree/updater_prune.cc:74: tree pruning end, 1 roots, 18 extra nodes, 20 pruned nodes, max_depth=6\u001b[0m\n",
      "\u001b[31m[50]#011train-rmse:1.18205#011validation-rmse:4.79698\u001b[0m\n",
      "\u001b[31m[06:12:16] src/tree/updater_prune.cc:74: tree pruning end, 1 roots, 20 extra nodes, 18 pruned nodes, max_depth=7\u001b[0m\n",
      "\u001b[31m[51]#011train-rmse:1.16448#011validation-rmse:4.79137\u001b[0m\n",
      "\u001b[31m[06:12:16] src/tree/updater_prune.cc:74: tree pruning end, 1 roots, 20 extra nodes, 22 pruned nodes, max_depth=6\u001b[0m\n",
      "\u001b[31m[52]#011train-rmse:1.1491#011validation-rmse:4.77641\u001b[0m\n",
      "\u001b[31m[06:12:16] src/tree/updater_prune.cc:74: tree pruning end, 1 roots, 20 extra nodes, 24 pruned nodes, max_depth=7\u001b[0m\n",
      "\u001b[31m[53]#011train-rmse:1.12153#011validation-rmse:4.77117\u001b[0m\n",
      "\u001b[31m[06:12:16] src/tree/updater_prune.cc:74: tree pruning end, 1 roots, 12 extra nodes, 28 pruned nodes, max_depth=4\u001b[0m\n",
      "\u001b[31m[54]#011train-rmse:1.10877#011validation-rmse:4.75198\u001b[0m\n",
      "\u001b[31m[06:12:16] src/tree/updater_prune.cc:74: tree pruning end, 1 roots, 18 extra nodes, 14 pruned nodes, max_depth=7\u001b[0m\n",
      "\u001b[31m[55]#011train-rmse:1.09472#011validation-rmse:4.75035\u001b[0m\n",
      "\u001b[31m[06:12:16] src/tree/updater_prune.cc:74: tree pruning end, 1 roots, 16 extra nodes, 22 pruned nodes, max_depth=6\u001b[0m\n",
      "\u001b[31m[56]#011train-rmse:1.08111#011validation-rmse:4.75024\u001b[0m\n",
      "\u001b[31m[06:12:16] src/tree/updater_prune.cc:74: tree pruning end, 1 roots, 22 extra nodes, 8 pruned nodes, max_depth=9\u001b[0m\n",
      "\u001b[31m[57]#011train-rmse:1.06185#011validation-rmse:4.76657\u001b[0m\n",
      "\u001b[31m[06:12:16] src/tree/updater_prune.cc:74: tree pruning end, 1 roots, 18 extra nodes, 4 pruned nodes, max_depth=9\u001b[0m\n",
      "\u001b[31m[58]#011train-rmse:1.05015#011validation-rmse:4.77194\u001b[0m\n",
      "\u001b[31m[06:12:16] src/tree/updater_prune.cc:74: tree pruning end, 1 roots, 14 extra nodes, 26 pruned nodes, max_depth=5\u001b[0m\n",
      "\u001b[31m[59]#011train-rmse:1.04229#011validation-rmse:4.76886\u001b[0m\n",
      "\u001b[31m[06:12:16] src/tree/updater_prune.cc:74: tree pruning end, 1 roots, 18 extra nodes, 24 pruned nodes, max_depth=6\u001b[0m\n",
      "\u001b[31m[60]#011train-rmse:1.03218#011validation-rmse:4.76635\u001b[0m\n",
      "\u001b[31m[06:12:16] src/tree/updater_prune.cc:74: tree pruning end, 1 roots, 12 extra nodes, 24 pruned nodes, max_depth=4\u001b[0m\n",
      "\u001b[31m[61]#011train-rmse:1.01945#011validation-rmse:4.77187\u001b[0m\n",
      "\u001b[31m[06:12:16] src/tree/updater_prune.cc:74: tree pruning end, 1 roots, 16 extra nodes, 12 pruned nodes, max_depth=7\u001b[0m\n",
      "\u001b[31m[62]#011train-rmse:1.00903#011validation-rmse:4.77419\u001b[0m\n",
      "\u001b[31m[06:12:16] src/tree/updater_prune.cc:74: tree pruning end, 1 roots, 14 extra nodes, 16 pruned nodes, max_depth=6\u001b[0m\n",
      "\u001b[31m[63]#011train-rmse:1.00316#011validation-rmse:4.78459\u001b[0m\n",
      "\u001b[31m[06:12:16] src/tree/updater_prune.cc:74: tree pruning end, 1 roots, 14 extra nodes, 12 pruned nodes, max_depth=6\u001b[0m\n",
      "\u001b[31m[64]#011train-rmse:0.991138#011validation-rmse:4.7847\u001b[0m\n",
      "\u001b[31m[06:12:16] src/tree/updater_prune.cc:74: tree pruning end, 1 roots, 14 extra nodes, 20 pruned nodes, max_depth=5\u001b[0m\n",
      "\u001b[31m[65]#011train-rmse:0.981539#011validation-rmse:4.78161\u001b[0m\n",
      "\u001b[31m[06:12:16] src/tree/updater_prune.cc:74: tree pruning end, 1 roots, 16 extra nodes, 26 pruned nodes, max_depth=5\u001b[0m\n",
      "\u001b[31m[66]#011train-rmse:0.969849#011validation-rmse:4.78588\u001b[0m\n",
      "\u001b[31mStopping. Best iteration:\u001b[0m\n",
      "\u001b[31m[56]#011train-rmse:1.08111#011validation-rmse:4.75024\n",
      "\u001b[0m\n",
      "Billable seconds: 53\n"
     ]
    }
   ],
   "source": [
    "xgb_attached = sagemaker.estimator.Estimator.attach(xgb_hyperparameter_tuner.best_training_job())"
   ]
  },
  {
   "cell_type": "markdown",
   "metadata": {},
   "source": [
    "## Step 5: Test the model\n",
    "\n",
    "Now that we have our best performing model, we can test it. To do this we will use the batch transform functionality. To start with, we need to build a transformer object from our fit model."
   ]
  },
  {
   "cell_type": "code",
   "execution_count": 16,
   "metadata": {},
   "outputs": [
    {
     "name": "stderr",
     "output_type": "stream",
     "text": [
      "INFO:sagemaker:Creating model with name: xgboost-181011-0556-015-d5928e01\n"
     ]
    }
   ],
   "source": [
    "xgb_transformer = xgb_attached.transformer(instance_count = 1, instance_type = 'ml.m4.xlarge')"
   ]
  },
  {
   "cell_type": "markdown",
   "metadata": {},
   "source": [
    "Next we ask SageMaker to begin a batch transform job using our trained model and applying it to the test data we previous stored in S3. We need to make sure to provide SageMaker with the type of data that we are providing to our model, in our case `text/csv`, so that it knows how to serialize our data. In addition, we need to make sure to let SageMaker know how to split our data up into chunks if the entire data set happens to be too large to send to our model all at once.\n",
    "\n",
    "Note that when we ask SageMaker to do this it will execute the batch transform job in the background. Since we need to wait for the results of this job before we can continue, we use the `wait()` method. An added benefit of this is that we get some output from our batch transform job which lets us know if anything went wrong."
   ]
  },
  {
   "cell_type": "code",
   "execution_count": 17,
   "metadata": {},
   "outputs": [
    {
     "name": "stderr",
     "output_type": "stream",
     "text": [
      "INFO:sagemaker:Created S3 bucket: sagemaker-us-east-1-440180731255\n",
      "INFO:sagemaker:Creating transform job with name: xgboost-181011-0556-015-d5928e01-2018-10-11-06-20-13-524\n"
     ]
    }
   ],
   "source": [
    "xgb_transformer.transform(test_location, content_type='text/csv', split_type='Line')"
   ]
  },
  {
   "cell_type": "code",
   "execution_count": 18,
   "metadata": {},
   "outputs": [
    {
     "name": "stdout",
     "output_type": "stream",
     "text": [
      ".....................................!\n"
     ]
    }
   ],
   "source": [
    "xgb_transformer.wait()"
   ]
  },
  {
   "cell_type": "markdown",
   "metadata": {},
   "source": [
    "Now that the batch transform job has finished, the resulting output is stored on S3. Since we wish to analyze the output inside of our notebook we can use a bit of notebook magic to copy the output file from its S3 location and save it locally."
   ]
  },
  {
   "cell_type": "code",
   "execution_count": 19,
   "metadata": {},
   "outputs": [
    {
     "name": "stdout",
     "output_type": "stream",
     "text": [
      "Completed 2.3 KiB/2.3 KiB (14.7 KiB/s) with 1 file(s) remaining\r",
      "download: s3://sagemaker-us-east-1-440180731255/xgboost-181011-0556-015-d5928e01-2018-10-11-06-20-13-524/test.csv.out to ../data/boston/test.csv.out\r\n"
     ]
    }
   ],
   "source": [
    "!aws s3 cp --recursive $xgb_transformer.output_path $data_dir"
   ]
  },
  {
   "cell_type": "markdown",
   "metadata": {},
   "source": [
    "To see how well our model works we can create a simple scatter plot between the predicted and actual values. If the model was completely accurate the resulting scatter plot would look like the line $x=y$. As we can see, our model seems to have done okay but there is room for improvement."
   ]
  },
  {
   "cell_type": "code",
   "execution_count": 20,
   "metadata": {},
   "outputs": [],
   "source": [
    "Y_pred = pd.read_csv(os.path.join(data_dir, 'test.csv.out'), header=None)"
   ]
  },
  {
   "cell_type": "code",
   "execution_count": 21,
   "metadata": {},
   "outputs": [
    {
     "data": {
      "text/plain": [
       "Text(0.5,1,'Median Price vs Predicted Price')"
      ]
     },
     "execution_count": 21,
     "metadata": {},
     "output_type": "execute_result"
    },
    {
     "data": {
      "image/png": "[encoded data removed]",
      "text/plain": [
       "<Figure size 432x288 with 1 Axes>"
      ]
     },
     "metadata": {},
     "output_type": "display_data"
    }
   ],
   "source": [
    "plt.scatter(Y_test, Y_pred)\n",
    "plt.xlabel(\"Median Price\")\n",
    "plt.ylabel(\"Predicted Price\")\n",
    "plt.title(\"Median Price vs Predicted Price\")"
   ]
  },
  {
   "cell_type": "markdown",
   "metadata": {},
   "source": [
    "## Optional: Clean up\n",
    "\n",
    "The default notebook instance on SageMaker doesn't have a lot of excess disk space available. As you continue to complete and execute notebooks you will eventually fill up this disk space, leading to errors which can be difficult to diagnose. Once you are completely finished using a notebook it is a good idea to remove the files that you created along the way. Of course, you can do this from the terminal or from the notebook hub if you would like. The cell below contains some commands to clean up the created files from within the notebook."
   ]
  },
  {
   "cell_type": "code",
   "execution_count": 22,
   "metadata": {},
   "outputs": [],
   "source": [
    "# First we will remove all of the files contained in the data_dir directory\n",
    "!rm $data_dir/*\n",
    "\n",
    "# And then we delete the directory itself\n",
    "!rmdir $data_dir"
   ]
  },
  {
   "cell_type": "code",
   "execution_count": null,
   "metadata": {},
   "outputs": [],
   "source": []
  }
 ],
 "metadata": {
  "kernelspec": {
   "display_name": "conda_pytorch_p36",
   "language": "python",
   "name": "conda_pytorch_p36"
  },
  "language_info": {
   "codemirror_mode": {
    "name": "ipython",
    "version": 3
   },
   "file_extension": ".py",
   "mimetype": "text/x-python",
   "name": "python",
   "nbconvert_exporter": "python",
   "pygments_lexer": "ipython3",
   "version": "3.6.5"
  }
 },
 "nbformat": 4,
 "nbformat_minor": 2
}
